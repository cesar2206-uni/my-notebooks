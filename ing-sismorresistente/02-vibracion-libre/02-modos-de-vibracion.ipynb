{
 "cells": [
  {
   "cell_type": "markdown",
   "metadata": {},
   "source": [
    "# II. Modos de Vibración"
   ]
  },
  {
   "cell_type": "markdown",
   "metadata": {},
   "source": [
    "## 1. Librerías"
   ]
  },
  {
   "cell_type": "code",
   "execution_count": 1,
   "metadata": {},
   "outputs": [],
   "source": [
    "import numpy as np\n",
    "np.set_printoptions(formatter = {'float': lambda x: '{0:0.3f}'.format(x)})\n",
    "\n",
    "import matplotlib.pyplot as plt\n",
    "\n",
    "from tabulate import tabulate"
   ]
  },
  {
   "cell_type": "markdown",
   "metadata": {},
   "source": [
    "## 2. Grados de Libertad"
   ]
  },
  {
   "cell_type": "code",
   "execution_count": 2,
   "metadata": {},
   "outputs": [
    {
     "output_type": "stream",
     "name": "stdout",
     "text": [
      "* El modelo es de 2 GDL.\n"
     ]
    }
   ],
   "source": [
    "while True:\n",
    "    try:\n",
    "        gdl = int(input('* Ingrese el número de grados de libertad: '))\n",
    "        break\n",
    "    except ValueError:\n",
    "        print('! Ingrese un número de GDL válido.\\n')\n",
    "\n",
    "print(f'* El modelo es de {gdl} GDL.')"
   ]
  },
  {
   "cell_type": "markdown",
   "metadata": {},
   "source": [
    "## 3. Matriz de Rigidez"
   ]
  },
  {
   "cell_type": "markdown",
   "metadata": {},
   "source": [
    "### 3.1 Rigideces de Entrepiso"
   ]
  },
  {
   "cell_type": "code",
   "execution_count": 3,
   "metadata": {},
   "outputs": [
    {
     "output_type": "stream",
     "name": "stdout",
     "text": [
      "\n",
      "> Rigidez K1 = 15555.6 N/m\n",
      "\n",
      "> Rigidez K2 = 8717.9 N/m\n"
     ]
    }
   ],
   "source": [
    "k = np.empty(gdl)\n",
    "\n",
    "for i in range(gdl):\n",
    "    while True:\n",
    "        try:\n",
    "            k[i] = float(input(f'* Rigidez K{i + 1} (N/m): '))\n",
    "            print(f'\\n> Rigidez K{i + 1} = {k[i]} N/m')\n",
    "            break\n",
    "        except ValueError:\n",
    "            print(f'\\n! Ingrese un valor de K{i + 1} válido.')"
   ]
  },
  {
   "cell_type": "markdown",
   "metadata": {},
   "source": [
    "### 3.2 Formulación de la Matriz de Rigidez"
   ]
  },
  {
   "cell_type": "code",
   "execution_count": 4,
   "metadata": {},
   "outputs": [],
   "source": [
    "K = np.zeros((gdl, gdl))\n",
    "\n",
    "for i in range(gdl):\n",
    "    ## Cálculo de rigideces\n",
    "\n",
    "    # Rigidez actual\n",
    "    k1 = k[i]\n",
    "\n",
    "    # Rigidez posterior\n",
    "    try:\n",
    "        k2 = k[i + 1]\n",
    "    except IndexError:\n",
    "        k2 = 0\n",
    "\n",
    "    ## Llenado de la matriz\n",
    "\n",
    "    # Posición actual\n",
    "    K[i, i] = k1 + k2\n",
    "\n",
    "    # Posición derecha\n",
    "    if i + 1 < gdl:\n",
    "        K[i, i + 1] = -k2\n",
    "\n",
    "    # Posición izquierda\n",
    "    if i - 1 >= 0:\n",
    "        K[i, i - 1] = -k1"
   ]
  },
  {
   "cell_type": "markdown",
   "metadata": {},
   "source": [
    "* Matriz de Rigidez:\n",
    "\n",
    "$$\n",
    "\\textbf{K} = \n",
    " \\begin{pmatrix}\n",
    "  K_1 + K_2 & -K_2 & 0 & \\cdots & 0 & 0  \\\\\n",
    "  -K_2 & K_2 + K_3 & - K_3 & \\cdots & 0  & 0 \\\\\n",
    "  0 & - K_3 &  K_3 + K_4 & \\cdots & 0  & 0 \\\\\n",
    "  \\vdots  & \\vdots  & \\vdots  & \\ddots & \\vdots  & \\vdots   \\\\\n",
    "  0 & 0 &  0 & \\cdots & K_{i-1} + K_{i} & -K_{i}\\\\\n",
    "  0 & 0 &  0 & \\cdots & -K_i & -K_{i}\n",
    " \\end{pmatrix}\n",
    " $$"
   ]
  },
  {
   "cell_type": "markdown",
   "metadata": {},
   "source": [
    "### 3.3 Representación de la Matriz de Rigidez"
   ]
  },
  {
   "cell_type": "code",
   "execution_count": 5,
   "metadata": {},
   "outputs": [
    {
     "output_type": "stream",
     "name": "stdout",
     "text": [
      "• Matriz K =\n\n╒═════════╤═════════╕\n│ 24273.5 │ -8717.9 │\n├─────────┼─────────┤\n│ -8717.9 │  8717.9 │\n╘═════════╧═════════╛\n"
     ]
    }
   ],
   "source": [
    "K_r = tabulate(K, tablefmt = 'fancy_grid')\n",
    "\n",
    "print('• Matriz K =\\n')\n",
    "print(K_r)"
   ]
  },
  {
   "cell_type": "markdown",
   "metadata": {},
   "source": [
    "## 4. Matriz de Masas"
   ]
  },
  {
   "cell_type": "markdown",
   "metadata": {},
   "source": [
    "### 4.1 Masas Concentradas"
   ]
  },
  {
   "cell_type": "code",
   "execution_count": 6,
   "metadata": {},
   "outputs": [
    {
     "output_type": "stream",
     "name": "stdout",
     "text": [
      "\n",
      "> Masa M1 = 15.474 kg\n",
      "\n",
      "> Masa M2 = 15.025 kg\n"
     ]
    }
   ],
   "source": [
    "m = np.empty(gdl)\n",
    "\n",
    "for i in range(gdl):\n",
    "    while True:\n",
    "        try:\n",
    "            m[i] = float(input(f'* Masa M{i + 1} (kg): '))\n",
    "            print(f'\\n> Masa M{i + 1} = {m[i]} kg')\n",
    "            break\n",
    "        except ValueError:\n",
    "            print(f'\\n! Ingrese un valor de K{i + 1} válido.')"
   ]
  },
  {
   "cell_type": "markdown",
   "metadata": {},
   "source": [
    "### 4.2 Formulación de la Matriz de Masas"
   ]
  },
  {
   "cell_type": "code",
   "execution_count": 7,
   "metadata": {},
   "outputs": [],
   "source": [
    "M =  np.zeros((gdl, gdl))\n",
    "\n",
    "for i in range(gdl):\n",
    "    M[i, i] = m[i]"
   ]
  },
  {
   "cell_type": "markdown",
   "metadata": {},
   "source": [
    "* Matriz de Masas:\n",
    "\n",
    "$$\n",
    "\\textbf{M} =\n",
    "\\begin{pmatrix}\n",
    "m_1 &   0   &   \\cdots  &   0   \\\\\n",
    "0   &   m_2 &   \\cdots  &   0   \\\\\n",
    "\\vdots  &   \\vdots  &   \\ddots  &   \\vdots \\\\\n",
    "0   &   0   &   \\cdots  &   m_i   \n",
    "\\end{pmatrix}\n",
    "$$"
   ]
  },
  {
   "cell_type": "markdown",
   "metadata": {},
   "source": [
    "### 4.3 Representación de la Matriz de Masas"
   ]
  },
  {
   "cell_type": "code",
   "execution_count": 8,
   "metadata": {},
   "outputs": [
    {
     "output_type": "stream",
     "name": "stdout",
     "text": [
      "- Matriz M =\n\n╒════════╤════════╕\n│ 15.474 │  0     │\n├────────┼────────┤\n│  0     │ 15.025 │\n╘════════╧════════╛\n"
     ]
    }
   ],
   "source": [
    "M_r = tabulate(M, tablefmt = 'fancy_grid')\n",
    "\n",
    "print('- Matriz M =\\n')\n",
    "print(M_r)"
   ]
  },
  {
   "cell_type": "markdown",
   "metadata": {},
   "source": [
    "## 5. Frecuencias y Períodos"
   ]
  },
  {
   "cell_type": "markdown",
   "metadata": {},
   "source": [
    "- Para el cálculo de las _frecuencias modales_ se parte de la expresión:  \n",
    "<br />\n",
    "\n",
    "$$\n",
    "\\textbf{K} \\cdot \\textbf{X} = \\omega ^2 \\ \\textbf{M} \\cdot \\textbf{X}  \\\\[3pt]\n",
    "$$\n",
    "\n",
    "<br />\n",
    "\n",
    "- Multiplicando por la _inversa de la Matriz de Masas_ $\\textbf{M}^{-1}$ a ambos miembros se tiene:  \n",
    "\n",
    "<br />\n",
    "\n",
    "$$\n",
    "\\textbf{M}^{-1} \\cdot \\textbf{K}  \\cdot \\textbf{X} = \\omega ^2 \\ \\textbf{X} \\\\[3pt]\n",
    "$$\n",
    "\n",
    "<br />\n",
    "\n",
    "- Lo cual equivale al _Problema de Valores Característicos_ (PVC) de la matriz $\\textbf{A}$.  \n",
    "\n",
    "<br />\n",
    "\n",
    "$$\n",
    "\\textbf{A} \\cdot \\textbf{X} = \\lambda \\cdot \\textbf{X}\n",
    "$$"
   ]
  },
  {
   "cell_type": "markdown",
   "metadata": {},
   "source": [
    "### 5.1 Obtención de la Matriz A"
   ]
  },
  {
   "cell_type": "code",
   "execution_count": 9,
   "metadata": {},
   "outputs": [],
   "source": [
    "M_ = np.linalg.inv(M)\n",
    "\n",
    "A = np.matmul(M_, K)"
   ]
  },
  {
   "cell_type": "markdown",
   "metadata": {},
   "source": [
    "### 5.2 Representación de la Matriz A"
   ]
  },
  {
   "cell_type": "code",
   "execution_count": 10,
   "metadata": {},
   "outputs": [
    {
     "output_type": "stream",
     "name": "stdout",
     "text": [
      "- Matriz A:\n\n╒══════════╤══════════╕\n│ 1568.66  │ -563.39  │\n├──────────┼──────────┤\n│ -580.226 │  580.226 │\n╘══════════╧══════════╛\n"
     ]
    }
   ],
   "source": [
    "A_r = tabulate(A, tablefmt = 'fancy_grid')\n",
    "\n",
    "print('- Matriz A:\\n')\n",
    "print(A_r)"
   ]
  },
  {
   "cell_type": "markdown",
   "metadata": {},
   "source": [
    "### 5.3 Autovalores de A"
   ]
  },
  {
   "cell_type": "code",
   "execution_count": 11,
   "metadata": {},
   "outputs": [
    {
     "output_type": "stream",
     "name": "stdout",
     "text": [
      "\n- Autovalores:\n\n\t* λ1 = 318.70\n\n\t* λ2 = 1830.19\n"
     ]
    }
   ],
   "source": [
    "A_lambda = np.linalg.eig(A)[0][::-1]\n",
    "\n",
    "print('\\n- Autovalores:')\n",
    "\n",
    "for i in range(gdl):\n",
    "    print(f'\\n\\t* λ{i + 1} = {A_lambda[i]:.2f}')"
   ]
  },
  {
   "cell_type": "markdown",
   "metadata": {},
   "source": [
    "### 5.4 Cálculo de Frecuencias"
   ]
  },
  {
   "cell_type": "code",
   "execution_count": 12,
   "metadata": {},
   "outputs": [
    {
     "output_type": "stream",
     "name": "stdout",
     "text": [
      "\n- Frecuencias circulares (rad/s)\n\n\t* w1 = 17.852\n\n\t* w2 = 42.781\n\n- Frecuencias naturales (Hz)\n\n\t* f1 = 2.841\n\n\t* f2 = 6.809\n"
     ]
    }
   ],
   "source": [
    "# Frecuencias circulares\n",
    "w = np.sqrt(A_lambda)\n",
    "\n",
    "print('\\n- Frecuencias circulares (rad/s)')\n",
    "\n",
    "for i in range(gdl):\n",
    "    print(f'\\n\\t* w{i + 1} = {w[i]:.3f}')\n",
    "\n",
    "# Frecuencias\n",
    "f = w / (2 * np.pi)\n",
    "\n",
    "print('\\n- Frecuencias naturales (Hz)')\n",
    "\n",
    "for i in range(gdl):\n",
    "    print(f'\\n\\t* f{i + 1} = {f[i]:.3f}')"
   ]
  },
  {
   "cell_type": "markdown",
   "metadata": {},
   "source": [
    "### 5.5 Cálculo de Períodos"
   ]
  },
  {
   "cell_type": "code",
   "execution_count": 13,
   "metadata": {},
   "outputs": [
    {
     "output_type": "stream",
     "name": "stdout",
     "text": [
      "\n- Períodos naturales(s)\n\n\t* T1 = 0.352\n\n\t* T2 = 0.147\n"
     ]
    }
   ],
   "source": [
    "T = 1 / f\n",
    "\n",
    "print('\\n- Períodos naturales(s)')\n",
    "\n",
    "for i in range(gdl):\n",
    "    print(f'\\n\\t* T{i + 1} = {T[i]:.3f}')"
   ]
  },
  {
   "cell_type": "markdown",
   "metadata": {},
   "source": [
    "## 6. Modos de Vibración"
   ]
  },
  {
   "cell_type": "markdown",
   "metadata": {},
   "source": [
    "* A partir de la solución de la _matriz de vectores propios_ $\\textbf{X}$ de la matriz $\\textbf{A}$ se tiene:\n",
    "\n",
    "<br/>\n",
    "\n",
    "$$\n",
    "\\textbf{X}=\\left[ \\begin{Bmatrix} \n",
    "\\\\\n",
    "X_i  \\\\\\\\\n",
    "\\end{Bmatrix}\\cdots\n",
    "\\begin{Bmatrix} \n",
    "\\\\\n",
    "X_2 \\\\\\\\\n",
    "\\end{Bmatrix}\n",
    "\\begin{Bmatrix} \n",
    "\\\\\n",
    "X_1  \\\\\\\\\n",
    "\\end{Bmatrix} \\right]\n",
    "$$\n",
    "\n",
    "<br/>\n",
    "\n",
    "* Donde cada vector $X_{i}$ se conoce como modo de vibración. Este, es un vector unitario _tomado de forma vertical_ dentro de la matriz.\n",
    "\n",
    "* Existen diversos métodos para normalizar los modos de vibración. El más conveniente, para una posterior aplicación del _Método Dinámico Modal Espectral_, es aquel respecto a la _Matriz de Masas_ $\\textbf{M}$.\n",
    "\n",
    "$$\\phi_i = \\frac{X_i}{\\sqrt{\\displaystyle  X_i^T \\cdot \\textbf{M} \\cdot X_i}}$$"
   ]
  },
  {
   "cell_type": "markdown",
   "metadata": {},
   "source": [
    "### 6.1 Matriz de Vectores Propios"
   ]
  },
  {
   "cell_type": "code",
   "execution_count": 14,
   "metadata": {},
   "outputs": [
    {
     "output_type": "stream",
     "name": "stdout",
     "text": [
      "- Matriz X:\n\n╒════════╤════════╕\n│  0.907 │ 0.4109 │\n├────────┼────────┤\n│ -0.421 │ 0.9117 │\n╘════════╧════════╛\n"
     ]
    }
   ],
   "source": [
    "X = np.round(np.linalg.eig(A)[1], 4)\n",
    "\n",
    "X_r = tabulate(X, tablefmt = 'fancy_grid')\n",
    "\n",
    "print('- Matriz X:\\n')\n",
    "print(X_r)"
   ]
  },
  {
   "cell_type": "markdown",
   "metadata": {},
   "source": [
    "### 6.2 Vectores de Modos de Vibración"
   ]
  },
  {
   "cell_type": "code",
   "execution_count": 15,
   "metadata": {},
   "outputs": [
    {
     "output_type": "stream",
     "name": "stdout",
     "text": [
      "\n- Vectores Φ:\n\n\t* Vector X1 = [0.411 0.912]\n\n\t* Vector X2 = [0.907 -0.421]\n"
     ]
    }
   ],
   "source": [
    "# Traspuesta de la matriz de autovectores de A\n",
    "Xt = X.transpose()\n",
    "\n",
    "x = np.empty((gdl, gdl))\n",
    "\n",
    "print('\\n- Vectores Φ:')\n",
    "\n",
    "for i in range(gdl):\n",
    "    x[i] = Xt[gdl - i - 1].flatten()\n",
    "    print(f'\\n\\t* Vector X{i + 1} = {x[i]}')"
   ]
  },
  {
   "cell_type": "markdown",
   "metadata": {},
   "source": [
    "### 6.3 Normalización Respecto a la Matriz de Masas"
   ]
  },
  {
   "cell_type": "code",
   "execution_count": 16,
   "metadata": {},
   "outputs": [
    {
     "output_type": "stream",
     "name": "stdout",
     "text": [
      "\n- Vectores Normalizados Φ:\n\n\t* Vector Φ1 = [0.106 0.235]\n\n\t* Vector Φ2 = [0.231 -0.107]\n"
     ]
    }
   ],
   "source": [
    "phi = np.copy(x)\n",
    "\n",
    "for i in range(gdl):\n",
    "    # Normalización en una línea, por César Sánchez\n",
    "    phi[i] = x[i] / np.sqrt(x[i] @ M @ x[i].reshape(-1, 1))\n",
    "\n",
    "print('\\n- Vectores Normalizados Φ:')\n",
    "\n",
    "for i in range(gdl):\n",
    "    print(f'\\n\\t* Vector Φ{i + 1} = {phi[i]}')"
   ]
  },
  {
   "cell_type": "markdown",
   "metadata": {},
   "source": [
    "## 7. Interpretación de Resultados"
   ]
  },
  {
   "cell_type": "code",
   "execution_count": 17,
   "metadata": {},
   "outputs": [],
   "source": [
    "plt.rcParams['figure.figsize'] = 4.5 * len(phi), 8\n",
    "plt.rcParams['font.family'] = 'Cascadia Mono'\n",
    "plt.style.use('grayscale')"
   ]
  },
  {
   "cell_type": "code",
   "execution_count": 18,
   "metadata": {},
   "outputs": [
    {
     "output_type": "display_data",
     "data": {
      "text/plain": "<Figure size 900x800 with 2 Axes>",
      "image/svg+xml": "<?xml version=\"1.0\" encoding=\"utf-8\" standalone=\"no\"?>\r\n<!DOCTYPE svg PUBLIC \"-//W3C//DTD SVG 1.1//EN\"\r\n  \"http://www.w3.org/Graphics/SVG/1.1/DTD/svg11.dtd\">\r\n<!-- Created with matplotlib (https://matplotlib.org/) -->\r\n<svg height=\"519.02pt\" version=\"1.1\" viewBox=\"0 0 520.1 519.02\" width=\"520.1pt\" xmlns=\"http://www.w3.org/2000/svg\" xmlns:xlink=\"http://www.w3.org/1999/xlink\">\r\n <metadata>\r\n  <rdf:RDF xmlns:cc=\"http://creativecommons.org/ns#\" xmlns:dc=\"http://purl.org/dc/elements/1.1/\" xmlns:rdf=\"http://www.w3.org/1999/02/22-rdf-syntax-ns#\">\r\n   <cc:Work>\r\n    <dc:type rdf:resource=\"http://purl.org/dc/dcmitype/StillImage\"/>\r\n    <dc:date>2021-06-20T12:06:31.869952</dc:date>\r\n    <dc:format>image/svg+xml</dc:format>\r\n    <dc:creator>\r\n     <cc:Agent>\r\n      <dc:title>Matplotlib v3.3.4, https://matplotlib.org/</dc:title>\r\n     </cc:Agent>\r\n    </dc:creator>\r\n   </cc:Work>\r\n  </rdf:RDF>\r\n </metadata>\r\n <defs>\r\n  <style type=\"text/css\">*{stroke-linecap:butt;stroke-linejoin:round;}</style>\r\n </defs>\r\n <g id=\"figure_1\">\r\n  <g id=\"patch_1\">\r\n   <path d=\"M 0 519.02 \r\nL 520.1 519.02 \r\nL 520.1 0 \r\nL 0 0 \r\nz\r\n\" style=\"fill:#bfbfbf;\"/>\r\n  </g>\r\n  <g id=\"axes_1\">\r\n   <g id=\"patch_2\">\r\n    <path d=\"M 10.7 508.32 \r\nL 238.972727 508.32 \r\nL 238.972727 64.8 \r\nL 10.7 64.8 \r\nz\r\n\" style=\"fill:#ffffff;\"/>\r\n   </g>\r\n   <g id=\"line2d_1\">\r\n    <defs>\r\n     <path d=\"M 0 11.5 \r\nC 3.049836 11.5 5.975169 10.288287 8.131728 8.131728 \r\nC 10.288287 5.975169 11.5 3.049836 11.5 0 \r\nC 11.5 -3.049836 10.288287 -5.975169 8.131728 -8.131728 \r\nC 5.975169 -10.288287 3.049836 -11.5 0 -11.5 \r\nC -3.049836 -11.5 -5.975169 -10.288287 -8.131728 -8.131728 \r\nC -10.288287 -5.975169 -11.5 -3.049836 -11.5 0 \r\nC -11.5 3.049836 -10.288287 5.975169 -8.131728 8.131728 \r\nC -5.975169 10.288287 -3.049836 11.5 0 11.5 \r\nz\r\n\" id=\"m6614562cde\" style=\"stroke:#d8dcd6;\"/>\r\n    </defs>\r\n    <g clip-path=\"url(#pdda02e36bb)\">\r\n     <use style=\"fill:#d8dcd6;stroke:#d8dcd6;\" x=\"124.836364\" xlink:href=\"#m6614562cde\" y=\"286.56\"/>\r\n     <use style=\"fill:#d8dcd6;stroke:#d8dcd6;\" x=\"124.836364\" xlink:href=\"#m6614562cde\" y=\"120.24\"/>\r\n    </g>\r\n   </g>\r\n   <g id=\"line2d_2\">\r\n    <defs>\r\n     <path d=\"M 0 11.5 \r\nC 3.049836 11.5 5.975169 10.288287 8.131728 8.131728 \r\nC 10.288287 5.975169 11.5 3.049836 11.5 0 \r\nC 11.5 -3.049836 10.288287 -5.975169 8.131728 -8.131728 \r\nC 5.975169 -10.288287 3.049836 -11.5 0 -11.5 \r\nC -3.049836 -11.5 -5.975169 -10.288287 -8.131728 -8.131728 \r\nC -10.288287 -5.975169 -11.5 -3.049836 -11.5 0 \r\nC -11.5 3.049836 -10.288287 5.975169 -8.131728 8.131728 \r\nC -5.975169 10.288287 -3.049836 11.5 0 11.5 \r\nz\r\n\" id=\"m7451bbdf34\" style=\"stroke:#c14a09;\"/>\r\n    </defs>\r\n    <g clip-path=\"url(#pdda02e36bb)\">\r\n     <use style=\"fill:#c14a09;stroke:#c14a09;\" x=\"159.13027\" xlink:href=\"#m7451bbdf34\" y=\"286.56\"/>\r\n     <use style=\"fill:#c14a09;stroke:#c14a09;\" x=\"200.927273\" xlink:href=\"#m7451bbdf34\" y=\"120.24\"/>\r\n    </g>\r\n   </g>\r\n   <g id=\"Quiver_1\">\r\n    <path clip-path=\"url(#pdda02e36bb)\" d=\"M 124.836364 285.703977 \r\nL 151.426066 285.703977 \r\nL 150.570043 283.991932 \r\nL 159.13027 286.56 \r\nL 150.570043 289.128068 \r\nL 151.426066 287.416023 \r\nL 124.836364 287.416023 \r\nL 124.836364 285.703977 \r\n\" style=\"fill:#d8dcd6;fill-opacity:0.75;\"/>\r\n    <path clip-path=\"url(#pdda02e36bb)\" d=\"M 124.836364 119.383977 \r\nL 193.223068 119.383977 \r\nL 192.367045 117.671932 \r\nL 200.927273 120.24 \r\nL 192.367045 122.808068 \r\nL 193.223068 121.096023 \r\nL 124.836364 121.096023 \r\nL 124.836364 119.383977 \r\n\" style=\"fill:#d8dcd6;fill-opacity:0.75;\"/>\r\n   </g>\r\n   <g id=\"line2d_3\">\r\n    <path clip-path=\"url(#pdda02e36bb)\" d=\"M 124.836364 452.88 \r\n\" style=\"fill:none;stroke:#000000;stroke-linecap:square;stroke-width:1.5;\"/>\r\n    <defs>\r\n     <path d=\"M 15 0 \r\nL -15 -0 \r\n\" id=\"m11e283de4a\" style=\"stroke:#000000;\"/>\r\n    </defs>\r\n    <g clip-path=\"url(#pdda02e36bb)\">\r\n     <use style=\"stroke:#000000;\" x=\"124.836364\" xlink:href=\"#m11e283de4a\" y=\"452.88\"/>\r\n    </g>\r\n   </g>\r\n   <g id=\"line2d_4\">\r\n    <path clip-path=\"url(#pdda02e36bb)\" d=\"M 124.836364 452.88 \r\nL 124.836364 286.56 \r\nL 124.836364 120.24 \r\n\" style=\"fill:none;stroke:#d8dcd6;stroke-dasharray:5.55,2.4;stroke-dashoffset:0;stroke-width:1.5;\"/>\r\n   </g>\r\n   <g id=\"line2d_5\">\r\n    <path clip-path=\"url(#pdda02e36bb)\" d=\"M 124.836364 452.88 \r\nL 159.13027 286.56 \r\nL 200.927273 120.24 \r\n\" style=\"fill:none;stroke:#c14a09;stroke-linecap:square;stroke-opacity:0.75;stroke-width:1.5;\"/>\r\n   </g>\r\n   <g id=\"patch_3\">\r\n    <path d=\"M 10.7 508.32 \r\nL 10.7 64.8 \r\n\" style=\"fill:none;stroke:#000000;stroke-linecap:square;stroke-linejoin:miter;stroke-width:0.8;\"/>\r\n   </g>\r\n   <g id=\"patch_4\">\r\n    <path d=\"M 238.972727 508.32 \r\nL 238.972727 64.8 \r\n\" style=\"fill:none;stroke:#000000;stroke-linecap:square;stroke-linejoin:miter;stroke-width:0.8;\"/>\r\n   </g>\r\n   <g id=\"patch_5\">\r\n    <path d=\"M 10.7 508.32 \r\nL 238.972727 508.32 \r\n\" style=\"fill:none;stroke:#000000;stroke-linecap:square;stroke-linejoin:miter;stroke-width:0.8;\"/>\r\n   </g>\r\n   <g id=\"patch_6\">\r\n    <path d=\"M 10.7 64.8 \r\nL 238.972727 64.8 \r\n\" style=\"fill:none;stroke:#000000;stroke-linecap:square;stroke-linejoin:miter;stroke-width:0.8;\"/>\r\n   </g>\r\n   <g id=\"text_1\">\r\n    <!-- w1 = 17.85 rad/s -->\r\n    <g style=\"fill:#363737;\" transform=\"translate(73.273864 480.6)scale(0.11 -0.11)\">\r\n     <defs>\r\n      <path d=\"M 35.15625 0 \r\nL 29.109375 41.109375 \r\nL 28.328125 41.109375 \r\nL 24.078125 51.765625 \r\nL 33.546875 51.765625 \r\nL 39.65625 7.8125 \r\nL 40.53125 7.8125 \r\nL 44.921875 51.765625 \r\nL 55.171875 51.765625 \r\nL 47.859375 0 \r\nz\r\nM 9.28125 0 \r\nL 3.421875 51.765625 \r\nL 13.1875 51.765625 \r\nL 17.09375 7.8125 \r\nL 17.96875 7.8125 \r\nL 24.078125 51.765625 \r\nL 33.546875 51.765625 \r\nL 29.203125 41.109375 \r\nL 28.515625 41.109375 \r\nL 22.46875 0 \r\nz\r\n\" id=\"CascadiaMono-Roman-119\"/>\r\n      <path d=\"M 25.875 0 \r\nL 25.875 69.34375 \r\nL 35.640625 69.34375 \r\nL 35.640625 0 \r\nz\r\nM 8.296875 0 \r\nL 8.296875 9.28125 \r\nL 26.859375 9.28125 \r\nL 26.859375 0 \r\nz\r\nM 34.671875 0 \r\nL 34.671875 9.28125 \r\nL 51.375 9.28125 \r\nL 51.375 0 \r\nz\r\nM 9.28125 53.609375 \r\nL 9.28125 63.484375 \r\nL 25.875 69.34375 \r\nL 25.875 59.28125 \r\nz\r\n\" id=\"CascadiaMono-Roman-49\"/>\r\n      <path id=\"CascadiaMono-Roman-32\"/>\r\n      <path d=\"M 4.890625 42.28125 \r\nL 4.890625 51.375 \r\nL 53.71875 51.375 \r\nL 53.71875 42.28125 \r\nz\r\nM 4.890625 17.875 \r\nL 4.890625 26.953125 \r\nL 53.71875 26.953125 \r\nL 53.71875 17.875 \r\nz\r\n\" id=\"CascadiaMono-Roman-61\"/>\r\n      <path d=\"M 21.828125 0 \r\nL 45.65625 69.34375 \r\nL 56.34375 69.34375 \r\nL 32.515625 0 \r\nz\r\nM 5.46875 45.015625 \r\nL 5.46875 67.875 \r\nL 15.53125 67.875 \r\nL 15.53125 45.015625 \r\nz\r\nM 5.46875 60.0625 \r\nL 5.46875 69.34375 \r\nL 56.34375 69.34375 \r\nL 49.421875 60.0625 \r\nz\r\n\" id=\"CascadiaMono-Roman-55\"/>\r\n      <path d=\"M 29.296875 -0.984375 \r\nQ 26.3125 -0.984375 24.1875 1.140625 \r\nQ 22.078125 3.265625 22.078125 6.25 \r\nQ 22.078125 9.28125 24.1875 11.375 \r\nQ 26.3125 13.484375 29.296875 13.484375 \r\nQ 32.328125 13.484375 34.421875 11.375 \r\nQ 36.53125 9.28125 36.53125 6.25 \r\nQ 36.53125 3.265625 34.421875 1.140625 \r\nQ 32.328125 -0.984375 29.296875 -0.984375 \r\nz\r\n\" id=\"CascadiaMono-Roman-46\"/>\r\n      <path d=\"M 29.296875 -0.984375 \r\nQ 18.015625 -0.984375 11.84375 4.265625 \r\nQ 5.671875 9.515625 5.671875 19.046875 \r\nQ 5.671875 27.78125 11.84375 32.546875 \r\nQ 18.015625 37.3125 29.296875 37.3125 \r\nQ 40.578125 37.3125 46.75 32.546875 \r\nQ 52.9375 27.78125 52.9375 19.046875 \r\nQ 52.9375 9.515625 46.75 4.265625 \r\nQ 40.578125 -0.984375 29.296875 -0.984375 \r\nz\r\nM 29.296875 8.015625 \r\nQ 35.6875 8.015625 39.171875 11.03125 \r\nQ 42.671875 14.0625 42.671875 19.53125 \r\nQ 42.671875 25.390625 39.171875 28.65625 \r\nQ 35.6875 31.9375 29.296875 31.9375 \r\nQ 22.90625 31.9375 19.40625 28.65625 \r\nQ 15.921875 25.390625 15.921875 19.53125 \r\nQ 15.921875 14.0625 19.40625 11.03125 \r\nQ 22.90625 8.015625 29.296875 8.015625 \r\nz\r\nM 21.1875 34.46875 \r\nL 21.1875 39.453125 \r\nL 37.5 39.453125 \r\nL 37.5 34.46875 \r\nz\r\nM 29.296875 41.3125 \r\nQ 34.765625 41.3125 37.734375 43.828125 \r\nQ 40.71875 46.34375 40.71875 50.78125 \r\nQ 40.71875 55.859375 37.734375 58.59375 \r\nQ 34.765625 61.328125 29.296875 61.328125 \r\nQ 23.828125 61.328125 20.84375 58.59375 \r\nQ 17.875 55.859375 17.875 50.78125 \r\nQ 17.875 46.34375 20.84375 43.828125 \r\nQ 23.828125 41.3125 29.296875 41.3125 \r\nz\r\nM 29.296875 36.421875 \r\nQ 19 36.421875 13.3125 40.6875 \r\nQ 7.625 44.96875 7.625 52.734375 \r\nQ 7.625 61.078125 13.3125 65.6875 \r\nQ 19 70.3125 29.296875 70.3125 \r\nQ 39.65625 70.3125 45.3125 65.6875 \r\nQ 50.984375 61.078125 50.984375 52.734375 \r\nQ 50.984375 44.96875 45.3125 40.6875 \r\nQ 39.65625 36.421875 29.296875 36.421875 \r\nz\r\n\" id=\"CascadiaMono-Roman-56\"/>\r\n      <path d=\"M 29.984375 -0.984375 \r\nQ 18.75 -0.984375 12.59375 4.359375 \r\nQ 6.453125 9.71875 6.453125 19.4375 \r\nL 16.890625 19.4375 \r\nQ 16.890625 14.015625 20.3125 11.015625 \r\nQ 23.734375 8.015625 30.078125 8.015625 \r\nQ 36.328125 8.015625 39.75 11.765625 \r\nQ 43.171875 15.53125 43.171875 22.359375 \r\nQ 43.171875 29.046875 39.453125 32.734375 \r\nQ 35.75 36.421875 28.90625 36.421875 \r\nQ 22.078125 36.421875 16.109375 33.203125 \r\nL 17 41.5 \r\nQ 20.84375 43.703125 24.65625 44.453125 \r\nQ 28.46875 45.21875 32.328125 45.21875 \r\nQ 42.390625 45.21875 47.90625 39.25 \r\nQ 53.421875 33.296875 53.421875 22.359375 \r\nQ 53.421875 14.9375 50.65625 9.71875 \r\nQ 47.90625 4.5 42.671875 1.75 \r\nQ 37.453125 -0.984375 29.984375 -0.984375 \r\nz\r\nM 10.640625 33.203125 \r\nL 11.625 69.34375 \r\nL 21.6875 69.34375 \r\nL 20.703125 39.265625 \r\nL 16.109375 33.203125 \r\nz\r\nM 16.3125 60.25 \r\nL 15.4375 69.34375 \r\nL 49.03125 69.34375 \r\nL 49.03125 60.25 \r\nz\r\n\" id=\"CascadiaMono-Roman-53\"/>\r\n      <path d=\"M 25.78125 22.265625 \r\nL 22.75 38.484375 \r\nL 26.765625 38.484375 \r\nQ 27.640625 52.734375 41.015625 52.734375 \r\nQ 49.03125 52.734375 52.640625 48.140625 \r\nQ 56.25 43.5625 56.25 33.296875 \r\nL 46 33.296875 \r\nQ 46 38.96875 44.3125 41.453125 \r\nQ 42.625 43.953125 38.875 43.953125 \r\nQ 32.28125 43.953125 29.03125 38.3125 \r\nQ 25.78125 32.671875 25.78125 22.265625 \r\nz\r\nM 3.90625 0 \r\nL 3.90625 8.5 \r\nL 38.484375 8.5 \r\nL 38.484375 0 \r\nz\r\nM 15.4375 0 \r\nL 15.4375 51.765625 \r\nL 23.828125 51.765625 \r\nL 25.78125 36.921875 \r\nL 25.78125 0 \r\nz\r\nM 5.859375 43.265625 \r\nL 5.859375 51.765625 \r\nL 23.140625 51.765625 \r\nL 24.125 43.265625 \r\nz\r\n\" id=\"CascadiaMono-Roman-114\"/>\r\n      <path d=\"M 39.9375 -0.484375 \r\nL 39.265625 14.84375 \r\nL 37.890625 19.140625 \r\nL 37.890625 32.515625 \r\nQ 37.890625 37.703125 34.25 40.109375 \r\nQ 30.609375 42.53125 23.4375 42.71875 \r\nL 11.03125 43.0625 \r\nL 12.015625 52.25 \r\nL 22.46875 52.09375 \r\nQ 35.296875 51.90625 41.515625 46.5625 \r\nQ 47.75 41.21875 47.75 30.953125 \r\nL 47.75 9.375 \r\nL 56.546875 8.296875 \r\nL 56.546875 0 \r\nz\r\nM 21.6875 -0.984375 \r\nQ 13.578125 -0.984375 9.125 2.921875 \r\nQ 4.6875 6.84375 4.6875 13.96875 \r\nQ 4.6875 22.171875 10.8125 26.5625 \r\nQ 16.9375 30.953125 28.125 30.953125 \r\nQ 32.765625 30.953125 36.40625 30.390625 \r\nQ 40.046875 29.828125 42.875 28.71875 \r\nL 40.71875 21.6875 \r\nQ 37.453125 22.40625 34.328125 22.53125 \r\nQ 31.203125 22.65625 27.9375 22.65625 \r\nQ 14.453125 22.65625 14.453125 14.453125 \r\nQ 14.453125 11.03125 16.765625 9.171875 \r\nQ 19.09375 7.328125 23.34375 7.328125 \r\nQ 28.171875 7.328125 31.421875 8.984375 \r\nQ 34.671875 10.640625 36.28125 13.234375 \r\nQ 37.890625 15.828125 37.890625 18.5625 \r\nL 37.890625 24.21875 \r\nL 40.921875 10.9375 \r\nL 36.8125 10.9375 \r\nL 38.484375 12.5 \r\nQ 38.484375 8.015625 36.40625 5 \r\nQ 34.328125 2 30.5625 0.5 \r\nQ 26.8125 -0.984375 21.6875 -0.984375 \r\nz\r\n\" id=\"CascadiaMono-Roman-97\"/>\r\n      <path d=\"M 25.34375 -0.984375 \r\nQ 15.1875 -0.984375 9.9375 5.703125 \r\nQ 4.6875 12.40625 4.6875 25.390625 \r\nQ 4.6875 38.875 9.9375 45.796875 \r\nQ 15.1875 52.734375 25.34375 52.734375 \r\nQ 31.15625 52.734375 34.78125 50 \r\nQ 38.421875 47.265625 39.0625 42.390625 \r\nL 43.0625 42.390625 \r\nL 40.046875 27.640625 \r\nQ 40.046875 35.640625 36.890625 39.796875 \r\nQ 33.734375 43.953125 27.640625 43.953125 \r\nQ 21.390625 43.953125 18.15625 39.265625 \r\nQ 14.9375 34.578125 14.9375 25.390625 \r\nQ 14.9375 16.703125 18.15625 12.25 \r\nQ 21.390625 7.8125 27.640625 7.8125 \r\nQ 33.734375 7.8125 36.890625 11.953125 \r\nQ 40.046875 16.109375 40.046875 24.125 \r\nL 43.5625 9.375 \r\nL 39.0625 9.375 \r\nQ 38.578125 4.5 34.9375 1.75 \r\nQ 31.296875 -0.984375 25.34375 -0.984375 \r\nz\r\nM 41.109375 -0.484375 \r\nL 40.046875 9.671875 \r\nL 40.046875 73.25 \r\nL 50.390625 73.25 \r\nL 50.390625 0 \r\nz\r\n\" id=\"CascadiaMono-Roman-100\"/>\r\n      <path d=\"M 5.5625 -9.28125 \r\nL 44.828125 78.609375 \r\nL 55.171875 78.609375 \r\nL 15.921875 -9.28125 \r\nz\r\n\" id=\"CascadiaMono-Roman-47\"/>\r\n      <path d=\"M 25.296875 -0.984375 \r\nQ 19.4375 -0.984375 15.25 -0.640625 \r\nQ 11.078125 -0.296875 7.625 0.484375 \r\nL 8.796875 9.859375 \r\nQ 13.921875 9.078125 17.84375 8.6875 \r\nQ 21.78125 8.296875 25.296875 8.296875 \r\nQ 33.15625 8.296875 36.6875 9.828125 \r\nQ 40.234375 11.375 40.234375 14.75 \r\nQ 40.234375 17.09375 38.984375 18.234375 \r\nQ 37.75 19.390625 35.15625 20.015625 \r\nL 23.25 23.046875 \r\nQ 15.578125 25 11.984375 27.875 \r\nQ 8.40625 30.765625 8.40625 36.625 \r\nQ 8.40625 45.125 14.921875 48.921875 \r\nQ 21.4375 52.734375 35.9375 52.734375 \r\nQ 39.703125 52.734375 42.9375 52.515625 \r\nQ 46.1875 52.296875 49.609375 51.765625 \r\nL 48.53125 42.78125 \r\nQ 44.578125 43.171875 41.546875 43.3125 \r\nQ 38.53125 43.453125 35.640625 43.453125 \r\nQ 26.953125 43.453125 23.046875 41.96875 \r\nQ 19.140625 40.484375 19.140625 37.109375 \r\nQ 19.140625 34.859375 20.75 33.859375 \r\nQ 22.359375 32.859375 25.6875 32.03125 \r\nL 35.25 29.6875 \r\nQ 43.40625 27.734375 47.1875 24.453125 \r\nQ 50.984375 21.1875 50.984375 14.9375 \r\nQ 50.984375 6.59375 44.875 2.796875 \r\nQ 38.765625 -0.984375 25.296875 -0.984375 \r\nz\r\n\" id=\"CascadiaMono-Roman-115\"/>\r\n     </defs>\r\n     <use xlink:href=\"#CascadiaMono-Roman-119\"/>\r\n     <use x=\"58.59375\" xlink:href=\"#CascadiaMono-Roman-49\"/>\r\n     <use x=\"117.1875\" xlink:href=\"#CascadiaMono-Roman-32\"/>\r\n     <use x=\"175.78125\" xlink:href=\"#CascadiaMono-Roman-61\"/>\r\n     <use x=\"234.375\" xlink:href=\"#CascadiaMono-Roman-32\"/>\r\n     <use x=\"292.96875\" xlink:href=\"#CascadiaMono-Roman-49\"/>\r\n     <use x=\"351.5625\" xlink:href=\"#CascadiaMono-Roman-55\"/>\r\n     <use x=\"410.15625\" xlink:href=\"#CascadiaMono-Roman-46\"/>\r\n     <use x=\"468.75\" xlink:href=\"#CascadiaMono-Roman-56\"/>\r\n     <use x=\"527.34375\" xlink:href=\"#CascadiaMono-Roman-53\"/>\r\n     <use x=\"585.9375\" xlink:href=\"#CascadiaMono-Roman-32\"/>\r\n     <use x=\"644.53125\" xlink:href=\"#CascadiaMono-Roman-114\"/>\r\n     <use x=\"703.125\" xlink:href=\"#CascadiaMono-Roman-97\"/>\r\n     <use x=\"761.71875\" xlink:href=\"#CascadiaMono-Roman-100\"/>\r\n     <use x=\"820.3125\" xlink:href=\"#CascadiaMono-Roman-47\"/>\r\n     <use x=\"878.90625\" xlink:href=\"#CascadiaMono-Roman-115\"/>\r\n    </g>\r\n   </g>\r\n   <g id=\"text_2\">\r\n    <!-- i = 1 -->\r\n    <g transform=\"translate(105.793395 58.8)scale(0.13 -0.13)\">\r\n     <defs>\r\n      <path d=\"M 27.546875 0 \r\nL 27.546875 48.828125 \r\nL 37.890625 48.828125 \r\nL 37.890625 0 \r\nz\r\nM 7.8125 0 \r\nL 7.8125 8.5 \r\nL 28.515625 8.5 \r\nL 28.515625 0 \r\nz\r\nM 36.921875 0 \r\nL 36.921875 8.5 \r\nL 53.8125 8.5 \r\nL 53.8125 0 \r\nz\r\nM 10.75 43.265625 \r\nL 10.75 51.765625 \r\nL 37.890625 51.765625 \r\nL 37.890625 43.265625 \r\nz\r\nM 32.375 59.96875 \r\nQ 29.390625 59.96875 27.265625 62.078125 \r\nQ 25.140625 64.203125 25.140625 67.1875 \r\nQ 25.140625 70.21875 27.265625 72.3125 \r\nQ 29.390625 74.421875 32.375 74.421875 \r\nQ 35.40625 74.421875 37.5 72.3125 \r\nQ 39.59375 70.21875 39.59375 67.1875 \r\nQ 39.59375 64.203125 37.5 62.078125 \r\nQ 35.40625 59.96875 32.375 59.96875 \r\nz\r\n\" id=\"CascadiaMono-Roman-105\"/>\r\n     </defs>\r\n     <use xlink:href=\"#CascadiaMono-Roman-105\"/>\r\n     <use x=\"58.59375\" xlink:href=\"#CascadiaMono-Roman-32\"/>\r\n     <use x=\"117.1875\" xlink:href=\"#CascadiaMono-Roman-61\"/>\r\n     <use x=\"175.78125\" xlink:href=\"#CascadiaMono-Roman-32\"/>\r\n     <use x=\"234.375\" xlink:href=\"#CascadiaMono-Roman-49\"/>\r\n    </g>\r\n   </g>\r\n  </g>\r\n  <g id=\"axes_2\">\r\n   <g id=\"patch_7\">\r\n    <path d=\"M 284.627273 508.32 \r\nL 512.9 508.32 \r\nL 512.9 64.8 \r\nL 284.627273 64.8 \r\nz\r\n\" style=\"fill:#ffffff;\"/>\r\n   </g>\r\n   <g id=\"line2d_6\">\r\n    <g clip-path=\"url(#p6166b0c22d)\">\r\n     <use style=\"fill:#d8dcd6;stroke:#d8dcd6;\" x=\"398.763636\" xlink:href=\"#m6614562cde\" y=\"286.56\"/>\r\n     <use style=\"fill:#d8dcd6;stroke:#d8dcd6;\" x=\"398.763636\" xlink:href=\"#m6614562cde\" y=\"120.24\"/>\r\n    </g>\r\n   </g>\r\n   <g id=\"line2d_7\">\r\n    <g clip-path=\"url(#p6166b0c22d)\">\r\n     <use style=\"fill:#c14a09;stroke:#c14a09;\" x=\"473.742401\" xlink:href=\"#m7451bbdf34\" y=\"286.56\"/>\r\n     <use style=\"fill:#c14a09;stroke:#c14a09;\" x=\"363.960924\" xlink:href=\"#m7451bbdf34\" y=\"120.24\"/>\r\n    </g>\r\n   </g>\r\n   <g id=\"Quiver_2\">\r\n    <path clip-path=\"url(#p6166b0c22d)\" d=\"M 398.763636 285.703977 \r\nL 466.038197 285.703977 \r\nL 465.182174 283.991932 \r\nL 473.742401 286.56 \r\nL 465.182174 289.128068 \r\nL 466.038197 287.416023 \r\nL 398.763636 287.416023 \r\nL 398.763636 285.703977 \r\n\" style=\"fill:#d8dcd6;fill-opacity:0.75;\"/>\r\n    <path clip-path=\"url(#p6166b0c22d)\" d=\"M 398.763636 121.096023 \r\nL 371.665129 121.096023 \r\nL 372.521151 122.808068 \r\nL 363.960924 120.24 \r\nL 372.521151 117.671932 \r\nL 371.665129 119.383977 \r\nL 398.763636 119.383977 \r\nL 398.763636 121.096023 \r\n\" style=\"fill:#d8dcd6;fill-opacity:0.75;\"/>\r\n   </g>\r\n   <g id=\"line2d_8\">\r\n    <path clip-path=\"url(#p6166b0c22d)\" d=\"M 398.763636 452.88 \r\n\" style=\"fill:none;stroke:#000000;stroke-linecap:square;stroke-width:1.5;\"/>\r\n    <g clip-path=\"url(#p6166b0c22d)\">\r\n     <use style=\"stroke:#000000;\" x=\"398.763636\" xlink:href=\"#m11e283de4a\" y=\"452.88\"/>\r\n    </g>\r\n   </g>\r\n   <g id=\"line2d_9\">\r\n    <path clip-path=\"url(#p6166b0c22d)\" d=\"M 398.763636 452.88 \r\nL 398.763636 286.56 \r\nL 398.763636 120.24 \r\n\" style=\"fill:none;stroke:#d8dcd6;stroke-dasharray:5.55,2.4;stroke-dashoffset:0;stroke-width:1.5;\"/>\r\n   </g>\r\n   <g id=\"line2d_10\">\r\n    <path clip-path=\"url(#p6166b0c22d)\" d=\"M 398.763636 452.88 \r\nL 473.742401 286.56 \r\nL 363.960924 120.24 \r\n\" style=\"fill:none;stroke:#c14a09;stroke-linecap:square;stroke-opacity:0.75;stroke-width:1.5;\"/>\r\n   </g>\r\n   <g id=\"patch_8\">\r\n    <path d=\"M 284.627273 508.32 \r\nL 284.627273 64.8 \r\n\" style=\"fill:none;stroke:#000000;stroke-linecap:square;stroke-linejoin:miter;stroke-width:0.8;\"/>\r\n   </g>\r\n   <g id=\"patch_9\">\r\n    <path d=\"M 512.9 508.32 \r\nL 512.9 64.8 \r\n\" style=\"fill:none;stroke:#000000;stroke-linecap:square;stroke-linejoin:miter;stroke-width:0.8;\"/>\r\n   </g>\r\n   <g id=\"patch_10\">\r\n    <path d=\"M 284.627273 508.32 \r\nL 512.9 508.32 \r\n\" style=\"fill:none;stroke:#000000;stroke-linecap:square;stroke-linejoin:miter;stroke-width:0.8;\"/>\r\n   </g>\r\n   <g id=\"patch_11\">\r\n    <path d=\"M 284.627273 64.8 \r\nL 512.9 64.8 \r\n\" style=\"fill:none;stroke:#000000;stroke-linecap:square;stroke-linejoin:miter;stroke-width:0.8;\"/>\r\n   </g>\r\n   <g id=\"text_3\">\r\n    <!-- w2 = 42.78 rad/s -->\r\n    <g style=\"fill:#363737;\" transform=\"translate(347.201136 480.6)scale(0.11 -0.11)\">\r\n     <defs>\r\n      <path d=\"M 7.421875 0 \r\nL 7.421875 10.9375 \r\nQ 23.484375 19.828125 31.421875 29.484375 \r\nQ 39.359375 39.15625 39.359375 49.421875 \r\nQ 39.359375 55.375 36.421875 58.34375 \r\nQ 33.5 61.328125 27.546875 61.328125 \r\nQ 23.578125 61.328125 19.28125 59.03125 \r\nQ 14.984375 56.734375 11.921875 52.9375 \r\nL 5.171875 59.625 \r\nQ 8.546875 64.453125 14.75 67.375 \r\nQ 20.953125 70.3125 27.734375 70.3125 \r\nQ 38.71875 70.3125 44.15625 65.109375 \r\nQ 49.609375 59.90625 49.609375 49.421875 \r\nQ 49.609375 38.875 42.9375 29.171875 \r\nQ 36.28125 19.484375 22.65625 10.546875 \r\nL 22.65625 0 \r\nz\r\nM 10.359375 0 \r\nL 10.359375 9.078125 \r\nL 52.546875 9.078125 \r\nL 52.546875 0 \r\nz\r\n\" id=\"CascadiaMono-Roman-50\"/>\r\n      <path d=\"M 3.609375 15.53125 \r\nL 13.375 65.4375 \r\nL 23.4375 65.4375 \r\nL 13.578125 15.53125 \r\nz\r\nM 3.609375 15.53125 \r\nL 10.453125 24.609375 \r\nL 39.265625 24.609375 \r\nL 39.265625 15.53125 \r\nz\r\nM 47.171875 15.53125 \r\nL 47.171875 24.609375 \r\nL 54.6875 24.609375 \r\nL 54.6875 15.53125 \r\nz\r\nM 38.28125 0 \r\nL 38.28125 69.34375 \r\nL 48.140625 69.34375 \r\nL 48.140625 0 \r\nz\r\n\" id=\"CascadiaMono-Roman-52\"/>\r\n     </defs>\r\n     <use xlink:href=\"#CascadiaMono-Roman-119\"/>\r\n     <use x=\"58.59375\" xlink:href=\"#CascadiaMono-Roman-50\"/>\r\n     <use x=\"117.1875\" xlink:href=\"#CascadiaMono-Roman-32\"/>\r\n     <use x=\"175.78125\" xlink:href=\"#CascadiaMono-Roman-61\"/>\r\n     <use x=\"234.375\" xlink:href=\"#CascadiaMono-Roman-32\"/>\r\n     <use x=\"292.96875\" xlink:href=\"#CascadiaMono-Roman-52\"/>\r\n     <use x=\"351.5625\" xlink:href=\"#CascadiaMono-Roman-50\"/>\r\n     <use x=\"410.15625\" xlink:href=\"#CascadiaMono-Roman-46\"/>\r\n     <use x=\"468.75\" xlink:href=\"#CascadiaMono-Roman-55\"/>\r\n     <use x=\"527.34375\" xlink:href=\"#CascadiaMono-Roman-56\"/>\r\n     <use x=\"585.9375\" xlink:href=\"#CascadiaMono-Roman-32\"/>\r\n     <use x=\"644.53125\" xlink:href=\"#CascadiaMono-Roman-114\"/>\r\n     <use x=\"703.125\" xlink:href=\"#CascadiaMono-Roman-97\"/>\r\n     <use x=\"761.71875\" xlink:href=\"#CascadiaMono-Roman-100\"/>\r\n     <use x=\"820.3125\" xlink:href=\"#CascadiaMono-Roman-47\"/>\r\n     <use x=\"878.90625\" xlink:href=\"#CascadiaMono-Roman-115\"/>\r\n    </g>\r\n   </g>\r\n   <g id=\"text_4\">\r\n    <!-- i = 2 -->\r\n    <g transform=\"translate(379.720668 58.8)scale(0.13 -0.13)\">\r\n     <use xlink:href=\"#CascadiaMono-Roman-105\"/>\r\n     <use x=\"58.59375\" xlink:href=\"#CascadiaMono-Roman-32\"/>\r\n     <use x=\"117.1875\" xlink:href=\"#CascadiaMono-Roman-61\"/>\r\n     <use x=\"175.78125\" xlink:href=\"#CascadiaMono-Roman-32\"/>\r\n     <use x=\"234.375\" xlink:href=\"#CascadiaMono-Roman-50\"/>\r\n    </g>\r\n   </g>\r\n  </g>\r\n  <g id=\"text_5\">\r\n   <!-- Modos de Vibración -->\r\n   <g transform=\"translate(121.864062 25.5125)scale(0.25 -0.25)\">\r\n    <defs>\r\n     <path d=\"M 27.640625 28.328125 \r\nL 29.109375 39.546875 \r\nL 29.6875 39.546875 \r\nL 37.59375 69.34375 \r\nL 44.53125 69.34375 \r\nL 44.53125 57.03125 \r\nL 41.703125 57.03125 \r\nL 33.796875 28.328125 \r\nz\r\nM 6.25 0 \r\nL 6.25 69.34375 \r\nL 15.625 69.34375 \r\nL 15.625 0 \r\nz\r\nM 24.8125 28.328125 \r\nL 16.890625 57.03125 \r\nL 14.0625 57.03125 \r\nL 14.0625 69.34375 \r\nL 21 69.34375 \r\nL 28.90625 39.546875 \r\nL 29.296875 39.546875 \r\nL 30.28125 28.328125 \r\nz\r\nM 42.96875 0 \r\nL 42.96875 69.34375 \r\nL 52.34375 69.34375 \r\nL 52.34375 0 \r\nz\r\n\" id=\"CascadiaMono-Roman-77\"/>\r\n     <path d=\"M 29.296875 -0.984375 \r\nQ 18.5625 -0.984375 12.59375 6.046875 \r\nQ 6.640625 13.09375 6.640625 25.875 \r\nQ 6.640625 38.71875 12.59375 45.71875 \r\nQ 18.5625 52.734375 29.296875 52.734375 \r\nQ 40.09375 52.734375 46.015625 45.71875 \r\nQ 51.953125 38.71875 51.953125 25.875 \r\nQ 51.953125 13.09375 46.015625 6.046875 \r\nQ 40.09375 -0.984375 29.296875 -0.984375 \r\nz\r\nM 29.296875 8.296875 \r\nQ 35.015625 8.296875 38.109375 12.890625 \r\nQ 41.21875 17.484375 41.21875 25.875 \r\nQ 41.21875 34.328125 38.109375 38.890625 \r\nQ 35.015625 43.453125 29.296875 43.453125 \r\nQ 23.578125 43.453125 20.484375 38.890625 \r\nQ 17.390625 34.328125 17.390625 25.875 \r\nQ 17.390625 17.484375 20.484375 12.890625 \r\nQ 23.578125 8.296875 29.296875 8.296875 \r\nz\r\n\" id=\"CascadiaMono-Roman-111\"/>\r\n     <path d=\"M 34.28125 -0.984375 \r\nQ 21.046875 -0.984375 13.84375 5.96875 \r\nQ 6.640625 12.9375 6.640625 25.984375 \r\nQ 6.640625 38.671875 12.734375 45.703125 \r\nQ 18.84375 52.734375 29.984375 52.734375 \r\nQ 40.484375 52.734375 46.21875 46.390625 \r\nQ 51.953125 40.046875 51.953125 27.9375 \r\nQ 51.953125 24.359375 51.65625 21.296875 \r\nL 15.328125 21.296875 \r\nL 15.328125 29.203125 \r\nL 42.578125 29.203125 \r\nQ 42.578125 36.1875 39.25 39.921875 \r\nQ 35.9375 43.65625 30.078125 43.65625 \r\nQ 23.484375 43.65625 19.84375 39.15625 \r\nQ 16.21875 34.671875 16.21875 26.46875 \r\nQ 16.21875 17.484375 21.21875 12.796875 \r\nQ 26.21875 8.109375 35.453125 8.109375 \r\nQ 38.671875 8.109375 41.796875 8.46875 \r\nQ 44.921875 8.84375 48.140625 9.46875 \r\nL 49.421875 0.390625 \r\nQ 44.828125 -0.484375 41.015625 -0.734375 \r\nQ 37.203125 -0.984375 34.28125 -0.984375 \r\nz\r\n\" id=\"CascadiaMono-Roman-101\"/>\r\n     <path d=\"M 21.734375 0 \r\nL 2.203125 69.34375 \r\nL 12.640625 69.34375 \r\nL 28.859375 8.296875 \r\nL 29.734375 8.296875 \r\nL 45.953125 69.34375 \r\nL 56.390625 69.34375 \r\nL 36.859375 0 \r\nz\r\n\" id=\"CascadiaMono-Roman-86\"/>\r\n     <path d=\"M 21.828125 -0.984375 \r\nQ 18.3125 -0.984375 14.890625 -0.703125 \r\nQ 11.46875 -0.4375 7.953125 0 \r\nL 11.96875 9.46875 \r\nQ 14.546875 8.25 17.671875 8.03125 \r\nQ 20.796875 7.8125 23.875 7.8125 \r\nQ 33.203125 7.8125 38.296875 13.421875 \r\nQ 43.40625 19.046875 43.40625 29.296875 \r\nQ 43.40625 36.328125 40.296875 40.140625 \r\nQ 37.203125 43.953125 31.5 43.953125 \r\nQ 18.3125 43.953125 18.3125 29.109375 \r\nL 15.28125 42.390625 \r\nL 19.28125 42.390625 \r\nQ 20.015625 52.734375 31.984375 52.734375 \r\nQ 42.328125 52.734375 47.984375 46.625 \r\nQ 53.65625 40.53125 53.65625 29.296875 \r\nQ 53.65625 14.890625 45.328125 6.953125 \r\nQ 37.015625 -0.984375 21.828125 -0.984375 \r\nz\r\nM 7.953125 0 \r\nL 7.953125 73.25 \r\nL 18.3125 73.25 \r\nL 18.3125 0.875 \r\nz\r\n\" id=\"CascadiaMono-Roman-98\"/>\r\n     <path d=\"M 34.28125 -0.984375 \r\nQ 21.046875 -0.984375 13.84375 5.96875 \r\nQ 6.640625 12.9375 6.640625 25.984375 \r\nQ 6.640625 38.671875 13.453125 45.703125 \r\nQ 20.265625 52.734375 32.90625 52.734375 \r\nQ 40.484375 52.734375 45.875 49.921875 \r\nQ 51.265625 47.125 53.5625 42 \r\nL 45.609375 35.984375 \r\nQ 43.40625 39.546875 39.984375 41.5 \r\nQ 36.578125 43.453125 32.515625 43.453125 \r\nQ 25.203125 43.453125 21.140625 39.03125 \r\nQ 17.09375 34.625 17.09375 26.46875 \r\nQ 17.09375 17.625 21.84375 12.953125 \r\nQ 26.609375 8.296875 35.453125 8.296875 \r\nQ 39.0625 8.296875 42.671875 8.640625 \r\nQ 46.296875 8.984375 49.703125 9.578125 \r\nL 50.875 0.484375 \r\nQ 46.875 -0.390625 42.59375 -0.6875 \r\nQ 38.328125 -0.984375 34.28125 -0.984375 \r\nz\r\n\" id=\"CascadiaMono-Roman-99\"/>\r\n     <path d=\"M 29.296875 -0.984375 \r\nQ 18.5625 -0.984375 12.59375 6.046875 \r\nQ 6.640625 13.09375 6.640625 25.875 \r\nQ 6.640625 38.71875 12.59375 45.71875 \r\nQ 18.5625 52.734375 29.296875 52.734375 \r\nQ 40.09375 52.734375 46.015625 45.71875 \r\nQ 51.953125 38.71875 51.953125 25.875 \r\nQ 51.953125 13.09375 46.015625 6.046875 \r\nQ 40.09375 -0.984375 29.296875 -0.984375 \r\nz\r\nM 29.296875 8.296875 \r\nQ 35.015625 8.296875 38.109375 12.890625 \r\nQ 41.21875 17.484375 41.21875 25.875 \r\nQ 41.21875 34.328125 38.109375 38.890625 \r\nQ 35.015625 43.453125 29.296875 43.453125 \r\nQ 23.578125 43.453125 20.484375 38.890625 \r\nQ 17.390625 34.328125 17.390625 25.875 \r\nQ 17.390625 17.484375 20.484375 12.890625 \r\nQ 23.578125 8.296875 29.296875 8.296875 \r\nz\r\nM 24.359375 60.9375 \r\nL 32.671875 79.5 \r\nL 43.015625 79.5 \r\nL 33.734375 60.9375 \r\nz\r\n\" id=\"CascadiaMono-Roman-243\"/>\r\n     <path d=\"M 40.046875 0 \r\nL 40.046875 33.6875 \r\nQ 40.046875 38.375 37.59375 40.90625 \r\nQ 35.15625 43.453125 30.765625 43.453125 \r\nQ 18.5625 43.453125 18.5625 29.109375 \r\nL 15.53125 42.390625 \r\nL 19.53125 42.390625 \r\nQ 19.96875 47.609375 23.328125 50.171875 \r\nQ 26.703125 52.734375 33.203125 52.734375 \r\nQ 41.40625 52.734375 45.890625 47.75 \r\nQ 50.390625 42.78125 50.390625 33.6875 \r\nL 50.390625 0 \r\nz\r\nM 8.203125 0 \r\nL 8.203125 51.765625 \r\nL 17.578125 51.765625 \r\nL 18.5625 40.828125 \r\nL 18.5625 0 \r\nz\r\n\" id=\"CascadiaMono-Roman-110\"/>\r\n    </defs>\r\n    <use xlink:href=\"#CascadiaMono-Roman-77\"/>\r\n    <use x=\"58.59375\" xlink:href=\"#CascadiaMono-Roman-111\"/>\r\n    <use x=\"117.1875\" xlink:href=\"#CascadiaMono-Roman-100\"/>\r\n    <use x=\"175.78125\" xlink:href=\"#CascadiaMono-Roman-111\"/>\r\n    <use x=\"234.375\" xlink:href=\"#CascadiaMono-Roman-115\"/>\r\n    <use x=\"292.96875\" xlink:href=\"#CascadiaMono-Roman-32\"/>\r\n    <use x=\"351.5625\" xlink:href=\"#CascadiaMono-Roman-100\"/>\r\n    <use x=\"410.15625\" xlink:href=\"#CascadiaMono-Roman-101\"/>\r\n    <use x=\"468.75\" xlink:href=\"#CascadiaMono-Roman-32\"/>\r\n    <use x=\"527.34375\" xlink:href=\"#CascadiaMono-Roman-86\"/>\r\n    <use x=\"585.9375\" xlink:href=\"#CascadiaMono-Roman-105\"/>\r\n    <use x=\"644.53125\" xlink:href=\"#CascadiaMono-Roman-98\"/>\r\n    <use x=\"703.125\" xlink:href=\"#CascadiaMono-Roman-114\"/>\r\n    <use x=\"761.71875\" xlink:href=\"#CascadiaMono-Roman-97\"/>\r\n    <use x=\"820.3125\" xlink:href=\"#CascadiaMono-Roman-99\"/>\r\n    <use x=\"878.90625\" xlink:href=\"#CascadiaMono-Roman-105\"/>\r\n    <use x=\"937.5\" xlink:href=\"#CascadiaMono-Roman-243\"/>\r\n    <use x=\"996.09375\" xlink:href=\"#CascadiaMono-Roman-110\"/>\r\n   </g>\r\n  </g>\r\n </g>\r\n <defs>\r\n  <clipPath id=\"pdda02e36bb\">\r\n   <rect height=\"443.52\" width=\"228.272727\" x=\"10.7\" y=\"64.8\"/>\r\n  </clipPath>\r\n  <clipPath id=\"p6166b0c22d\">\r\n   <rect height=\"443.52\" width=\"228.272727\" x=\"284.627273\" y=\"64.8\"/>\r\n  </clipPath>\r\n </defs>\r\n</svg>\r\n",
      "image/png": "[encoded data removed]"
     },
     "metadata": {}
    }
   ],
   "source": [
    "# Creación de subplots\n",
    "fig, axs = plt.subplots(1, gdl)\n",
    "\n",
    "# Título global\n",
    "fig.suptitle('Modos de Vibración', fontsize = '25')\n",
    "\n",
    "for i, x in enumerate(phi):\n",
    "    y = []\n",
    "\n",
    "    for j in range(len(phi[i])):\n",
    "        y.append(6 * (j + 1) / len(phi[i]))\n",
    "\n",
    "    axs[i].set_title(f'i = {i + 1}', fontsize = '13')\n",
    "    \n",
    "    axs[i].yaxis.set_visible(False)\n",
    "    axs[i].xaxis.set_visible(False)\n",
    "\n",
    "    axs[i].plot(0, 0, marker = '_', markersize = 30)\n",
    "\n",
    "    # Posición inicial\n",
    "    axs[i].plot(np.zeros(len(phi[i])), y, marker = 'o', markersize = 23, linestyle = '', color = '#d8dcd6', zorder = 0)\n",
    "    axs[i].plot(np.zeros(len(phi[i]) + 1), np.append(0, y), linestyle = '--', color = '#d8dcd6')\n",
    "\n",
    "    \n",
    "    # Posición final\n",
    "    axs[i].plot(x, y, marker = 'o', markersize = 23, linestyle = '', color = '#c14a09', zorder = 1)\n",
    "    axs[i].plot(np.append(0, x), np.append(0, y), linestyle = '-', color = '#c14a09', alpha = 0.75)\n",
    "\n",
    "    # Vectores desplazamiento\n",
    "    axs[i].quiver(np.zeros(len(phi[i])), y, x, np.zeros(len(phi[i])), scale = 1, zorder = 2, color = '#d8dcd6', units = 'x', alpha = 0.75)\n",
    "\n",
    "    # Frecuencias circulares\n",
    "    axs[i].text(0, -0.5, f'w{i + 1} = {w[i]:.2f} rad/s', fontsize = 11, ha = 'center', color = '#363737')\n",
    "\n",
    "    axs[i].set_xlim([-1.5 * abs(phi).max(), 1.5 * abs(phi).max()])\n",
    "    axs[i].set_ylim([-1, 7])\n",
    "\n",
    "plt.show()"
   ]
  },
  {
   "cell_type": "markdown",
   "metadata": {},
   "source": [
    "## 8. Dependencias"
   ]
  },
  {
   "cell_type": "code",
   "execution_count": 19,
   "metadata": {},
   "outputs": [
    {
     "output_type": "stream",
     "name": "stdout",
     "text": [
      "Python implementation: CPython\nPython version       : 3.9.5\nIPython version      : 7.24.1\n\nsys       : 3.9.5 (default, May 18 2021, 14:42:02) [MSC v.1916 64 bit (AMD64)]\nmatplotlib: 3.3.4\nnumpy     : 1.20.2\n\nCompiler    : MSC v.1916 64 bit (AMD64)\nOS          : Windows\nRelease     : 10\nMachine     : AMD64\nProcessor   : Intel64 Family 6 Model 165 Stepping 3, GenuineIntel\nCPU cores   : 12\nArchitecture: 64bit\n\nLast updated: Sun Jun 20 2021 12:06:32SA Pacific Standard Time\n\n"
     ]
    }
   ],
   "source": [
    "%load_ext watermark\n",
    "\n",
    "# Compilador y librerías\n",
    "%watermark -v\n",
    "%watermark -iv\n",
    "\n",
    "# Sistema operativo\n",
    "%watermark -m\n",
    "\n",
    "# Fecha de subida\n",
    "%watermark -u -n -t -z"
   ]
  }
 ],
 "metadata": {
  "interpreter": {
   "hash": "ecf5722fdaf1897a315d257d89d94520bfcaa453217d5becf09b39e73618b0de"
  },
  "kernelspec": {
   "name": "python3",
   "display_name": "Python 3.9.5 64-bit ('base': conda)"
  },
  "language_info": {
   "codemirror_mode": {
    "name": "ipython",
    "version": 3
   },
   "file_extension": ".py",
   "mimetype": "text/x-python",
   "name": "python",
   "nbconvert_exporter": "python",
   "pygments_lexer": "ipython3",
   "version": "3.9.5"
  },
  "toc-showcode": false,
  "toc-showmarkdowntxt": false,
  "toc-showtags": false
 },
 "nbformat": 4,
 "nbformat_minor": 4
}