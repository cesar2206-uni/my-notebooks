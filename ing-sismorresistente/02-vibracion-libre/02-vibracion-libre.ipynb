{
 "metadata": {
  "language_info": {
   "codemirror_mode": {
    "name": "ipython",
    "version": 3
   },
   "file_extension": ".py",
   "mimetype": "text/x-python",
   "name": "python",
   "nbconvert_exporter": "python",
   "pygments_lexer": "ipython3",
   "version": "3.9.5"
  },
  "orig_nbformat": 4,
  "kernelspec": {
   "name": "python3",
   "display_name": "Python 3.9.5 64-bit ('base': conda)"
  },
  "interpreter": {
   "hash": "ecf5722fdaf1897a315d257d89d94520bfcaa453217d5becf09b39e73618b0de"
  }
 },
 "nbformat": 4,
 "nbformat_minor": 2,
 "cells": [
  {
   "source": [
    "# II. Modelo de Cortante\n",
    "# Vibración Libre"
   ],
   "cell_type": "markdown",
   "metadata": {}
  },
  {
   "source": [
    "## 1. Librerías"
   ],
   "cell_type": "markdown",
   "metadata": {}
  },
  {
   "cell_type": "code",
   "execution_count": null,
   "metadata": {},
   "outputs": [],
   "source": [
    "import numpy as np\n",
    "np.set_printoptions(formatter = {'float': lambda x: '{0:0.3f}'.format(x)})\n",
    "\n",
    "from matplotlib import pyplot as plt\n",
    "\n",
    "from tabulate import tabulate"
   ]
  },
  {
   "source": [
    "## 2. Grados de Libertad"
   ],
   "cell_type": "markdown",
   "metadata": {}
  },
  {
   "cell_type": "code",
   "execution_count": null,
   "metadata": {},
   "outputs": [],
   "source": [
    "gdl = int(input('* Ingrese el número de grados de libertad: '))\n",
    "\n",
    "print(f'* El modelo es de {gdl} GDL.')\n"
   ]
  },
  {
   "source": [
    "## 3. Matriz de Rigidez"
   ],
   "cell_type": "markdown",
   "metadata": {}
  },
  {
   "source": [
    "### 3.1 Rigideces de Entrepiso"
   ],
   "cell_type": "markdown",
   "metadata": {}
  },
  {
   "cell_type": "code",
   "execution_count": null,
   "metadata": {},
   "outputs": [],
   "source": [
    "k = np.empty(gdl)\n",
    "\n",
    "for i in range(gdl):\n",
    "    k[i] = float(input(f'* Rigidez K{i + 1} (N/m): '))\n",
    "\n",
    "for i in range(gdl):\n",
    "    print(f'\\n> Rigidez K{gdl - i} = {k[gdl - i - 1]} N/m')"
   ]
  },
  {
   "source": [
    "### 3.2 Formulación de la Matriz de Rigidez"
   ],
   "cell_type": "markdown",
   "metadata": {}
  },
  {
   "cell_type": "code",
   "execution_count": null,
   "metadata": {},
   "outputs": [],
   "source": [
    "K = np.zeros((gdl, gdl))\n",
    "\n",
    "for i in range(gdl):\n",
    "    ## Cálculo de rigideces\n",
    "\n",
    "    # Rigidez actual\n",
    "    k1 = k[i]\n",
    "\n",
    "    # Rigidez posterior\n",
    "    try:\n",
    "        k2 = k[i + 1]\n",
    "    except IndexError:\n",
    "        k2 = 0\n",
    "\n",
    "\n",
    "    ## Llenado de la matriz\n",
    "\n",
    "    # Posición actual\n",
    "    K[i, i] = k1 + k2\n",
    "\n",
    "    # Posición derecha\n",
    "    if i + 1 < gdl:\n",
    "        K[i, i + 1] = -k2\n",
    "\n",
    "    # Posición izquierda\n",
    "    if i - 1 >= 0:\n",
    "        K[i, i - 1] = -k1"
   ]
  },
  {
   "source": [
    "* Matriz de Rigidez:\n",
    "\n",
    "$$\n",
    "\\textbf{K} = \n",
    " \\begin{pmatrix}\n",
    "  K_1 + K_2 & -K_2 & 0 & \\cdots & 0 & 0  \\\\\n",
    "  -K_2 & K_2 + K_3 & - K_3 & \\cdots & 0  & 0 \\\\\n",
    "  0 & - K_3 &  K_3 + K_4 & \\cdots & 0  & 0 \\\\\n",
    "  \\vdots  & \\vdots  & \\vdots  & \\ddots & \\vdots  & \\vdots   \\\\\n",
    "  0 & 0 &  0 & \\cdots & K_{i-1} + K_{i} & -K_{i}\\\\\n",
    "  0 & 0 &  0 & \\cdots & -K_i & -K_{i}\n",
    " \\end{pmatrix}\n",
    " $$"
   ],
   "cell_type": "markdown",
   "metadata": {}
  },
  {
   "source": [
    "### 3.3 Representación de la Matriz de Rigidez"
   ],
   "cell_type": "markdown",
   "metadata": {}
  },
  {
   "cell_type": "code",
   "execution_count": null,
   "metadata": {},
   "outputs": [],
   "source": [
    "K_r = tabulate(K, tablefmt = 'fancy_grid')\n",
    "\n",
    "print('• A =\\n')\n",
    "print(K_r)\n"
   ]
  },
  {
   "source": [
    "## 4. Matriz de Masas"
   ],
   "cell_type": "markdown",
   "metadata": {}
  },
  {
   "source": [
    "### 4.1 Masas Concentradas"
   ],
   "cell_type": "markdown",
   "metadata": {}
  },
  {
   "cell_type": "code",
   "execution_count": null,
   "metadata": {},
   "outputs": [],
   "source": [
    "m = np.empty(gdl)\n",
    "\n",
    "for i in range(gdl):\n",
    "    m[i] = float(input(f'* Masa M{i + 1} (kg): '))\n",
    "\n",
    "for i in range(gdl):\n",
    "    print(f'\\n> Masa M{gdl - i} = {m[gdl - i - 1]} kg')"
   ]
  },
  {
   "source": [
    "### 4.2 Formulación de la Matriz de Masas"
   ],
   "cell_type": "markdown",
   "metadata": {}
  },
  {
   "cell_type": "code",
   "execution_count": null,
   "metadata": {},
   "outputs": [],
   "source": [
    "M =  np.zeros((gdl, gdl))\n",
    "\n",
    "for i in range(gdl):\n",
    "    M[i, i] = m[i]"
   ]
  },
  {
   "source": [
    "* Matriz de Masas:\n",
    "\n",
    "$$\n",
    "\\textbf{M} =\n",
    "\\begin{pmatrix}\n",
    "m_1 &   0   &   \\cdots  &   0   \\\\\n",
    "0   &   m_2 &   \\cdots  &   0   \\\\\n",
    "\\vdots  &   \\vdots  &   \\ddots  &   \\vdots \\\\\n",
    "0   &   0   &   \\cdots  &   m_i   \n",
    "\\end{pmatrix}\n",
    "$$"
   ],
   "cell_type": "markdown",
   "metadata": {}
  },
  {
   "source": [
    "### 4.3 Representación de la Matriz de Masas"
   ],
   "cell_type": "markdown",
   "metadata": {}
  },
  {
   "cell_type": "code",
   "execution_count": null,
   "metadata": {},
   "outputs": [],
   "source": [
    "M_r = tabulate(M, tablefmt = 'fancy_grid')\n",
    "\n",
    "print('• M =\\n')\n",
    "print(M_r)\n"
   ]
  },
  {
   "source": [
    "## 5. Frecuencias y Períodos"
   ],
   "cell_type": "markdown",
   "metadata": {}
  },
  {
   "source": [
    "- Para el cálculo de las _frecuencias modales_ se parte de la expresión:  \n",
    "<br />\n",
    "$$\n",
    "\\textbf{K} \\cdot \\textbf{X} = \\omega ^2 \\ \\textbf{M} \\cdot \\textbf{X}  \\\\[3pt]\n",
    "$$\n",
    "\n",
    "- Multiplicando por la _inversa de la Matriz de Masas_ $\\textbf{M}^{-1}$ a ambos miembros se tiene:  \n",
    "<br />\n",
    "$$\n",
    "\\textbf{M}^{-1} \\cdot \\textbf{K}  \\cdot \\textbf{X} = \\omega ^2 \\ \\textbf{X} \\\\[3pt]\n",
    "$$\n",
    "\n",
    "- Lo cual equivale al _Problema de Valores Característicos_ (PVC) de la matriz $\\textbf{A}$.  \n",
    "<br />\n",
    "$$\n",
    "\\textbf{A} \\cdot \\textbf{X} = \\lambda \\cdot \\textbf{X}\n",
    "$$"
   ],
   "cell_type": "markdown",
   "metadata": {}
  },
  {
   "source": [
    "### 5.1 Obtención de la Matriz A"
   ],
   "cell_type": "markdown",
   "metadata": {}
  },
  {
   "cell_type": "code",
   "execution_count": null,
   "metadata": {},
   "outputs": [],
   "source": [
    "M_ = np.linalg.inv(M)\n",
    "\n",
    "A = np.matmul(M_, K)"
   ]
  },
  {
   "source": [
    "### 5.2 Representación de la Matriz A"
   ],
   "cell_type": "markdown",
   "metadata": {}
  },
  {
   "cell_type": "code",
   "execution_count": null,
   "metadata": {},
   "outputs": [],
   "source": [
    "A_r = tabulate(A, tablefmt = 'fancy_grid')\n",
    "\n",
    "print('* Matriz A:\\n')\n",
    "print(A_r)\n"
   ]
  },
  {
   "source": [
    "### 5.3 Autovalores de A"
   ],
   "cell_type": "markdown",
   "metadata": {}
  },
  {
   "cell_type": "code",
   "execution_count": null,
   "metadata": {},
   "outputs": [],
   "source": [
    "A_lambda = np.linalg.eig(A)[0][::-1]\n",
    "\n",
    "print('\\n- Autovalores:')\n",
    "\n",
    "for i in range(gdl):\n",
    "    print(f'\\n\\t* λ{i + 1} = {A_lambda[i]:.2f}')"
   ]
  },
  {
   "source": [
    "### 5.4 Cálculo de Frecuencias"
   ],
   "cell_type": "markdown",
   "metadata": {}
  },
  {
   "cell_type": "code",
   "execution_count": null,
   "metadata": {},
   "outputs": [],
   "source": [
    "# Frecuencias circulares\n",
    "w = np.sqrt(A_lambda)\n",
    "\n",
    "print('\\n- Frecuencias circulares (rad/s)')\n",
    "\n",
    "for i in range(gdl):\n",
    "    print(f'\\n\\t* w{i + 1} = {w[i]:.3f}')\n",
    "\n",
    "# Frecuencias\n",
    "f = w / (2 * np.pi)\n",
    "\n",
    "print('\\n- Frecuencias (Hz)')\n",
    "\n",
    "for i in range(gdl):\n",
    "    print(f'\\n\\t* f{i + 1} = {f[i]:.3f}')"
   ]
  },
  {
   "source": [
    "### 5.5 Cálculo de Períodos"
   ],
   "cell_type": "markdown",
   "metadata": {}
  },
  {
   "cell_type": "code",
   "execution_count": null,
   "metadata": {},
   "outputs": [],
   "source": [
    "T = 1 / f\n",
    "\n",
    "print('\\n- Períodos (s)')\n",
    "\n",
    "for i in range(gdl):\n",
    "    print(f'\\n\\t* T{i + 1} = {T[i]:.3f}')"
   ]
  },
  {
   "source": [
    "## 6. Modos de Vibración"
   ],
   "cell_type": "markdown",
   "metadata": {}
  },
  {
   "source": [
    "* A partir de la solución de la _matriz de vectores propios_ de la matriz $\\textbf{X}$ se tiene:\n",
    "\n",
    "<br/>\n",
    "\n",
    "$$\n",
    "\\textbf{X}=\\left[ \\begin{Bmatrix} \n",
    "\\\\\n",
    "X_i  \\\\\\\\\n",
    "\\end{Bmatrix}\\cdots\n",
    "\\begin{Bmatrix} \n",
    "\\\\\n",
    "X_2 \\\\\\\\\n",
    "\\end{Bmatrix}\n",
    "\\begin{Bmatrix} \n",
    "\\\\\n",
    "X_1  \\\\\\\\\n",
    "\\end{Bmatrix} \\right]\n",
    "$$\n",
    "\n",
    "<br/>\n",
    "\n",
    "* Donde cada vector $X_{i}$ es un vector unitario _tomado de forma vertical_ dentro de la matriz."
   ],
   "cell_type": "markdown",
   "metadata": {}
  },
  {
   "source": [
    "### 6.1 Matriz de Vectores Propios"
   ],
   "cell_type": "markdown",
   "metadata": {}
  },
  {
   "cell_type": "code",
   "execution_count": null,
   "metadata": {},
   "outputs": [],
   "source": [
    "X = np.round(np.linalg.eig(A)[1], 4)\n",
    "\n",
    "X_r = tabulate(X, tablefmt = 'fancy_grid')\n",
    "\n",
    "print('* Matriz X:\\n')\n",
    "print(X_r)\n",
    "\n"
   ]
  },
  {
   "source": [
    "### 6.2 Vectores de Modos de Vibración"
   ],
   "cell_type": "markdown",
   "metadata": {}
  },
  {
   "cell_type": "code",
   "execution_count": null,
   "metadata": {},
   "outputs": [],
   "source": [
    "# Traspuesta de la matriz de autovectores de A\n",
    "Xt = X.transpose()\n",
    "\n",
    "x = np.empty((gdl, gdl))\n",
    "\n",
    "print('\\n- Vectores Φ:')\n",
    "\n",
    "for i in range(gdl):\n",
    "    x[i] = Xt[gdl - i - 1].flatten()\n",
    "    print(f'\\n\\t* Vector X{i + 1} = {x[i]}')"
   ]
  },
  {
   "source": [
    "### 6.3 Normalización Respecto a la Matriz de Masas"
   ],
   "cell_type": "markdown",
   "metadata": {}
  },
  {
   "source": [
    "Existen diversos métodos para normalizar los modos de vibración. La más conveniente, para una posterior aplicación del _Método Dinámico Modal Espectral_, es aquella respecto a la _Matriz de Masas_ $\\textbf{M}$.\n",
    "\n",
    "$$\\phi_i = \\frac{X_i}{\\sqrt{\\displaystyle  X_i^T \\cdot \\textbf{M} \\cdot X_i}}$$"
   ],
   "cell_type": "markdown",
   "metadata": {}
  },
  {
   "cell_type": "code",
   "execution_count": null,
   "metadata": {},
   "outputs": [],
   "source": [
    "phi = np.copy(x)\n",
    "\n",
    "for i in range(gdl):\n",
    "    # Normalización en una línea, por César Sánchez\n",
    "    phi[i] = x[i] / np.sqrt(x[i] @ M @ x[i].reshape(-1, 1))\n",
    "\n",
    "print('\\n- Vectores Normalizados Φ:')\n",
    "\n",
    "for i in range(gdl):\n",
    "    print(f'\\n\\t* Vector Φ{i + 1} = {phi[i]}')"
   ]
  },
  {
   "source": [
    "## 7. Interpretación de Resultados"
   ],
   "cell_type": "markdown",
   "metadata": {}
  },
  {
   "cell_type": "code",
   "execution_count": null,
   "metadata": {},
   "outputs": [],
   "source": [
    "plt.rcParams['figure.figsize'] = 4.5 * len(phi), 8\n",
    "plt.rcParams['font.family'] = 'Cascadia Mono'\n",
    "plt.style.use('grayscale')"
   ]
  },
  {
   "cell_type": "code",
   "execution_count": null,
   "metadata": {},
   "outputs": [],
   "source": [
    "# Creación de subplots\n",
    "fig, axs = plt.subplots(1, gdl)\n",
    "\n",
    "# Título global\n",
    "fig.suptitle('Modos de Vibración', fontsize = '25')\n",
    "\n",
    "for i, x in enumerate(phi):\n",
    "    y = []\n",
    "\n",
    "    for j in range(len(phi[i])):\n",
    "        y.append(6 * (j + 1) / len(phi[i]))\n",
    "\n",
    "    axs[i].set_title(f'i = {i + 1}', fontsize = '13')\n",
    "    \n",
    "    axs[i].yaxis.set_visible(False)\n",
    "    axs[i].set_xticks([-1, 0, 1])\n",
    "\n",
    "    axs[i].plot(0, 0, marker = '_', markersize = 30)\n",
    "\n",
    "    # Posición inicial\n",
    "    axs[i].plot(np.zeros(len(phi[i])), y, marker = 'o', markersize = 23, linestyle = '', color = '#d8dcd6', zorder = 0)\n",
    "    axs[i].plot(np.zeros(len(phi[i]) + 1), np.append(0, y), linestyle = '--', color = '#d8dcd6')\n",
    "\n",
    "    \n",
    "    # Posición final\n",
    "    axs[i].plot(x, y, marker = 'o', markersize = 23, linestyle = '', color = '#c14a09', zorder = 1)\n",
    "    axs[i].plot(np.append(0, x), np.append(0, y), linestyle = '-', color = '#c14a09', alpha = 0.75)\n",
    "\n",
    "    # Vectores desplazamiento\n",
    "    axs[i].quiver(np.zeros(len(phi[i])), y, x, np.zeros(len(phi[i])), scale = 1, zorder = 2, color = '#d8dcd6', units = 'x', alpha = 0.75)\n",
    "\n",
    "    # Frecuencias circulares\n",
    "    axs[i].text(0, -0.5, f'w{i + 1} = {w[i]:.2f} rad/s', fontsize = 11, ha = 'center', color = '#363737')\n",
    "\n",
    "    axs[i].set_xlim([-1.2, 1.2])\n",
    "    axs[i].set_ylim([-1, 7])\n",
    "\n",
    "plt.show()"
   ]
  },
  {
   "cell_type": "code",
   "execution_count": null,
   "metadata": {},
   "outputs": [],
   "source": []
  }
 ]
}