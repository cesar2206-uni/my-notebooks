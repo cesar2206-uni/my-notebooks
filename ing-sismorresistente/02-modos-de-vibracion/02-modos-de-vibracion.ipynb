{
 "cells": [
  {
   "cell_type": "markdown",
   "metadata": {},
   "source": [
    "# II. Modos de Vibración"
   ]
  },
  {
   "cell_type": "markdown",
   "metadata": {},
   "source": [
    "## 1. Librerías"
   ]
  },
  {
   "cell_type": "code",
   "execution_count": 1,
   "metadata": {},
   "outputs": [],
   "source": [
    "import numpy as np\n",
    "np.set_printoptions(formatter = {'float': lambda x: '{0:0.5f}'.format(x)})\n",
    "\n",
    "import matplotlib.pyplot as plt\n",
    "\n",
    "from tabulate import tabulate"
   ]
  },
  {
   "cell_type": "markdown",
   "metadata": {},
   "source": [
    "## 2. Grados de Libertad"
   ]
  },
  {
   "cell_type": "code",
   "execution_count": 2,
   "metadata": {},
   "outputs": [
    {
     "output_type": "stream",
     "name": "stdout",
     "text": [
      "* El modelo es de 2 GDL.\n"
     ]
    }
   ],
   "source": [
    "while True:\n",
    "    try:\n",
    "        gdl = int(input('* Ingrese el número de grados de libertad: '))\n",
    "        break\n",
    "    except ValueError:\n",
    "        print('! Ingrese un número de GDL válido.\\n')\n",
    "\n",
    "print(f'* El modelo es de {gdl} GDL.')"
   ]
  },
  {
   "cell_type": "markdown",
   "metadata": {},
   "source": [
    "## 3. Matriz de Rigidez  \n",
    "\n",
    "<br />\n",
    "\n",
    "$$\n",
    "\\textbf{K} = \n",
    " \\begin{pmatrix}\n",
    "  K_1 + K_2 & -K_2 & 0 & \\cdots & 0 & 0  \\\\\n",
    "  -K_2 & K_2 + K_3 & - K_3 & \\cdots & 0  & 0 \\\\\n",
    "  0 & - K_3 &  K_3 + K_4 & \\cdots & 0  & 0 \\\\\n",
    "  \\vdots  & \\vdots  & \\vdots  & \\ddots & \\vdots  & \\vdots   \\\\\n",
    "  0 & 0 &  0 & \\cdots & K_{n-1} + K_{n} & -K_{n}\\\\\n",
    "  0 & 0 &  0 & \\cdots & -K_n & -K_{n}\n",
    " \\end{pmatrix}\n",
    " $$"
   ]
  },
  {
   "cell_type": "markdown",
   "metadata": {},
   "source": [
    "### 3.1 Rigideces de Entrepiso"
   ]
  },
  {
   "cell_type": "code",
   "execution_count": 3,
   "metadata": {},
   "outputs": [
    {
     "output_type": "stream",
     "name": "stdout",
     "text": [
      "\n",
      "> Rigidez K1 = 155555.56 kg/cm\n",
      "\n",
      "> Rigidez K2 = 87179.49 kg/cm\n"
     ]
    }
   ],
   "source": [
    "k = np.empty(gdl)\n",
    "\n",
    "for i in range(gdl):\n",
    "    while True:\n",
    "        try:\n",
    "            k[i] = float(input(f'* Rigidez K{i + 1} (kg/cm): '))\n",
    "            print(f'\\n> Rigidez K{i + 1} = {k[i]} kg/cm')\n",
    "            break\n",
    "        except ValueError:\n",
    "            print(f'\\n! Ingrese un valor de K{i + 1} válido.')"
   ]
  },
  {
   "cell_type": "markdown",
   "metadata": {},
   "source": [
    "### 3.2 Formulación de la Matriz de Rigidez"
   ]
  },
  {
   "cell_type": "code",
   "execution_count": 4,
   "metadata": {},
   "outputs": [],
   "source": [
    "K = np.zeros((gdl, gdl))\n",
    "\n",
    "for i in range(gdl):\n",
    "    ## Cálculo de rigideces\n",
    "\n",
    "    # Rigidez actual\n",
    "    k1 = k[i]\n",
    "\n",
    "    # Rigidez posterior\n",
    "    try:\n",
    "        k2 = k[i + 1]\n",
    "    except IndexError:\n",
    "        k2 = 0\n",
    "\n",
    "    ## Llenado de la matriz\n",
    "\n",
    "    # Posición actual\n",
    "    K[i, i] = k1 + k2\n",
    "\n",
    "    # Posición derecha\n",
    "    if i + 1 < gdl:\n",
    "        K[i, i + 1] = -k2\n",
    "\n",
    "    # Posición izquierda\n",
    "    if i - 1 >= 0:\n",
    "        K[i, i - 1] = -k1"
   ]
  },
  {
   "cell_type": "markdown",
   "metadata": {},
   "source": []
  },
  {
   "cell_type": "markdown",
   "metadata": {},
   "source": [
    "### 3.3 Representación de la Matriz de Rigidez"
   ]
  },
  {
   "cell_type": "code",
   "execution_count": 5,
   "metadata": {},
   "outputs": [
    {
     "output_type": "stream",
     "name": "stdout",
     "text": [
      "• Matriz K =\n\n╒══════════╤══════════╕\n│ 242735   │ -87179.5 │\n├──────────┼──────────┤\n│ -87179.5 │  87179.5 │\n╘══════════╧══════════╛\n"
     ]
    }
   ],
   "source": [
    "K_r = tabulate(K, tablefmt = 'fancy_grid')\n",
    "\n",
    "print('• Matriz K =\\n')\n",
    "print(K_r)"
   ]
  },
  {
   "cell_type": "markdown",
   "metadata": {},
   "source": [
    "## 4. Matriz de Masas  \n",
    "\n",
    "<br />\n",
    "\n",
    "$$\n",
    "\\textbf{M} =\n",
    "\\begin{pmatrix}\n",
    "m_1 &   0   &   \\cdots  &   0   \\\\\n",
    "0   &   m_2 &   \\cdots  &   0   \\\\\n",
    "\\vdots  &   \\vdots  &   \\ddots  &   \\vdots \\\\\n",
    "0   &   0   &   \\cdots  &   m_n   \n",
    "\\end{pmatrix}\n",
    "$$"
   ]
  },
  {
   "cell_type": "markdown",
   "metadata": {},
   "source": [
    "### 4.1 Masas Concentradas"
   ]
  },
  {
   "cell_type": "code",
   "execution_count": 6,
   "metadata": {},
   "outputs": [
    {
     "output_type": "stream",
     "name": "stdout",
     "text": [
      "\n",
      "> Masa M1 = 154.74 kg-s2/cm\n",
      "\n",
      "> Masa M2 = 150.25 kg-s2/cm\n"
     ]
    }
   ],
   "source": [
    "m = np.empty(gdl)\n",
    "\n",
    "for i in range(gdl):\n",
    "    while True:\n",
    "        try:\n",
    "            m[i] = float(input(f'* Masa M{i + 1} (kg-s2/cm): '))\n",
    "            print(f'\\n> Masa M{i + 1} = {m[i]} kg-s2/cm')\n",
    "            break\n",
    "        except ValueError:\n",
    "            print(f'\\n! Ingrese un valor de M{i + 1} válido.')"
   ]
  },
  {
   "cell_type": "markdown",
   "metadata": {},
   "source": [
    "### 4.2 Formulación de la Matriz de Masas"
   ]
  },
  {
   "cell_type": "code",
   "execution_count": 7,
   "metadata": {},
   "outputs": [],
   "source": [
    "M =  np.zeros((gdl, gdl))\n",
    "\n",
    "for i in range(gdl):\n",
    "    M[i, i] = m[i]"
   ]
  },
  {
   "cell_type": "markdown",
   "metadata": {},
   "source": [
    "### 4.3 Representación de la Matriz de Masas"
   ]
  },
  {
   "cell_type": "code",
   "execution_count": 8,
   "metadata": {},
   "outputs": [
    {
     "output_type": "stream",
     "name": "stdout",
     "text": [
      "- Matriz M =\n\n╒════════╤════════╕\n│ 154.74 │   0    │\n├────────┼────────┤\n│   0    │ 150.25 │\n╘════════╧════════╛\n"
     ]
    }
   ],
   "source": [
    "M_r = tabulate(M, tablefmt = 'fancy_grid')\n",
    "\n",
    "print('- Matriz M =\\n')\n",
    "print(M_r)"
   ]
  },
  {
   "cell_type": "markdown",
   "metadata": {},
   "source": [
    "## 5. Frecuencias y Períodos\n",
    "\n",
    "<br />\n",
    "\n",
    "- Para el cálculo de las _frecuencias modales_ se parte de la expresión:  \n",
    "<br />\n",
    "\n",
    "$$\n",
    "\\textbf{K} \\cdot \\textbf{X} = \\omega ^2 \\ \\textbf{M} \\cdot \\textbf{X}  \\\\[3pt]\n",
    "$$\n",
    "\n",
    "<br />\n",
    "\n",
    "- Multiplicando por la _inversa de la Matriz de Masas_ $\\textbf{M}^{-1}$ a ambos miembros se tiene:  \n",
    "\n",
    "<br />\n",
    "\n",
    "$$\n",
    "\\textbf{M}^{-1} \\cdot \\textbf{K}  \\cdot \\textbf{X} = \\omega ^2 \\ \\textbf{X} \\\\[3pt]\n",
    "$$\n",
    "\n",
    "<br />\n",
    "\n",
    "- Lo cual equivale al _Problema de Valores Característicos_ (PVC) de la matriz $\\textbf{A}$.  \n",
    "\n",
    "<br />\n",
    "\n",
    "$$\n",
    "\\textbf{A} \\cdot \\textbf{X} = \\lambda \\cdot \\textbf{X}\n",
    "$$"
   ]
  },
  {
   "cell_type": "markdown",
   "metadata": {},
   "source": [
    "### 5.1 Obtención de la Matriz A"
   ]
  },
  {
   "cell_type": "code",
   "execution_count": 9,
   "metadata": {},
   "outputs": [],
   "source": [
    "M_ = np.linalg.inv(M)\n",
    "\n",
    "A = np.matmul(M_, K)"
   ]
  },
  {
   "cell_type": "markdown",
   "metadata": {},
   "source": [
    "### 5.2 Representación de la Matriz A"
   ]
  },
  {
   "cell_type": "code",
   "execution_count": 10,
   "metadata": {},
   "outputs": [
    {
     "output_type": "stream",
     "name": "stdout",
     "text": [
      "- Matriz A:\n\n╒═════════╤══════════╕\n│ 1568.66 │ -563.393 │\n├─────────┼──────────┤\n│ -580.23 │  580.23  │\n╘═════════╧══════════╛\n"
     ]
    }
   ],
   "source": [
    "A_r = tabulate(A, tablefmt = 'fancy_grid')\n",
    "\n",
    "print('- Matriz A:\\n')\n",
    "print(A_r)"
   ]
  },
  {
   "cell_type": "markdown",
   "metadata": {},
   "source": [
    "### 5.3 Autovalores de A"
   ]
  },
  {
   "cell_type": "code",
   "execution_count": 11,
   "metadata": {},
   "outputs": [
    {
     "output_type": "stream",
     "name": "stdout",
     "text": [
      "- Autovalores:\n\n\t* λ1 = 318.70\n\n\t* λ2 = 1830.19\n"
     ]
    }
   ],
   "source": [
    "A_lambda = np.linalg.eig(A)[0][::-1]\n",
    "\n",
    "print('- Autovalores:')\n",
    "\n",
    "for i in range(gdl):\n",
    "    print(f'\\n\\t* λ{i + 1} = {A_lambda[i]:.2f}')"
   ]
  },
  {
   "cell_type": "markdown",
   "metadata": {},
   "source": [
    "### 5.4 Cálculo de Frecuencias"
   ]
  },
  {
   "cell_type": "code",
   "execution_count": 12,
   "metadata": {},
   "outputs": [
    {
     "output_type": "stream",
     "name": "stdout",
     "text": [
      "- Frecuencias circulares (rad/s)\n\n\t* w1 = 17.8523\n\n\t* w2 = 42.7807\n\n- Frecuencias naturales (Hz)\n\n\t* f1 = 2.8413\n\n\t* f2 = 6.8088\n"
     ]
    }
   ],
   "source": [
    "# Frecuencias circulares\n",
    "w = np.sqrt(A_lambda)\n",
    "\n",
    "print('- Frecuencias circulares (rad/s)')\n",
    "\n",
    "for i in range(gdl):\n",
    "    print(f'\\n\\t* w{i + 1} = {w[i]:.4f}')\n",
    "\n",
    "# Frecuencias\n",
    "f = w / (2 * np.pi)\n",
    "\n",
    "print('\\n- Frecuencias naturales (Hz)')\n",
    "\n",
    "for i in range(gdl):\n",
    "    print(f'\\n\\t* f{i + 1} = {f[i]:.4f}')"
   ]
  },
  {
   "cell_type": "markdown",
   "metadata": {},
   "source": [
    "### 5.5 Cálculo de Períodos"
   ]
  },
  {
   "cell_type": "code",
   "execution_count": 13,
   "metadata": {},
   "outputs": [
    {
     "output_type": "stream",
     "name": "stdout",
     "text": [
      "- Períodos (s)\n\n\t* T1 = 0.352\n\n\t* T2 = 0.147\n"
     ]
    }
   ],
   "source": [
    "T = 1 / f\n",
    "\n",
    "print('- Períodos (s)')\n",
    "\n",
    "for i in range(gdl):\n",
    "    print(f'\\n\\t* T{i + 1} = {T[i]:.3f}')"
   ]
  },
  {
   "cell_type": "markdown",
   "metadata": {},
   "source": [
    "## 6. Modos de Vibración\n",
    "\n",
    "<br />\n",
    "\n",
    "* A partir de la solución de la _matriz de vectores propios_ $\\textbf{X}$ de la matriz $\\textbf{A}$ se tiene:\n",
    "\n",
    "<br/>\n",
    "\n",
    "$$\n",
    "\\textbf{X}=\\left[ \\begin{Bmatrix} \n",
    "\\\\\n",
    "X_n  \\\\\\\\\n",
    "\\end{Bmatrix}\\cdots\n",
    "\\begin{Bmatrix} \n",
    "\\\\\n",
    "X_2 \\\\\\\\\n",
    "\\end{Bmatrix}\n",
    "\\begin{Bmatrix} \n",
    "\\\\\n",
    "X_1  \\\\\\\\\n",
    "\\end{Bmatrix} \\right]\n",
    "$$\n",
    "\n",
    "<br/>\n",
    "\n",
    "* Donde cada vector $X_{i}$ se conoce como modo de vibración. Este, es un vector unitario _tomado de forma vertical_ dentro de la matriz.\n",
    "\n",
    "* Existen diversos métodos para normalizar los modos de vibración. El más conveniente, para una posterior aplicación del _Método Dinámico Modal Espectral_, es aquel respecto a la _Matriz de Masas_ $\\textbf{M}$.\n",
    "\n",
    "$$\\phi_i = \\frac{X_i}{\\sqrt{\\displaystyle  X_i^T \\cdot \\textbf{M} \\cdot X_i}}$$"
   ]
  },
  {
   "cell_type": "markdown",
   "metadata": {},
   "source": [
    "### 6.1 Matriz de Vectores Propios"
   ]
  },
  {
   "cell_type": "code",
   "execution_count": 14,
   "metadata": {},
   "outputs": [
    {
     "output_type": "stream",
     "name": "stdout",
     "text": [
      "- Matriz X:\n\n╒═══════════╤══════════╕\n│  0.907039 │ 0.410917 │\n├───────────┼──────────┤\n│ -0.421046 │ 0.911673 │\n╘═══════════╧══════════╛\n"
     ]
    }
   ],
   "source": [
    "X = np.linalg.eig(A)[1]\n",
    "\n",
    "X_r = tabulate(X, tablefmt = 'fancy_grid')\n",
    "\n",
    "print('- Matriz X:\\n')\n",
    "print(X_r)"
   ]
  },
  {
   "cell_type": "markdown",
   "metadata": {},
   "source": [
    "### 6.2 Vectores de Modos de Vibración"
   ]
  },
  {
   "cell_type": "code",
   "execution_count": 15,
   "metadata": {},
   "outputs": [
    {
     "output_type": "stream",
     "name": "stdout",
     "text": [
      "- Vectores x:\n\n\t* Vector x1 = [0.41092 0.91167]\n\n\t* Vector x2 = [0.90704 -0.42105]\n"
     ]
    }
   ],
   "source": [
    "# Traspuesta de la matriz de autovectores de A\n",
    "Xt = X.T\n",
    "\n",
    "x = np.empty((gdl, gdl))\n",
    "\n",
    "print('- Vectores x:')\n",
    "\n",
    "for i in range(gdl):\n",
    "    x[i] = Xt[gdl - i - 1].flatten()\n",
    "    print(f'\\n\\t* Vector x{i + 1} = {x[i]}')"
   ]
  },
  {
   "cell_type": "markdown",
   "metadata": {},
   "source": [
    "### 6.3 Normalización Respecto a la Matriz de Masas"
   ]
  },
  {
   "cell_type": "code",
   "execution_count": 16,
   "metadata": {},
   "outputs": [
    {
     "output_type": "stream",
     "name": "stdout",
     "text": [
      "\n- Vectores Normalizados Φ:\n\n\t* Vector Φ1 = [0.03344 0.07419]\n\n\t* Vector Φ2 = [0.07310 -0.03394]\n"
     ]
    }
   ],
   "source": [
    "phi = np.copy(x)\n",
    "\n",
    "for i in range(gdl):\n",
    "    # Normalización en una línea, por César Sánchez\n",
    "    phi[i] = x[i] / np.sqrt(x[i] @ M @ x[i].reshape(-1, 1))\n",
    "\n",
    "print('\\n- Vectores Normalizados Φ:')\n",
    "\n",
    "for i in range(gdl):\n",
    "    print(f'\\n\\t* Vector Φ{i + 1} = {phi[i]}')"
   ]
  },
  {
   "cell_type": "code",
   "execution_count": 17,
   "metadata": {},
   "outputs": [
    {
     "output_type": "execute_result",
     "data": {
      "text/plain": [
       "array([0.03344, 0.07419])"
      ]
     },
     "metadata": {},
     "execution_count": 17
    }
   ],
   "source": [
    "phi[0]"
   ]
  },
  {
   "cell_type": "markdown",
   "metadata": {},
   "source": [
    "## 7. Interpretación de Resultados"
   ]
  },
  {
   "cell_type": "code",
   "execution_count": 18,
   "metadata": {},
   "outputs": [],
   "source": [
    "plt.rcParams['figure.figsize'] = 4.5 * len(phi), 8\n",
    "plt.rcParams['font.family'] = 'Georgia'\n",
    "plt.rcParams['font.style'] = 'italic'\n",
    "plt.style.use('grayscale')"
   ]
  },
  {
   "cell_type": "code",
   "execution_count": 19,
   "metadata": {},
   "outputs": [
    {
     "output_type": "display_data",
     "data": {
      "text/plain": "<Figure size 900x800 with 2 Axes>",
      "image/svg+xml": "<?xml version=\"1.0\" encoding=\"utf-8\" standalone=\"no\"?>\r\n<!DOCTYPE svg PUBLIC \"-//W3C//DTD SVG 1.1//EN\"\r\n  \"http://www.w3.org/Graphics/SVG/1.1/DTD/svg11.dtd\">\r\n<!-- Created with matplotlib (https://matplotlib.org/) -->\r\n<svg height=\"519.02pt\" version=\"1.1\" viewBox=\"0 0 520.1 519.02\" width=\"520.1pt\" xmlns=\"http://www.w3.org/2000/svg\" xmlns:xlink=\"http://www.w3.org/1999/xlink\">\r\n <metadata>\r\n  <rdf:RDF xmlns:cc=\"http://creativecommons.org/ns#\" xmlns:dc=\"http://purl.org/dc/elements/1.1/\" xmlns:rdf=\"http://www.w3.org/1999/02/22-rdf-syntax-ns#\">\r\n   <cc:Work>\r\n    <dc:type rdf:resource=\"http://purl.org/dc/dcmitype/StillImage\"/>\r\n    <dc:date>2021-06-21T12:17:33.381226</dc:date>\r\n    <dc:format>image/svg+xml</dc:format>\r\n    <dc:creator>\r\n     <cc:Agent>\r\n      <dc:title>Matplotlib v3.3.4, https://matplotlib.org/</dc:title>\r\n     </cc:Agent>\r\n    </dc:creator>\r\n   </cc:Work>\r\n  </rdf:RDF>\r\n </metadata>\r\n <defs>\r\n  <style type=\"text/css\">*{stroke-linecap:butt;stroke-linejoin:round;}</style>\r\n </defs>\r\n <g id=\"figure_1\">\r\n  <g id=\"patch_1\">\r\n   <path d=\"M 0 519.02 \r\nL 520.1 519.02 \r\nL 520.1 0 \r\nL 0 0 \r\nz\r\n\" style=\"fill:#bfbfbf;\"/>\r\n  </g>\r\n  <g id=\"axes_1\">\r\n   <g id=\"patch_2\">\r\n    <path d=\"M 10.7 508.32 \r\nL 238.972727 508.32 \r\nL 238.972727 64.8 \r\nL 10.7 64.8 \r\nz\r\n\" style=\"fill:#ffffff;\"/>\r\n   </g>\r\n   <g id=\"line2d_1\">\r\n    <defs>\r\n     <path d=\"M 0 11.5 \r\nC 3.049836 11.5 5.975169 10.288287 8.131728 8.131728 \r\nC 10.288287 5.975169 11.5 3.049836 11.5 0 \r\nC 11.5 -3.049836 10.288287 -5.975169 8.131728 -8.131728 \r\nC 5.975169 -10.288287 3.049836 -11.5 0 -11.5 \r\nC -3.049836 -11.5 -5.975169 -10.288287 -8.131728 -8.131728 \r\nC -10.288287 -5.975169 -11.5 -3.049836 -11.5 0 \r\nC -11.5 3.049836 -10.288287 5.975169 -8.131728 8.131728 \r\nC -5.975169 10.288287 -3.049836 11.5 0 11.5 \r\nz\r\n\" id=\"mdc2e170ae1\" style=\"stroke:#d8dcd6;\"/>\r\n    </defs>\r\n    <g clip-path=\"url(#pd3864b2eb2)\">\r\n     <use style=\"fill:#d8dcd6;stroke:#d8dcd6;\" x=\"124.836364\" xlink:href=\"#mdc2e170ae1\" y=\"286.56\"/>\r\n     <use style=\"fill:#d8dcd6;stroke:#d8dcd6;\" x=\"124.836364\" xlink:href=\"#mdc2e170ae1\" y=\"120.24\"/>\r\n    </g>\r\n   </g>\r\n   <g id=\"line2d_2\">\r\n    <defs>\r\n     <path d=\"M 0 11.5 \r\nC 3.049836 11.5 5.975169 10.288287 8.131728 8.131728 \r\nC 10.288287 5.975169 11.5 3.049836 11.5 0 \r\nC 11.5 -3.049836 10.288287 -5.975169 8.131728 -8.131728 \r\nC 5.975169 -10.288287 3.049836 -11.5 0 -11.5 \r\nC -3.049836 -11.5 -5.975169 -10.288287 -8.131728 -8.131728 \r\nC -10.288287 -5.975169 -11.5 -3.049836 -11.5 0 \r\nC -11.5 3.049836 -10.288287 5.975169 -8.131728 8.131728 \r\nC -5.975169 10.288287 -3.049836 11.5 0 11.5 \r\nz\r\n\" id=\"mf1b5d468f5\" style=\"stroke:#c14a09;\"/>\r\n    </defs>\r\n    <g clip-path=\"url(#pd3864b2eb2)\">\r\n     <use style=\"fill:#c14a09;stroke:#c14a09;\" x=\"159.132736\" xlink:href=\"#mf1b5d468f5\" y=\"286.56\"/>\r\n     <use style=\"fill:#c14a09;stroke:#c14a09;\" x=\"200.927273\" xlink:href=\"#mf1b5d468f5\" y=\"120.24\"/>\r\n    </g>\r\n   </g>\r\n   <g id=\"Quiver_1\">\r\n    <path clip-path=\"url(#pd3864b2eb2)\" d=\"M 124.836364 285.703977 \r\nL 151.428532 285.703977 \r\nL 150.572509 283.991932 \r\nL 159.132736 286.56 \r\nL 150.572509 289.128068 \r\nL 151.428532 287.416023 \r\nL 124.836364 287.416023 \r\nL 124.836364 285.703977 \r\n\" style=\"fill:#d8dcd6;fill-opacity:0.75;\"/>\r\n    <path clip-path=\"url(#pd3864b2eb2)\" d=\"M 124.836364 119.383977 \r\nL 193.223068 119.383977 \r\nL 192.367045 117.671932 \r\nL 200.927273 120.24 \r\nL 192.367045 122.808068 \r\nL 193.223068 121.096023 \r\nL 124.836364 121.096023 \r\nL 124.836364 119.383977 \r\n\" style=\"fill:#d8dcd6;fill-opacity:0.75;\"/>\r\n   </g>\r\n   <g id=\"line2d_3\">\r\n    <path clip-path=\"url(#pd3864b2eb2)\" d=\"M 124.836364 452.88 \r\n\" style=\"fill:none;stroke:#000000;stroke-linecap:square;stroke-width:1.5;\"/>\r\n    <defs>\r\n     <path d=\"M 15 0 \r\nL -15 -0 \r\n\" id=\"m3144d33632\" style=\"stroke:#000000;\"/>\r\n    </defs>\r\n    <g clip-path=\"url(#pd3864b2eb2)\">\r\n     <use style=\"stroke:#000000;\" x=\"124.836364\" xlink:href=\"#m3144d33632\" y=\"452.88\"/>\r\n    </g>\r\n   </g>\r\n   <g id=\"line2d_4\">\r\n    <path clip-path=\"url(#pd3864b2eb2)\" d=\"M 124.836364 452.88 \r\nL 124.836364 286.56 \r\nL 124.836364 120.24 \r\n\" style=\"fill:none;stroke:#d8dcd6;stroke-dasharray:5.55,2.4;stroke-dashoffset:0;stroke-width:1.5;\"/>\r\n   </g>\r\n   <g id=\"line2d_5\">\r\n    <path clip-path=\"url(#pd3864b2eb2)\" d=\"M 124.836364 452.88 \r\nL 159.132736 286.56 \r\nL 200.927273 120.24 \r\n\" style=\"fill:none;stroke:#c14a09;stroke-linecap:square;stroke-opacity:0.75;stroke-width:1.5;\"/>\r\n   </g>\r\n   <g id=\"patch_3\">\r\n    <path d=\"M 10.7 508.32 \r\nL 10.7 64.8 \r\n\" style=\"fill:none;stroke:#000000;stroke-linecap:square;stroke-linejoin:miter;stroke-width:0.8;\"/>\r\n   </g>\r\n   <g id=\"patch_4\">\r\n    <path d=\"M 238.972727 508.32 \r\nL 238.972727 64.8 \r\n\" style=\"fill:none;stroke:#000000;stroke-linecap:square;stroke-linejoin:miter;stroke-width:0.8;\"/>\r\n   </g>\r\n   <g id=\"patch_5\">\r\n    <path d=\"M 10.7 508.32 \r\nL 238.972727 508.32 \r\n\" style=\"fill:none;stroke:#000000;stroke-linecap:square;stroke-linejoin:miter;stroke-width:0.8;\"/>\r\n   </g>\r\n   <g id=\"patch_6\">\r\n    <path d=\"M 10.7 64.8 \r\nL 238.972727 64.8 \r\n\" style=\"fill:none;stroke:#000000;stroke-linecap:square;stroke-linejoin:miter;stroke-width:0.8;\"/>\r\n   </g>\r\n   <g id=\"text_1\">\r\n    <!-- w1 = 17.85 rad/s -->\r\n    <g style=\"fill:#363737;\" transform=\"translate(83.869957 480.6)scale(0.11 -0.11)\">\r\n     <defs>\r\n      <path d=\"M 79.15625 40.234375 \r\nQ 79.15625 32.5625 76.953125 25.046875 \r\nQ 74.75 17.53125 70.953125 11.8125 \r\nQ 66.703125 5.46875 61.328125 2 \r\nQ 55.953125 -1.46875 49.65625 -1.46875 \r\nQ 45.0625 -1.46875 41.1875 1.0625 \r\nQ 37.3125 3.609375 35.984375 8.0625 \r\nQ 34.234375 6.34375 32.734375 4.875 \r\nQ 31.25 3.421875 28.859375 1.859375 \r\nQ 26.46875 0.296875 24.484375 -0.53125 \r\nQ 22.515625 -1.375 19.4375 -1.375 \r\nQ 15.71875 -1.375 13.296875 -0.21875 \r\nQ 10.890625 0.921875 9.421875 2.78125 \r\nQ 8.0625 4.546875 7.46875 6.765625 \r\nQ 6.890625 8.984375 6.890625 11.421875 \r\nQ 6.890625 12.359375 7.109375 13.765625 \r\nQ 7.328125 15.1875 7.5625 16.21875 \r\nL 11.71875 31.640625 \r\nQ 12.3125 33.84375 12.578125 35.640625 \r\nQ 12.84375 37.453125 12.84375 38.625 \r\nQ 12.84375 41.359375 11.9375 42.265625 \r\nQ 11.03125 43.171875 8.25 43.171875 \r\nQ 7.171875 43.171875 5.515625 42.78125 \r\nQ 3.859375 42.390625 2.9375 42.140625 \r\nL 3.65625 45.265625 \r\nQ 7.46875 46.96875 10.375 47.84375 \r\nQ 13.28125 48.734375 15.046875 48.734375 \r\nQ 18.953125 48.734375 20.78125 46.890625 \r\nQ 22.609375 45.0625 22.609375 41.703125 \r\nQ 22.609375 40.828125 22.40625 39.3125 \r\nQ 22.21875 37.796875 21.828125 36.28125 \r\nL 17.28125 18.265625 \r\nQ 16.84375 16.453125 16.546875 14.546875 \r\nQ 16.265625 12.640625 16.265625 11.71875 \r\nQ 16.265625 8.0625 17.71875 6.171875 \r\nQ 19.1875 4.296875 22.65625 4.296875 \r\nQ 25.734375 4.296875 29.09375 5.984375 \r\nQ 32.46875 7.671875 35.25 10.890625 \r\nL 43.890625 47.953125 \r\nL 52.390625 48.53125 \r\nL 52.984375 47.796875 \r\nL 46.09375 18.0625 \r\nQ 45.75 16.609375 45.375 14.484375 \r\nQ 45.015625 12.359375 45.015625 11.8125 \r\nQ 45.015625 9.125 45.875 7.5625 \r\nQ 46.734375 6 48.046875 5.28125 \r\nQ 49.3125 4.546875 50.671875 4.375 \r\nQ 52.046875 4.203125 53.328125 4.203125 \r\nQ 56.640625 4.203125 60.125 6.296875 \r\nQ 63.625 8.40625 66.21875 11.765625 \r\nQ 69.09375 15.53125 70.75 20.09375 \r\nQ 72.40625 24.65625 72.40625 29.9375 \r\nQ 72.40625 32.859375 71.59375 34.4375 \r\nQ 70.796875 36.03125 69.828125 37.203125 \r\nQ 68.84375 38.421875 68.03125 39.765625 \r\nQ 67.234375 41.109375 67.234375 43.5625 \r\nQ 67.234375 46.34375 69.09375 47.796875 \r\nQ 70.953125 49.265625 73 49.265625 \r\nQ 75.875 49.265625 77.515625 46.9375 \r\nQ 79.15625 44.625 79.15625 40.234375 \r\nz\r\n\" id=\"Georgia-Italic-119\"/>\r\n      <path d=\"M 34.96875 53.953125 \r\nQ 33.9375 50.296875 32.71875 45.578125 \r\nQ 31.5 40.875 31.0625 38.921875 \r\nL 24.3125 9.71875 \r\nQ 24.21875 9.328125 24.171875 8.890625 \r\nQ 24.125 8.453125 24.125 8.0625 \r\nQ 24.125 6.78125 24.703125 5.921875 \r\nQ 25.296875 5.078125 26.125 4.6875 \r\nQ 27.09375 4.203125 29.828125 3.765625 \r\nQ 32.5625 3.328125 34.234375 3.21875 \r\nL 33.453125 0 \r\nL 0.53125 0 \r\nL 1.3125 3.21875 \r\nQ 2.828125 3.328125 5.96875 3.640625 \r\nQ 9.125 3.953125 10.40625 4.296875 \r\nQ 11.71875 4.6875 12.984375 6.03125 \r\nQ 14.265625 7.375 14.65625 9.1875 \r\nL 22.65625 43.953125 \r\nL 10.5 43.953125 \r\nL 11.375 47.796875 \r\nL 14.0625 47.796875 \r\nQ 19.140625 47.796875 23.578125 49.53125 \r\nQ 28.03125 51.265625 30.90625 53.953125 \r\nz\r\n\" id=\"Georgia-Italic-49\"/>\r\n      <path id=\"Georgia-Italic-32\"/>\r\n      <path d=\"M 58.015625 33.34375 \r\nL 8.734375 33.34375 \r\nL 8.734375 39.453125 \r\nL 58.015625 39.453125 \r\nz\r\nM 58.015625 15.1875 \r\nL 8.734375 15.1875 \r\nL 8.734375 21.296875 \r\nL 58.015625 21.296875 \r\nz\r\n\" id=\"Georgia-Italic-61\"/>\r\n      <path d=\"M 57.625 52.390625 \r\nL 56.890625 49.21875 \r\nL 7.078125 -17.828125 \r\nL 0.6875 -17.828125 \r\nL 47.65625 44.4375 \r\nL 28.609375 44.4375 \r\nQ 24.359375 44.4375 21.9375 44.328125 \r\nQ 19.53125 44.234375 17.328125 43.40625 \r\nQ 15.671875 42.78125 13.9375 40.140625 \r\nQ 12.203125 37.5 10.546875 33.25 \r\nL 7.328125 33.25 \r\nL 11.71875 52.390625 \r\nz\r\n\" id=\"Georgia-Italic-55\"/>\r\n      <path d=\"M 19.53125 5.609375 \r\nQ 19.53125 2.875 17.546875 0.9375 \r\nQ 15.578125 -0.984375 12.84375 -0.984375 \r\nQ 10.109375 -0.984375 8.125 0.9375 \r\nQ 6.15625 2.875 6.15625 5.609375 \r\nQ 6.15625 8.34375 8.125 10.328125 \r\nQ 10.109375 12.3125 12.84375 12.3125 \r\nQ 15.578125 12.3125 17.546875 10.328125 \r\nQ 19.53125 8.34375 19.53125 5.609375 \r\nz\r\n\" id=\"Georgia-Italic-46\"/>\r\n      <path d=\"M 58.890625 56.203125 \r\nQ 58.890625 50.203125 54.734375 45 \r\nQ 50.59375 39.796875 42.53125 36.375 \r\nQ 48.921875 33.296875 51.796875 29.40625 \r\nQ 54.6875 25.53125 54.6875 20.90625 \r\nQ 54.6875 11.625 46.15625 4.984375 \r\nQ 37.640625 -1.65625 25.390625 -1.65625 \r\nQ 15.625 -1.65625 10.109375 2.921875 \r\nQ 4.59375 7.515625 4.59375 14.5 \r\nQ 4.59375 21.6875 9.171875 26.875 \r\nQ 13.765625 32.078125 23.6875 35.6875 \r\nQ 18.84375 38.8125 16.515625 42.5 \r\nQ 14.203125 46.1875 14.203125 50.25 \r\nQ 14.203125 58.734375 22.1875 64.90625 \r\nQ 30.171875 71.09375 40.578125 71.09375 \r\nQ 48.96875 71.09375 53.921875 66.84375 \r\nQ 58.890625 62.59375 58.890625 56.203125 \r\nz\r\nM 49.515625 56.78125 \r\nQ 49.515625 61.421875 46.875 64.453125 \r\nQ 44.234375 67.484375 39.15625 67.484375 \r\nQ 32.765625 67.484375 28.296875 63.328125 \r\nQ 23.828125 59.1875 23.828125 52.9375 \r\nQ 23.828125 47.953125 27.609375 44.671875 \r\nQ 31.390625 41.40625 39.453125 38.140625 \r\nQ 44.1875 40.765625 46.84375 45.984375 \r\nQ 49.515625 51.21875 49.515625 56.78125 \r\nz\r\nM 44.921875 18.015625 \r\nQ 44.921875 20.703125 43.796875 22.796875 \r\nQ 42.671875 24.90625 40.375 26.765625 \r\nQ 38.09375 28.609375 34.625 30.359375 \r\nQ 31.15625 32.125 26.8125 33.984375 \r\nQ 20.65625 30.953125 17.484375 25.96875 \r\nQ 14.3125 21 14.3125 14.84375 \r\nQ 14.3125 9.1875 17.75 5.59375 \r\nQ 21.1875 2 27.203125 2 \r\nQ 35.15625 2 40.03125 6.703125 \r\nQ 44.921875 11.421875 44.921875 18.015625 \r\nz\r\n\" id=\"Georgia-Italic-56\"/>\r\n      <path d=\"M 54.390625 52.390625 \r\nL 52.296875 43.796875 \r\nL 21.296875 43.796875 \r\nL 14.59375 23 \r\nQ 17.1875 24.609375 20.828125 26.078125 \r\nQ 24.46875 27.546875 28.953125 27.546875 \r\nQ 32.28125 27.546875 35.34375 26.703125 \r\nQ 38.421875 25.875 41.265625 23.828125 \r\nQ 44 21.875 45.671875 18.796875 \r\nQ 47.359375 15.71875 47.359375 11.140625 \r\nQ 47.359375 5.078125 44.84375 -0.265625 \r\nQ 42.328125 -5.609375 37.9375 -9.515625 \r\nQ 33.5 -13.484375 28.140625 -15.65625 \r\nQ 22.796875 -17.828125 16.65625 -17.828125 \r\nQ 8.9375 -17.828125 3.828125 -14.40625 \r\nQ -1.265625 -10.984375 -1.265625 -6.109375 \r\nQ -1.265625 -2.9375 0.609375 -0.609375 \r\nQ 2.484375 1.703125 5.328125 1.703125 \r\nQ 8.15625 1.703125 9.375 0.359375 \r\nQ 10.59375 -0.984375 10.59375 -2.546875 \r\nQ 10.59375 -4.4375 9.46875 -6.78125 \r\nQ 8.34375 -9.125 7.765625 -10.296875 \r\nQ 8.9375 -11.8125 11.28125 -12.9375 \r\nQ 13.625 -14.0625 17.78125 -14.0625 \r\nQ 25.140625 -14.0625 31.046875 -7.125 \r\nQ 36.96875 -0.203125 36.96875 10.203125 \r\nQ 36.96875 15.484375 33.890625 18.890625 \r\nQ 30.8125 22.3125 25.53125 22.3125 \r\nQ 20.5625 22.3125 16.921875 20.4375 \r\nQ 13.28125 18.5625 10.6875 15.875 \r\nL 7.46875 17.140625 \r\nL 19.140625 52.390625 \r\nz\r\n\" id=\"Georgia-Italic-53\"/>\r\n      <path d=\"M 46.578125 41.3125 \r\nQ 46.578125 39.9375 46.1875 38.296875 \r\nQ 45.796875 36.671875 45.0625 35.59375 \r\nQ 44.1875 34.28125 43.140625 33.5625 \r\nQ 42.09375 32.859375 40.140625 32.859375 \r\nQ 37.5 32.859375 36.171875 34.171875 \r\nQ 34.859375 35.5 34.859375 37.109375 \r\nQ 34.859375 38.625 35.59375 40.5 \r\nQ 36.328125 42.390625 37.109375 44.234375 \r\nQ 36.53125 44.234375 35.1875 43.921875 \r\nQ 33.84375 43.609375 31.9375 42.671875 \r\nQ 30.03125 41.75 27.609375 39.890625 \r\nQ 25.203125 38.03125 22.46875 34.96875 \r\nL 14.59375 0 \r\nL 5.515625 0 \r\nL 12.640625 31.640625 \r\nQ 12.890625 32.8125 13.34375 35.15625 \r\nQ 13.8125 37.5 13.8125 38.625 \r\nQ 13.8125 41.359375 12.890625 42.28125 \r\nQ 11.96875 43.21875 9.1875 43.21875 \r\nQ 8.109375 43.21875 6.4375 42.84375 \r\nQ 4.78125 42.484375 3.859375 42.234375 \r\nL 4.59375 45.359375 \r\nQ 8.40625 47.078125 11.328125 47.90625 \r\nQ 14.265625 48.734375 16.359375 48.734375 \r\nQ 20.265625 48.734375 21.921875 46.609375 \r\nQ 23.578125 44.484375 23.578125 40.234375 \r\nL 23.875 40.234375 \r\nQ 29.6875 45.265625 32.6875 47.265625 \r\nQ 35.6875 49.265625 38.96875 49.265625 \r\nQ 40.53125 49.265625 41.984375 48.875 \r\nQ 43.453125 48.484375 44.484375 47.5625 \r\nQ 45.5625 46.53125 46.0625 45.1875 \r\nQ 46.578125 43.84375 46.578125 41.3125 \r\nz\r\n\" id=\"Georgia-Italic-114\"/>\r\n      <path d=\"M 33.984375 6.453125 \r\nL 33.640625 6.453125 \r\nQ 32.5625 5.5625 31.078125 4.21875 \r\nQ 29.59375 2.875 27.59375 1.65625 \r\nQ 25.6875 0.4375 23.4375 -0.46875 \r\nQ 21.1875 -1.375 18.5625 -1.375 \r\nQ 11.46875 -1.375 7.4375 3.703125 \r\nQ 3.421875 8.796875 3.421875 17.578125 \r\nQ 3.421875 23.640625 5.65625 29.34375 \r\nQ 7.90625 35.0625 11.859375 39.59375 \r\nQ 15.625 43.953125 20.796875 46.609375 \r\nQ 25.984375 49.265625 31.453125 49.265625 \r\nQ 34.90625 49.265625 38.0625 48.328125 \r\nQ 41.21875 47.40625 43.015625 46.234375 \r\nL 51.953125 48.53125 \r\nL 52.546875 47.796875 \r\nL 45.125 16.3125 \r\nQ 44.734375 14.796875 44.3125 12.625 \r\nQ 43.890625 10.453125 43.890625 9.421875 \r\nQ 43.890625 6.640625 45.0625 5.65625 \r\nQ 46.234375 4.6875 49.03125 4.6875 \r\nQ 49.953125 4.6875 51.65625 4.984375 \r\nQ 53.375 5.28125 54.296875 5.609375 \r\nL 53.5625 2.484375 \r\nQ 49.171875 0.734375 47.015625 -0.046875 \r\nQ 44.875 -0.828125 41.796875 -0.828125 \r\nQ 38.28125 -0.828125 36.234375 1.21875 \r\nQ 34.1875 3.265625 33.984375 6.453125 \r\nz\r\nM 40.96875 37.3125 \r\nQ 40.96875 38.921875 40.625 40.375 \r\nQ 40.28125 41.84375 39.203125 43.109375 \r\nQ 38.234375 44.34375 36.515625 45.0625 \r\nQ 34.8125 45.796875 32.234375 45.796875 \r\nQ 28.65625 45.796875 25.28125 43.453125 \r\nQ 21.921875 41.109375 19.234375 37.15625 \r\nQ 16.703125 33.453125 15.09375 28.171875 \r\nQ 13.484375 22.90625 13.484375 17.484375 \r\nQ 13.484375 14.5 13.8125 12.203125 \r\nQ 14.15625 9.90625 15.140625 8.015625 \r\nQ 16.0625 6.15625 17.8125 5.125 \r\nQ 19.578125 4.109375 22.265625 4.109375 \r\nQ 25 4.109375 28 5.640625 \r\nQ 31 7.171875 34.765625 11.03125 \r\nz\r\n\" id=\"Georgia-Italic-97\"/>\r\n      <path d=\"M 34.421875 6.6875 \r\nL 34.078125 6.6875 \r\nQ 33.015625 5.765625 31.296875 4.265625 \r\nQ 29.59375 2.78125 27.734375 1.65625 \r\nQ 25.390625 0.203125 23.40625 -0.578125 \r\nQ 21.4375 -1.375 18.5625 -1.375 \r\nQ 11.46875 -1.375 7.4375 3.734375 \r\nQ 3.421875 8.84375 3.421875 17.625 \r\nQ 3.421875 23.78125 5.59375 29.484375 \r\nQ 7.765625 35.203125 11.53125 39.65625 \r\nQ 15.1875 43.953125 20.328125 46.609375 \r\nQ 25.484375 49.265625 31.109375 49.265625 \r\nQ 34.46875 49.265625 37.78125 48.390625 \r\nQ 41.109375 47.515625 43.265625 46.234375 \r\nL 47.078125 62.84375 \r\nQ 47.359375 64.15625 47.484375 64.890625 \r\nQ 47.609375 65.625 47.609375 66.5 \r\nQ 47.609375 68.265625 46.890625 69.1875 \r\nQ 46.1875 70.125 44.921875 70.5625 \r\nQ 43.75 71 41.703125 71.140625 \r\nQ 39.65625 71.296875 37.984375 71.484375 \r\nL 38.671875 74.46875 \r\nL 58.453125 75.59375 \r\nL 58.9375 74.859375 \r\nL 45.40625 16.3125 \r\nQ 45.015625 14.703125 44.59375 12.625 \r\nQ 44.1875 10.546875 44.1875 9.46875 \r\nQ 44.1875 6.6875 45.359375 5.6875 \r\nQ 46.53125 4.6875 49.3125 4.6875 \r\nQ 50.25 4.6875 51.953125 4.984375 \r\nQ 53.65625 5.28125 54.59375 5.609375 \r\nL 53.859375 2.484375 \r\nQ 49.75 0.640625 47.0625 -0.09375 \r\nQ 44.390625 -0.828125 42.09375 -0.828125 \r\nQ 38.578125 -0.828125 36.5 1 \r\nQ 34.421875 2.828125 34.421875 6.6875 \r\nz\r\nM 41.3125 37.796875 \r\nQ 41.21875 39.203125 40.578125 40.546875 \r\nQ 39.9375 41.890625 38.96875 42.96875 \r\nQ 37.84375 44.1875 36.0625 44.984375 \r\nQ 34.28125 45.796875 31.84375 45.796875 \r\nQ 28.078125 45.796875 24.734375 43.453125 \r\nQ 21.390625 41.109375 18.84375 37.203125 \r\nQ 16.40625 33.453125 14.9375 28.15625 \r\nQ 13.484375 22.859375 13.484375 17.53125 \r\nQ 13.484375 14.546875 13.8125 12.25 \r\nQ 14.15625 9.96875 15.140625 8.015625 \r\nQ 16.0625 6.203125 17.765625 5.15625 \r\nQ 19.484375 4.109375 22.3125 4.109375 \r\nQ 25 4.109375 28.140625 5.71875 \r\nQ 31.296875 7.328125 35.15625 11.328125 \r\nz\r\n\" id=\"Georgia-Italic-100\"/>\r\n      <path d=\"M 51.515625 74.359375 \r\nL 1.078125 -20.703125 \r\nL -5.671875 -20.703125 \r\nL 44.671875 74.359375 \r\nz\r\n\" id=\"Georgia-Italic-47\"/>\r\n      <path d=\"M 17.671875 -1.421875 \r\nQ 10.453125 -1.421875 5.640625 1.140625 \r\nQ 0.828125 3.71875 0.828125 7.859375 \r\nQ 0.828125 9.8125 2.234375 11.515625 \r\nQ 3.65625 13.234375 5.71875 13.234375 \r\nQ 7.671875 13.234375 8.859375 12.328125 \r\nQ 10.0625 11.421875 10.75 10.203125 \r\nQ 11.46875 8.9375 12.03125 7.171875 \r\nQ 12.59375 5.421875 12.984375 4.296875 \r\nQ 13.71875 3.46875 15.015625 2.75 \r\nQ 16.3125 2.046875 18.75 2.046875 \r\nQ 24.03125 2.046875 26.734375 4.6875 \r\nQ 29.4375 7.328125 29.4375 11.8125 \r\nQ 29.4375 15.140625 26.890625 17.109375 \r\nQ 24.359375 19.09375 19.34375 20.75 \r\nQ 17.53125 21.34375 15.078125 22.53125 \r\nQ 12.640625 23.734375 11.1875 25.09375 \r\nQ 9.421875 26.65625 8.34375 28.796875 \r\nQ 7.28125 30.953125 7.28125 33.890625 \r\nQ 7.28125 40.140625 12.859375 44.703125 \r\nQ 18.453125 49.265625 26.609375 49.265625 \r\nQ 28.515625 49.265625 30.703125 49.0625 \r\nQ 32.90625 48.875 35.546875 48 \r\nQ 37.84375 47.21875 39.453125 45.671875 \r\nQ 41.0625 44.140625 41.0625 41.703125 \r\nQ 41.0625 39.703125 39.71875 38.0625 \r\nQ 38.375 36.421875 36.1875 36.421875 \r\nQ 34.375 36.421875 33.203125 37.203125 \r\nQ 32.03125 37.984375 31.25 39.3125 \r\nQ 30.46875 40.625 29.984375 42.140625 \r\nQ 29.5 43.65625 28.90625 45.125 \r\nQ 27.984375 45.515625 27.25 45.65625 \r\nQ 26.515625 45.796875 25.296875 45.796875 \r\nQ 20.515625 45.796875 18.046875 43.234375 \r\nQ 15.578125 40.671875 15.578125 37.15625 \r\nQ 15.578125 33.734375 17.796875 32 \r\nQ 20.015625 30.28125 25.140625 28.421875 \r\nQ 31.78125 26.03125 34.78125 22.953125 \r\nQ 37.796875 19.875 37.796875 15.328125 \r\nQ 37.796875 7.90625 32.078125 3.234375 \r\nQ 26.375 -1.421875 17.671875 -1.421875 \r\nz\r\n\" id=\"Georgia-Italic-115\"/>\r\n     </defs>\r\n     <use xlink:href=\"#Georgia-Italic-119\"/>\r\n     <use x=\"82.226562\" xlink:href=\"#Georgia-Italic-49\"/>\r\n     <use x=\"125.195312\" xlink:href=\"#Georgia-Italic-32\"/>\r\n     <use x=\"149.316406\" xlink:href=\"#Georgia-Italic-61\"/>\r\n     <use x=\"213.623047\" xlink:href=\"#Georgia-Italic-32\"/>\r\n     <use x=\"237.744141\" xlink:href=\"#Georgia-Italic-49\"/>\r\n     <use x=\"280.712891\" xlink:href=\"#Georgia-Italic-55\"/>\r\n     <use x=\"330.371094\" xlink:href=\"#Georgia-Italic-46\"/>\r\n     <use x=\"357.324219\" xlink:href=\"#Georgia-Italic-56\"/>\r\n     <use x=\"416.943359\" xlink:href=\"#Georgia-Italic-53\"/>\r\n     <use x=\"469.775391\" xlink:href=\"#Georgia-Italic-32\"/>\r\n     <use x=\"493.896484\" xlink:href=\"#Georgia-Italic-114\"/>\r\n     <use x=\"540.039062\" xlink:href=\"#Georgia-Italic-97\"/>\r\n     <use x=\"597.314453\" xlink:href=\"#Georgia-Italic-100\"/>\r\n     <use x=\"654.833984\" xlink:href=\"#Georgia-Italic-47\"/>\r\n     <use x=\"701.708984\" xlink:href=\"#Georgia-Italic-115\"/>\r\n    </g>\r\n   </g>\r\n   <g id=\"text_2\">\r\n    <!-- i = 1 -->\r\n    <g transform=\"translate(111.86777 58.8)scale(0.14 -0.14)\">\r\n     <defs>\r\n      <path d=\"M 26.90625 5.328125 \r\nL 26.171875 2.203125 \r\nQ 21.6875 0.390625 19 -0.3125 \r\nQ 16.3125 -1.03125 14.40625 -1.03125 \r\nQ 10.5 -1.03125 8.546875 1 \r\nQ 6.59375 3.03125 6.59375 6 \r\nQ 6.59375 7.125 6.78125 8.34375 \r\nQ 6.984375 9.578125 7.421875 11.421875 \r\nL 12.59375 32.171875 \r\nQ 12.984375 33.890625 13.34375 35.84375 \r\nQ 13.71875 37.796875 13.71875 39.15625 \r\nQ 13.71875 41.890625 12.8125 42.796875 \r\nQ 11.921875 43.703125 9.125 43.703125 \r\nQ 8.0625 43.703125 6.28125 43.359375 \r\nQ 4.5 43.015625 3.5625 42.78125 \r\nL 4.296875 45.90625 \r\nQ 8.109375 47.609375 11.125 48.4375 \r\nQ 14.15625 49.265625 15.921875 49.265625 \r\nQ 19.921875 49.265625 21.71875 47.359375 \r\nQ 23.53125 45.453125 23.53125 42.234375 \r\nQ 23.53125 41.359375 23.328125 39.84375 \r\nQ 23.140625 38.328125 22.75 36.8125 \r\nL 17.53125 16.0625 \r\nQ 17.046875 14.15625 16.671875 12.328125 \r\nQ 16.3125 10.5 16.3125 9.328125 \r\nQ 16.3125 6.546875 17.546875 5.515625 \r\nQ 18.796875 4.5 21.578125 4.5 \r\nQ 22.515625 4.5 24.25 4.734375 \r\nQ 25.984375 4.984375 26.90625 5.328125 \r\nz\r\nM 30.375 67.71875 \r\nQ 30.375 64.9375 28.5625 62.859375 \r\nQ 26.765625 60.796875 24.078125 60.796875 \r\nQ 21.578125 60.796875 19.765625 62.765625 \r\nQ 17.96875 64.75 17.96875 67.28125 \r\nQ 17.96875 69.96875 19.765625 71.96875 \r\nQ 21.578125 73.96875 24.078125 73.96875 \r\nQ 26.859375 73.96875 28.609375 72.09375 \r\nQ 30.375 70.21875 30.375 67.71875 \r\nz\r\n\" id=\"Georgia-Italic-105\"/>\r\n     </defs>\r\n     <use xlink:href=\"#Georgia-Italic-105\"/>\r\n     <use x=\"29.736328\" xlink:href=\"#Georgia-Italic-32\"/>\r\n     <use x=\"53.857422\" xlink:href=\"#Georgia-Italic-61\"/>\r\n     <use x=\"118.164062\" xlink:href=\"#Georgia-Italic-32\"/>\r\n     <use x=\"142.285156\" xlink:href=\"#Georgia-Italic-49\"/>\r\n    </g>\r\n   </g>\r\n  </g>\r\n  <g id=\"axes_2\">\r\n   <g id=\"patch_7\">\r\n    <path d=\"M 284.627273 508.32 \r\nL 512.9 508.32 \r\nL 512.9 64.8 \r\nL 284.627273 64.8 \r\nz\r\n\" style=\"fill:#ffffff;\"/>\r\n   </g>\r\n   <g id=\"line2d_6\">\r\n    <g clip-path=\"url(#pc4a4499fa9)\">\r\n     <use style=\"fill:#d8dcd6;stroke:#d8dcd6;\" x=\"398.763636\" xlink:href=\"#mdc2e170ae1\" y=\"286.56\"/>\r\n     <use style=\"fill:#d8dcd6;stroke:#d8dcd6;\" x=\"398.763636\" xlink:href=\"#mdc2e170ae1\" y=\"120.24\"/>\r\n    </g>\r\n   </g>\r\n   <g id=\"line2d_7\">\r\n    <g clip-path=\"url(#pc4a4499fa9)\">\r\n     <use style=\"fill:#c14a09;stroke:#c14a09;\" x=\"473.742476\" xlink:href=\"#mf1b5d468f5\" y=\"286.56\"/>\r\n     <use style=\"fill:#c14a09;stroke:#c14a09;\" x=\"363.958588\" xlink:href=\"#mf1b5d468f5\" y=\"120.24\"/>\r\n    </g>\r\n   </g>\r\n   <g id=\"Quiver_2\">\r\n    <path clip-path=\"url(#pc4a4499fa9)\" d=\"M 398.763636 285.703977 \r\nL 466.038272 285.703977 \r\nL 465.182249 283.991932 \r\nL 473.742476 286.56 \r\nL 465.182249 289.128068 \r\nL 466.038272 287.416023 \r\nL 398.763636 287.416023 \r\nL 398.763636 285.703977 \r\n\" style=\"fill:#d8dcd6;fill-opacity:0.75;\"/>\r\n    <path clip-path=\"url(#pc4a4499fa9)\" d=\"M 398.763636 121.096023 \r\nL 371.662792 121.096023 \r\nL 372.518815 122.808068 \r\nL 363.958588 120.24 \r\nL 372.518815 117.671932 \r\nL 371.662792 119.383977 \r\nL 398.763636 119.383977 \r\nL 398.763636 121.096023 \r\n\" style=\"fill:#d8dcd6;fill-opacity:0.75;\"/>\r\n   </g>\r\n   <g id=\"line2d_8\">\r\n    <path clip-path=\"url(#pc4a4499fa9)\" d=\"M 398.763636 452.88 \r\n\" style=\"fill:none;stroke:#000000;stroke-linecap:square;stroke-width:1.5;\"/>\r\n    <g clip-path=\"url(#pc4a4499fa9)\">\r\n     <use style=\"stroke:#000000;\" x=\"398.763636\" xlink:href=\"#m3144d33632\" y=\"452.88\"/>\r\n    </g>\r\n   </g>\r\n   <g id=\"line2d_9\">\r\n    <path clip-path=\"url(#pc4a4499fa9)\" d=\"M 398.763636 452.88 \r\nL 398.763636 286.56 \r\nL 398.763636 120.24 \r\n\" style=\"fill:none;stroke:#d8dcd6;stroke-dasharray:5.55,2.4;stroke-dashoffset:0;stroke-width:1.5;\"/>\r\n   </g>\r\n   <g id=\"line2d_10\">\r\n    <path clip-path=\"url(#pc4a4499fa9)\" d=\"M 398.763636 452.88 \r\nL 473.742476 286.56 \r\nL 363.958588 120.24 \r\n\" style=\"fill:none;stroke:#c14a09;stroke-linecap:square;stroke-opacity:0.75;stroke-width:1.5;\"/>\r\n   </g>\r\n   <g id=\"patch_8\">\r\n    <path d=\"M 284.627273 508.32 \r\nL 284.627273 64.8 \r\n\" style=\"fill:none;stroke:#000000;stroke-linecap:square;stroke-linejoin:miter;stroke-width:0.8;\"/>\r\n   </g>\r\n   <g id=\"patch_9\">\r\n    <path d=\"M 512.9 508.32 \r\nL 512.9 64.8 \r\n\" style=\"fill:none;stroke:#000000;stroke-linecap:square;stroke-linejoin:miter;stroke-width:0.8;\"/>\r\n   </g>\r\n   <g id=\"patch_10\">\r\n    <path d=\"M 284.627273 508.32 \r\nL 512.9 508.32 \r\n\" style=\"fill:none;stroke:#000000;stroke-linecap:square;stroke-linejoin:miter;stroke-width:0.8;\"/>\r\n   </g>\r\n   <g id=\"patch_11\">\r\n    <path d=\"M 284.627273 64.8 \r\nL 512.9 64.8 \r\n\" style=\"fill:none;stroke:#000000;stroke-linecap:square;stroke-linejoin:miter;stroke-width:0.8;\"/>\r\n   </g>\r\n   <g id=\"text_3\">\r\n    <!-- w2 = 42.78 rad/s -->\r\n    <g style=\"fill:#363737;\" transform=\"translate(356.177308 480.6)scale(0.11 -0.11)\">\r\n     <defs>\r\n      <path d=\"M 52.546875 38.671875 \r\nQ 52.546875 33.296875 49.90625 29.609375 \r\nQ 47.265625 25.921875 42.71875 23.34375 \r\nQ 39.3125 21.390625 34.796875 19.890625 \r\nQ 30.28125 18.40625 24.859375 16.796875 \r\nQ 20.21875 15.4375 15.890625 13.40625 \r\nQ 11.578125 11.375 8.796875 8.5 \r\nL 47.703125 8.5 \r\nL 45.703125 0 \r\nL -0.046875 0 \r\nL 1.5625 6.640625 \r\nQ 3.03125 8.59375 5.078125 10.453125 \r\nQ 7.125 12.3125 9.90625 14.0625 \r\nQ 12.359375 15.578125 15.359375 17.03125 \r\nQ 18.359375 18.5 21.875 19.875 \r\nQ 26.421875 21.625 29.8125 23.3125 \r\nQ 33.203125 25 35.546875 26.765625 \r\nQ 39.109375 29.390625 40.59375 32.484375 \r\nQ 42.09375 35.59375 42.09375 39.75 \r\nQ 42.09375 44.578125 39.453125 47.390625 \r\nQ 36.8125 50.203125 32.625 50.203125 \r\nQ 28.5625 50.203125 25.734375 48.78125 \r\nQ 22.90625 47.359375 21.78125 45.75 \r\nQ 21.78125 45.171875 21.84375 44.09375 \r\nQ 21.921875 43.015625 21.921875 41.5 \r\nQ 21.921875 37.109375 20.203125 34.9375 \r\nQ 18.5 32.765625 14.75 32.765625 \r\nQ 12.0625 32.765625 11.015625 34 \r\nQ 9.96875 35.25 9.96875 37.0625 \r\nQ 9.96875 39.9375 11.75 42.890625 \r\nQ 13.53125 45.84375 16.796875 48.390625 \r\nQ 19.96875 50.875 24.40625 52.40625 \r\nQ 28.859375 53.953125 34.03125 53.953125 \r\nQ 42.328125 53.953125 47.4375 49.84375 \r\nQ 52.546875 45.75 52.546875 38.671875 \r\nz\r\n\" id=\"Georgia-Italic-50\"/>\r\n      <path d=\"M 53.8125 10.546875 \r\nL 52.34375 4.390625 \r\nL 42.09375 4.390625 \r\nL 36.96875 -17.828125 \r\nL 27.59375 -17.828125 \r\nL 32.71875 4.390625 \r\nL 1.3125 4.390625 \r\nL 3.265625 12.40625 \r\nL 46.578125 53.65625 \r\nL 53.46875 53.65625 \r\nL 43.5 10.546875 \r\nz\r\nM 41.546875 42.78125 \r\nL 7.5625 10.546875 \r\nL 34.125 10.546875 \r\nz\r\n\" id=\"Georgia-Italic-52\"/>\r\n     </defs>\r\n     <use xlink:href=\"#Georgia-Italic-119\"/>\r\n     <use x=\"82.226562\" xlink:href=\"#Georgia-Italic-50\"/>\r\n     <use x=\"138.085938\" xlink:href=\"#Georgia-Italic-32\"/>\r\n     <use x=\"162.207031\" xlink:href=\"#Georgia-Italic-61\"/>\r\n     <use x=\"226.513672\" xlink:href=\"#Georgia-Italic-32\"/>\r\n     <use x=\"250.634766\" xlink:href=\"#Georgia-Italic-52\"/>\r\n     <use x=\"307.128906\" xlink:href=\"#Georgia-Italic-50\"/>\r\n     <use x=\"362.988281\" xlink:href=\"#Georgia-Italic-46\"/>\r\n     <use x=\"389.941406\" xlink:href=\"#Georgia-Italic-55\"/>\r\n     <use x=\"439.599609\" xlink:href=\"#Georgia-Italic-56\"/>\r\n     <use x=\"499.21875\" xlink:href=\"#Georgia-Italic-32\"/>\r\n     <use x=\"523.339844\" xlink:href=\"#Georgia-Italic-114\"/>\r\n     <use x=\"569.482422\" xlink:href=\"#Georgia-Italic-97\"/>\r\n     <use x=\"626.757812\" xlink:href=\"#Georgia-Italic-100\"/>\r\n     <use x=\"684.277344\" xlink:href=\"#Georgia-Italic-47\"/>\r\n     <use x=\"731.152344\" xlink:href=\"#Georgia-Italic-115\"/>\r\n    </g>\r\n   </g>\r\n   <g id=\"text_4\">\r\n    <!-- i = 2 -->\r\n    <g transform=\"translate(384.892699 58.8)scale(0.14 -0.14)\">\r\n     <use xlink:href=\"#Georgia-Italic-105\"/>\r\n     <use x=\"29.736328\" xlink:href=\"#Georgia-Italic-32\"/>\r\n     <use x=\"53.857422\" xlink:href=\"#Georgia-Italic-61\"/>\r\n     <use x=\"118.164062\" xlink:href=\"#Georgia-Italic-32\"/>\r\n     <use x=\"142.285156\" xlink:href=\"#Georgia-Italic-50\"/>\r\n    </g>\r\n   </g>\r\n  </g>\r\n  <g id=\"text_5\">\r\n   <!-- Modos de Vibración -->\r\n   <g transform=\"translate(137.128594 26.854375)scale(0.26 -0.26)\">\r\n    <defs>\r\n     <path d=\"M 98.046875 69.28125 \r\nL 97.3125 66.0625 \r\nQ 95.90625 66.015625 93.703125 65.625 \r\nQ 91.5 65.234375 90.4375 64.890625 \r\nQ 88.53125 64.265625 87.6875 62.890625 \r\nQ 86.859375 61.53125 86.46875 59.96875 \r\nL 74.8125 9.515625 \r\nQ 74.703125 9.125 74.65625 8.640625 \r\nQ 74.609375 8.15625 74.609375 7.859375 \r\nQ 74.609375 6.84375 75.046875 6.03125 \r\nQ 75.484375 5.21875 76.515625 4.59375 \r\nQ 77.203125 4.15625 79.421875 3.703125 \r\nQ 81.640625 3.265625 82.90625 3.21875 \r\nL 82.125 0 \r\nL 51.609375 0 \r\nL 52.390625 3.21875 \r\nQ 54.15625 3.328125 56.78125 3.59375 \r\nQ 59.421875 3.859375 60.5 4.390625 \r\nQ 62.203125 5.328125 63.25 6.546875 \r\nQ 64.3125 7.765625 64.65625 9.515625 \r\nL 76.609375 61.140625 \r\nL 76.078125 61.140625 \r\nL 38.234375 1.125 \r\nL 35.9375 1.125 \r\nL 27.25 62.359375 \r\nL 26.765625 62.359375 \r\nL 16.9375 19.78125 \r\nQ 16.359375 17.1875 15.96875 14.75 \r\nQ 15.578125 12.3125 15.578125 10.796875 \r\nQ 15.578125 9.1875 15.921875 8.03125 \r\nQ 16.265625 6.890625 16.890625 6.15625 \r\nQ 17.78125 5.125 20.609375 4.296875 \r\nQ 23.4375 3.46875 25.046875 3.21875 \r\nL 24.265625 0 \r\nL -3.71875 0 \r\nL -2.9375 3.21875 \r\nQ -0.640625 3.46875 1.65625 3.90625 \r\nQ 3.953125 4.34375 5.90625 5.5625 \r\nQ 7.859375 6.890625 9.21875 9.859375 \r\nQ 10.59375 12.84375 12.015625 19.234375 \r\nL 20.3125 55.171875 \r\nQ 20.5625 56.296875 20.671875 57.203125 \r\nQ 20.796875 58.109375 20.796875 58.984375 \r\nQ 20.796875 60.546875 20.40625 61.59375 \r\nQ 20.015625 62.640625 19.390625 63.375 \r\nQ 18.109375 64.796875 15.9375 65.375 \r\nQ 13.765625 65.96875 11.96875 66.0625 \r\nL 12.703125 69.28125 \r\nL 36.03125 69.28125 \r\nL 43.609375 17.1875 \r\nL 70.5625 60.796875 \r\nQ 72.078125 63.28125 73.34375 65.921875 \r\nQ 74.609375 68.5625 74.8125 69.28125 \r\nz\r\n\" id=\"Georgia-Italic-77\"/>\r\n     <path d=\"M 50.4375 30.078125 \r\nQ 50.4375 24.3125 48.484375 18.546875 \r\nQ 46.53125 12.796875 42.828125 8.453125 \r\nQ 39.0625 3.953125 33.765625 1.234375 \r\nQ 28.46875 -1.46875 21.484375 -1.46875 \r\nQ 13.375 -1.46875 8.3125 3.75 \r\nQ 3.265625 8.984375 3.265625 17.828125 \r\nQ 3.265625 24.3125 5.40625 29.921875 \r\nQ 7.5625 35.546875 11.1875 39.796875 \r\nQ 14.84375 44.046875 20.234375 46.65625 \r\nQ 25.640625 49.265625 31.9375 49.265625 \r\nQ 40.625 49.265625 45.53125 43.96875 \r\nQ 50.4375 38.671875 50.4375 30.078125 \r\nz\r\nM 40.484375 31.9375 \r\nQ 40.484375 38.875 38.015625 42.328125 \r\nQ 35.546875 45.796875 30.90625 45.796875 \r\nQ 26.859375 45.796875 23.265625 43.3125 \r\nQ 19.671875 40.828125 17.09375 35.203125 \r\nQ 15.09375 30.953125 14.15625 25.75 \r\nQ 13.234375 20.5625 13.234375 16.15625 \r\nQ 13.234375 9.1875 15.640625 5.59375 \r\nQ 18.0625 2 22.953125 2 \r\nQ 27.296875 2 30.65625 4.734375 \r\nQ 34.03125 7.46875 36.140625 11.671875 \r\nQ 38.234375 15.765625 39.359375 21.0625 \r\nQ 40.484375 26.375 40.484375 31.9375 \r\nz\r\n\" id=\"Georgia-Italic-111\"/>\r\n     <path d=\"M 45.21875 39.109375 \r\nQ 45.21875 33.9375 41.96875 30.21875 \r\nQ 38.71875 26.515625 32.515625 24.3125 \r\nQ 27.984375 22.65625 23.34375 21.625 \r\nQ 18.703125 20.609375 13.09375 19.921875 \r\nQ 13.09375 12.203125 15.9375 8.125 \r\nQ 18.796875 4.046875 24.3125 4.046875 \r\nQ 29.203125 4.046875 32.9375 6.484375 \r\nQ 36.671875 8.9375 40.28125 13.765625 \r\nL 43.0625 11.71875 \r\nQ 39.15625 5.765625 33.296875 2.1875 \r\nQ 27.4375 -1.375 21.140625 -1.375 \r\nQ 12.5 -1.375 7.9375 3.453125 \r\nQ 3.375 8.296875 3.375 17.1875 \r\nQ 3.375 23.34375 5.296875 28.921875 \r\nQ 7.234375 34.515625 10.9375 39.15625 \r\nQ 14.546875 43.703125 19.796875 46.484375 \r\nQ 25.046875 49.265625 31.390625 49.265625 \r\nQ 38.421875 49.265625 41.8125 46.40625 \r\nQ 45.21875 43.5625 45.21875 39.109375 \r\nz\r\nM 36.234375 40.328125 \r\nQ 36.234375 42.234375 35.6875 43.328125 \r\nQ 35.15625 44.4375 34.328125 44.96875 \r\nQ 33.453125 45.5625 32.46875 45.703125 \r\nQ 31.5 45.84375 30.46875 45.84375 \r\nQ 24.609375 45.84375 19.65625 39.390625 \r\nQ 14.703125 32.953125 13.375 23.34375 \r\nQ 16.796875 23.828125 21.09375 24.734375 \r\nQ 25.390625 25.640625 28.21875 27.09375 \r\nQ 32.28125 29.203125 34.25 32.5 \r\nQ 36.234375 35.796875 36.234375 40.328125 \r\nz\r\n\" id=\"Georgia-Italic-101\"/>\r\n     <path d=\"M 78.8125 69.28125 \r\nL 78.078125 66.0625 \r\nQ 76.8125 66.015625 74.90625 65.53125 \r\nQ 73 65.046875 71.578125 64.265625 \r\nQ 69.484375 63.09375 68.1875 61.53125 \r\nQ 66.890625 59.96875 65.484375 57.8125 \r\nQ 60.40625 50.046875 49.96875 33.484375 \r\nQ 39.546875 16.9375 28.515625 -0.875 \r\nL 24.46875 -0.875 \r\nQ 22.125 15.578125 19.40625 34.84375 \r\nQ 16.703125 54.109375 15.875 59.46875 \r\nQ 15.625 61.078125 14.90625 62.171875 \r\nQ 14.203125 63.28125 12.84375 64.3125 \r\nQ 11.71875 65.140625 10.203125 65.546875 \r\nQ 8.6875 65.96875 7.375 66.0625 \r\nL 8.109375 69.28125 \r\nL 36.1875 69.28125 \r\nL 35.453125 66.0625 \r\nQ 30.28125 65.828125 28.15625 65.0625 \r\nQ 26.03125 64.3125 26.03125 62.84375 \r\nQ 26.03125 62.359375 26.078125 61.796875 \r\nQ 26.125 61.234375 26.125 60.984375 \r\nQ 26.765625 56.203125 28.328125 45.1875 \r\nQ 29.890625 34.1875 32.765625 14.203125 \r\nQ 39.546875 24.8125 46.59375 36.1875 \r\nQ 53.65625 47.5625 56.78125 52.828125 \r\nQ 59.71875 57.71875 60.375 59.71875 \r\nQ 61.03125 61.71875 61.03125 62.203125 \r\nQ 61.03125 63.1875 60.109375 63.859375 \r\nQ 59.1875 64.546875 57.765625 64.984375 \r\nQ 56.34375 65.484375 54.640625 65.71875 \r\nQ 52.9375 65.96875 51.703125 66.0625 \r\nL 52.4375 69.28125 \r\nz\r\n\" id=\"Georgia-Italic-86\"/>\r\n     <path d=\"M 51.953125 30.609375 \r\nQ 51.953125 24.125 49.609375 18.1875 \r\nQ 47.265625 12.25 43.40625 7.953125 \r\nQ 39.453125 3.5625 34.46875 1.046875 \r\nQ 29.5 -1.46875 23.921875 -1.46875 \r\nQ 19.734375 -1.46875 16.53125 -0.75 \r\nQ 13.328125 -0.046875 11.078125 1.171875 \r\nQ 8.796875 2.4375 7.28125 4.015625 \r\nQ 5.765625 5.609375 4.546875 7.5625 \r\nL 17.140625 62.84375 \r\nQ 17.390625 63.96875 17.546875 64.765625 \r\nQ 17.71875 65.578125 17.71875 66.40625 \r\nQ 17.71875 68.171875 17.125 69.109375 \r\nQ 16.546875 70.0625 15.484375 70.5625 \r\nQ 14.453125 71 12.890625 71.140625 \r\nQ 11.328125 71.296875 9.71875 71.484375 \r\nL 10.40625 74.46875 \r\nL 28.515625 75.59375 \r\nL 29 74.859375 \r\nL 21.578125 42.390625 \r\nL 21.78125 42.390625 \r\nQ 26.171875 46.296875 29.515625 47.78125 \r\nQ 32.859375 49.265625 36.03125 49.265625 \r\nQ 43.453125 49.265625 47.703125 44.203125 \r\nQ 51.953125 39.15625 51.953125 30.609375 \r\nz\r\nM 41.890625 30.375 \r\nQ 41.890625 32.953125 41.421875 35.5625 \r\nQ 40.96875 38.1875 39.890625 39.9375 \r\nQ 38.765625 41.796875 36.8125 42.875 \r\nQ 34.859375 43.953125 31.984375 43.953125 \r\nQ 30.28125 43.953125 28.765625 43.359375 \r\nQ 27.25 42.78125 25.640625 41.796875 \r\nQ 24.21875 40.921875 22.875 39.671875 \r\nQ 21.53125 38.421875 20.40625 37.453125 \r\nL 13.921875 8.5 \r\nQ 14.0625 7.515625 14.796875 6.34375 \r\nQ 15.53125 5.171875 16.65625 4.296875 \r\nQ 18.015625 3.171875 19.71875 2.578125 \r\nQ 21.4375 2 23.484375 2 \r\nQ 27.34375 2 30.734375 4.265625 \r\nQ 34.125 6.546875 36.578125 10.40625 \r\nQ 39.265625 14.59375 40.578125 19.765625 \r\nQ 41.890625 24.953125 41.890625 30.375 \r\nz\r\n\" id=\"Georgia-Italic-98\"/>\r\n     <path d=\"M 21.734375 -1.375 \r\nQ 13.1875 -1.375 8.21875 3.609375 \r\nQ 3.265625 8.59375 3.265625 17.78125 \r\nQ 3.265625 23.875 5.140625 29.46875 \r\nQ 7.03125 35.0625 10.40625 39.40625 \r\nQ 13.765625 43.75 18.921875 46.5 \r\nQ 24.078125 49.265625 30.375 49.265625 \r\nQ 37.359375 49.265625 40.984375 46.3125 \r\nQ 44.625 43.359375 44.625 38.875 \r\nQ 44.625 35.5 43.03125 32.953125 \r\nQ 41.453125 30.421875 38.28125 30.421875 \r\nQ 35.640625 30.421875 34.328125 31.734375 \r\nQ 33.015625 33.0625 33.015625 34.671875 \r\nQ 33.015625 36.234375 34.078125 38.9375 \r\nQ 35.15625 41.65625 35.796875 43.3125 \r\nQ 35.25 44.625 33.390625 45.234375 \r\nQ 31.546875 45.84375 29.546875 45.84375 \r\nQ 22.90625 45.84375 18.09375 38.109375 \r\nQ 13.28125 30.375 13.28125 19.140625 \r\nQ 13.28125 12.203125 16.375 8.125 \r\nQ 19.484375 4.046875 24.75 4.046875 \r\nQ 29.5 4.046875 33.171875 6.578125 \r\nQ 36.859375 9.125 40.234375 13.765625 \r\nL 43.015625 11.71875 \r\nQ 39.65625 6.390625 33.859375 2.5 \r\nQ 28.078125 -1.375 21.734375 -1.375 \r\nz\r\n\" id=\"Georgia-Italic-99\"/>\r\n     <path d=\"M 50.4375 30.078125 \r\nQ 50.4375 24.3125 48.484375 18.546875 \r\nQ 46.53125 12.796875 42.828125 8.453125 \r\nQ 39.0625 3.953125 33.765625 1.234375 \r\nQ 28.46875 -1.46875 21.484375 -1.46875 \r\nQ 13.375 -1.46875 8.3125 3.75 \r\nQ 3.265625 8.984375 3.265625 17.828125 \r\nQ 3.265625 24.3125 5.40625 29.921875 \r\nQ 7.5625 35.546875 11.1875 39.796875 \r\nQ 14.84375 44.046875 20.234375 46.65625 \r\nQ 25.640625 49.265625 31.9375 49.265625 \r\nQ 40.625 49.265625 45.53125 43.96875 \r\nQ 50.4375 38.671875 50.4375 30.078125 \r\nz\r\nM 40.484375 31.9375 \r\nQ 40.484375 38.875 38.015625 42.328125 \r\nQ 35.546875 45.796875 30.90625 45.796875 \r\nQ 26.859375 45.796875 23.265625 43.3125 \r\nQ 19.671875 40.828125 17.09375 35.203125 \r\nQ 15.09375 30.953125 14.15625 25.75 \r\nQ 13.234375 20.5625 13.234375 16.15625 \r\nQ 13.234375 9.1875 15.640625 5.59375 \r\nQ 18.0625 2 22.953125 2 \r\nQ 27.296875 2 30.65625 4.734375 \r\nQ 34.03125 7.46875 36.140625 11.671875 \r\nQ 38.234375 15.765625 39.359375 21.0625 \r\nQ 40.484375 26.375 40.484375 31.9375 \r\nz\r\nM 44.28125 71.578125 \r\nQ 44.28125 69.625 43.359375 68.421875 \r\nQ 42.4375 67.234375 40.53125 65.765625 \r\nQ 38.234375 64.015625 34.59375 61.421875 \r\nQ 30.953125 58.84375 24.75 54.203125 \r\nL 23 55.765625 \r\nQ 27.828125 62.203125 29.703125 64.890625 \r\nQ 31.59375 67.578125 33.734375 70.796875 \r\nQ 35.453125 73.4375 37.03125 74.265625 \r\nQ 38.625 75.09375 40.484375 75.09375 \r\nQ 42.09375 75.09375 43.1875 74.015625 \r\nQ 44.28125 72.953125 44.28125 71.578125 \r\nz\r\n\" id=\"Georgia-Italic-243\"/>\r\n     <path d=\"M 56.109375 5.671875 \r\nL 55.375 2.546875 \r\nQ 50.984375 0.78125 48.53125 -0.015625 \r\nQ 46.09375 -0.828125 43.609375 -0.828125 \r\nQ 39.703125 -0.828125 37.75 1.1875 \r\nQ 35.796875 3.21875 35.796875 6.203125 \r\nQ 35.796875 7.28125 35.984375 8.5625 \r\nQ 36.1875 9.859375 36.625 11.625 \r\nL 41.40625 29.828125 \r\nQ 41.9375 31.9375 42.25 33.640625 \r\nQ 42.578125 35.359375 42.578125 36.375 \r\nQ 42.578125 39.65625 41.015625 41.546875 \r\nQ 39.453125 43.453125 36.375 43.453125 \r\nQ 33.40625 43.453125 29.6875 41.5 \r\nQ 25.984375 39.546875 22.703125 35.84375 \r\nL 14.453125 0 \r\nL 5.375 0 \r\nL 12.640625 31.640625 \r\nQ 12.890625 32.8125 13.34375 35.03125 \r\nQ 13.8125 37.25 13.8125 38.625 \r\nQ 13.8125 41.359375 12.890625 42.28125 \r\nQ 11.96875 43.21875 9.1875 43.21875 \r\nQ 8.109375 43.21875 6.4375 42.84375 \r\nQ 4.78125 42.484375 3.859375 42.234375 \r\nL 4.59375 45.359375 \r\nQ 8.40625 47.078125 11.328125 47.90625 \r\nQ 14.265625 48.734375 16.359375 48.734375 \r\nQ 20.21875 48.734375 21.875 46.625 \r\nQ 23.53125 44.53125 23.640625 40.828125 \r\nL 23.921875 40.828125 \r\nQ 29.296875 45.125 33.203125 47.1875 \r\nQ 37.109375 49.265625 42.09375 49.265625 \r\nQ 46.78125 49.265625 49.40625 46.546875 \r\nQ 52.046875 43.84375 52.046875 39.453125 \r\nQ 52.046875 38.578125 51.78125 36.328125 \r\nQ 51.515625 34.078125 50.921875 31.890625 \r\nL 46.828125 16.21875 \r\nQ 46.390625 14.65625 45.96875 12.625 \r\nQ 45.5625 10.59375 45.5625 9.46875 \r\nQ 45.5625 6.6875 46.78125 5.6875 \r\nQ 48 4.6875 50.78125 4.6875 \r\nQ 51.703125 4.6875 53.4375 5 \r\nQ 55.171875 5.328125 56.109375 5.671875 \r\nz\r\n\" id=\"Georgia-Italic-110\"/>\r\n    </defs>\r\n    <use xlink:href=\"#Georgia-Italic-77\"/>\r\n    <use x=\"92.724609\" xlink:href=\"#Georgia-Italic-111\"/>\r\n    <use x=\"146.435547\" xlink:href=\"#Georgia-Italic-100\"/>\r\n    <use x=\"203.955078\" xlink:href=\"#Georgia-Italic-111\"/>\r\n    <use x=\"257.666016\" xlink:href=\"#Georgia-Italic-115\"/>\r\n    <use x=\"300.78125\" xlink:href=\"#Georgia-Italic-32\"/>\r\n    <use x=\"324.902344\" xlink:href=\"#Georgia-Italic-100\"/>\r\n    <use x=\"382.421875\" xlink:href=\"#Georgia-Italic-101\"/>\r\n    <use x=\"429.589844\" xlink:href=\"#Georgia-Italic-32\"/>\r\n    <use x=\"453.710938\" xlink:href=\"#Georgia-Italic-86\"/>\r\n    <use x=\"520.361328\" xlink:href=\"#Georgia-Italic-105\"/>\r\n    <use x=\"550.097656\" xlink:href=\"#Georgia-Italic-98\"/>\r\n    <use x=\"605.46875\" xlink:href=\"#Georgia-Italic-114\"/>\r\n    <use x=\"651.611328\" xlink:href=\"#Georgia-Italic-97\"/>\r\n    <use x=\"708.886719\" xlink:href=\"#Georgia-Italic-99\"/>\r\n    <use x=\"754.248047\" xlink:href=\"#Georgia-Italic-105\"/>\r\n    <use x=\"783.984375\" xlink:href=\"#Georgia-Italic-243\"/>\r\n    <use x=\"837.695312\" xlink:href=\"#Georgia-Italic-110\"/>\r\n   </g>\r\n  </g>\r\n </g>\r\n <defs>\r\n  <clipPath id=\"pd3864b2eb2\">\r\n   <rect height=\"443.52\" width=\"228.272727\" x=\"10.7\" y=\"64.8\"/>\r\n  </clipPath>\r\n  <clipPath id=\"pc4a4499fa9\">\r\n   <rect height=\"443.52\" width=\"228.272727\" x=\"284.627273\" y=\"64.8\"/>\r\n  </clipPath>\r\n </defs>\r\n</svg>\r\n",
      "image/png": "[encoded data removed]"
     },
     "metadata": {}
    }
   ],
   "source": [
    "# Creación de subplots\n",
    "fig, axs = plt.subplots(1, gdl)\n",
    "\n",
    "# Título global\n",
    "fig.suptitle('Modos de Vibración', fontsize = '26')\n",
    "\n",
    "for i, x in enumerate(phi):\n",
    "    y = []\n",
    "\n",
    "    for j in range(len(phi[i])):\n",
    "        y.append(6 * (j + 1) / len(phi[i]))\n",
    "\n",
    "    axs[i].set_title(f'i = {i + 1}', fontsize = '14')\n",
    "    \n",
    "    axs[i].yaxis.set_visible(False)\n",
    "    axs[i].xaxis.set_visible(False)\n",
    "\n",
    "    axs[i].plot(0, 0, marker = '_', markersize = 30)\n",
    "\n",
    "    # Posición inicial\n",
    "    axs[i].plot(np.zeros(len(phi[i])), y, marker = 'o', markersize = 23, linestyle = '', color = '#d8dcd6', zorder = 0)\n",
    "    axs[i].plot(np.zeros(len(phi[i]) + 1), np.append(0, y), linestyle = '--', color = '#d8dcd6')\n",
    "\n",
    "    \n",
    "    # Posición final\n",
    "    axs[i].plot(x, y, marker = 'o', markersize = 23, linestyle = '', color = '#c14a09', zorder = 1)\n",
    "    axs[i].plot(np.append(0, x), np.append(0, y), linestyle = '-', color = '#c14a09', alpha = 0.75)\n",
    "\n",
    "    # Vectores desplazamiento\n",
    "    axs[i].quiver(np.zeros(len(phi[i])), y, x, np.zeros(len(phi[i])), scale = 1, zorder = 2, color = '#d8dcd6', units = 'x', alpha = 0.75)\n",
    "\n",
    "    # Frecuencias circulares\n",
    "    axs[i].text(0, -0.5, f'w{i + 1} = {w[i]:.2f} rad/s', fontsize = 11, ha = 'center', color = '#363737')\n",
    "\n",
    "    axs[i].set_xlim([-1.5 * abs(phi).max(), 1.5 * abs(phi).max()])\n",
    "    axs[i].set_ylim([-1, 7])\n",
    "\n",
    "plt.show()"
   ]
  },
  {
   "cell_type": "markdown",
   "metadata": {},
   "source": [
    "## 8. Dependencias"
   ]
  },
  {
   "cell_type": "code",
   "execution_count": 20,
   "metadata": {},
   "outputs": [
    {
     "output_type": "stream",
     "name": "stdout",
     "text": [
      "Python implementation: CPython\nPython version       : 3.9.5\nIPython version      : 7.24.1\n\nsys       : 3.9.5 (default, May 18 2021, 14:42:02) [MSC v.1916 64 bit (AMD64)]\nnumpy     : 1.20.2\nmatplotlib: 3.3.4\n\nCompiler    : MSC v.1916 64 bit (AMD64)\nOS          : Windows\nRelease     : 10\nMachine     : AMD64\nProcessor   : Intel64 Family 6 Model 165 Stepping 3, GenuineIntel\nCPU cores   : 12\nArchitecture: 64bit\n\nLast updated: Mon Jun 21 2021 12:17:33SA Pacific Standard Time\n\n"
     ]
    }
   ],
   "source": [
    "%load_ext watermark\n",
    "\n",
    "# Compilador y librerías\n",
    "%watermark -v\n",
    "%watermark -iv\n",
    "\n",
    "# Sistema operativo\n",
    "%watermark -m\n",
    "\n",
    "# Fecha de subida\n",
    "%watermark -u -n -t -z"
   ]
  }
 ],
 "metadata": {
  "interpreter": {
   "hash": "ecf5722fdaf1897a315d257d89d94520bfcaa453217d5becf09b39e73618b0de"
  },
  "kernelspec": {
   "name": "python3",
   "display_name": "Python 3.9.5 64-bit ('base': conda)"
  },
  "language_info": {
   "codemirror_mode": {
    "name": "ipython",
    "version": 3
   },
   "file_extension": ".py",
   "mimetype": "text/x-python",
   "name": "python",
   "nbconvert_exporter": "python",
   "pygments_lexer": "ipython3",
   "version": "3.9.5"
  },
  "toc-showcode": false,
  "toc-showmarkdowntxt": false,
  "toc-showtags": false
 },
 "nbformat": 4,
 "nbformat_minor": 4
}