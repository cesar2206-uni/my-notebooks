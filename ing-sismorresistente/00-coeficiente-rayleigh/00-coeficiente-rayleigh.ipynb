{
 "metadata": {
  "language_info": {
   "codemirror_mode": {
    "name": "ipython",
    "version": 3
   },
   "file_extension": ".py",
   "mimetype": "text/x-python",
   "name": "python",
   "nbconvert_exporter": "python",
   "pygments_lexer": "ipython3",
   "version": "3.9.5"
  },
  "orig_nbformat": 4,
  "kernelspec": {
   "name": "python3",
   "display_name": "Python 3.9.5 64-bit ('base': conda)"
  },
  "interpreter": {
   "hash": "ecf5722fdaf1897a315d257d89d94520bfcaa453217d5becf09b39e73618b0de"
  }
 },
 "nbformat": 4,
 "nbformat_minor": 2,
 "cells": [
  {
   "source": [
    "# Coeficiente de Rayleigh  \n",
    "\n",
    "<br />\n",
    "\n",
    "$$ \\omega \\approx  \\sqrt{\\frac{\\displaystyle \\sum_{i=1}^n F_i \\cdot D_i}{  \\displaystyle \\sum_{i=1}^n M_i \\cdot D^2_i}} \\rightarrow T =  2 \\pi { \\sqrt{\\frac{\\displaystyle \\sum_{i=1}^n W_i \\cdot D^2_i}{g  \\displaystyle \\sum_{i=1}^n F_i \\cdot D_i}}}  $$"
   ],
   "cell_type": "markdown",
   "metadata": {}
  },
  {
   "source": [],
   "cell_type": "markdown",
   "metadata": {}
  },
  {
   "source": [
    "## 1. Librerías"
   ],
   "cell_type": "markdown",
   "metadata": {}
  },
  {
   "cell_type": "code",
   "execution_count": 1,
   "metadata": {},
   "outputs": [],
   "source": [
    "import numpy as np\n",
    "np.set_printoptions(formatter = {'float': lambda x: '{:.4f}'.format(x)})\n",
    "\n",
    "import pandas as pd\n",
    "pd.options.display.float_format = '{:,.3f}'.format\n",
    "\n",
    "from matplotlib import pyplot as plt\n"
   ]
  },
  {
   "source": [
    "## 2. Grados de Libertad"
   ],
   "cell_type": "markdown",
   "metadata": {}
  },
  {
   "cell_type": "code",
   "execution_count": 2,
   "metadata": {},
   "outputs": [
    {
     "output_type": "stream",
     "name": "stdout",
     "text": [
      "* El modelo es de 3 GDL.\n"
     ]
    }
   ],
   "source": [
    "while True:\n",
    "    try:\n",
    "        gdl = int(input('* Ingrese el número de grados de libertad: '))\n",
    "        break\n",
    "    except ValueError:\n",
    "        print('! Ingrese un número de GDL válido.\\n')\n",
    "\n",
    "print(f'* El modelo es de {gdl} GDL.')"
   ]
  },
  {
   "source": [
    "## 3. Rigideces de Entrepiso"
   ],
   "cell_type": "markdown",
   "metadata": {}
  },
  {
   "cell_type": "code",
   "execution_count": 3,
   "metadata": {},
   "outputs": [
    {
     "output_type": "stream",
     "name": "stdout",
     "text": [
      "\n",
      "> Rigidez K1 = 25000.0 ton/m\n",
      "\n",
      "> Rigidez K2 = 21000.0 ton/m\n",
      "\n",
      "> Rigidez K3 = 17000.0 ton/m\n"
     ]
    }
   ],
   "source": [
    "k = np.empty(gdl)\n",
    "\n",
    "for i in range(gdl):\n",
    "    while True:\n",
    "        try:\n",
    "            k[i] = float(input(f'* Rigidez K{i + 1} (ton/m): '))\n",
    "            print(f'\\n> Rigidez K{i + 1} = {k[i]} ton/m')\n",
    "            break\n",
    "        except ValueError:\n",
    "            print(f'\\n! Ingrese un valor de K{i + 1} válido.')"
   ]
  },
  {
   "source": [
    "## 4. Masas Sísmicas"
   ],
   "cell_type": "markdown",
   "metadata": {}
  },
  {
   "cell_type": "code",
   "execution_count": 4,
   "metadata": {},
   "outputs": [
    {
     "output_type": "stream",
     "name": "stdout",
     "text": [
      "\n",
      "> Masa M1 = 15.0 ton-s2/m\n",
      "\n",
      "> Masa M2 = 13.0 ton-s2/m\n",
      "\n",
      "> Masa M3 = 11.0 ton-s2/m\n"
     ]
    }
   ],
   "source": [
    "m = np.empty(gdl)\n",
    "\n",
    "for i in range(gdl):\n",
    "    while True:\n",
    "        try:\n",
    "            m[i] = float(input(f'* Masa M{i + 1} (ton-s2/m): '))\n",
    "            print(f'\\n> Masa M{i + 1} = {m[i]} ton-s2/m')\n",
    "            break\n",
    "        except ValueError:\n",
    "            print(f'\\n! Ingrese un valor de M{i + 1} válido.')"
   ]
  },
  {
   "source": [
    "## 5. Fuerzas Asumidas"
   ],
   "cell_type": "markdown",
   "metadata": {}
  },
  {
   "cell_type": "code",
   "execution_count": 5,
   "metadata": {},
   "outputs": [
    {
     "output_type": "stream",
     "name": "stdout",
     "text": [
      "\n",
      "> Fuerza F1 = 10000.00 ton\n",
      "\n",
      "> Fuerza F2 = 20000.00 ton\n",
      "\n",
      "> Fuerza F3 = 30000.00 ton\n"
     ]
    }
   ],
   "source": [
    "F = np.empty(gdl)\n",
    "\n",
    "for i in range(gdl):\n",
    "    while True:\n",
    "        try:\n",
    "            F[i] = float(input(f'* Fuerza F{i + 1} (ton): '))\n",
    "            print(f'\\n> Fuerza F{i + 1} = {F[i]:.2f} ton')\n",
    "            break\n",
    "        except ValueError:\n",
    "            print(f'\\n! Ingrese un valor de F{i + 1} válido.')"
   ]
  },
  {
   "source": [
    "## 6. Tabla de Entrada"
   ],
   "cell_type": "markdown",
   "metadata": {}
  },
  {
   "cell_type": "code",
   "execution_count": 6,
   "metadata": {},
   "outputs": [
    {
     "output_type": "execute_result",
     "data": {
      "text/plain": [
       "   Mi (ton-s2/m)  Ki (ton/m)   Fi (ton)\n",
       "3         11.000  17,000.000 30,000.000\n",
       "2         13.000  21,000.000 20,000.000\n",
       "1         15.000  25,000.000 10,000.000"
      ],
      "text/html": "<div>\n<style scoped>\n    .dataframe tbody tr th:only-of-type {\n        vertical-align: middle;\n    }\n\n    .dataframe tbody tr th {\n        vertical-align: top;\n    }\n\n    .dataframe thead th {\n        text-align: right;\n    }\n</style>\n<table border=\"1\" class=\"dataframe\">\n  <thead>\n    <tr style=\"text-align: right;\">\n      <th></th>\n      <th>Mi (ton-s2/m)</th>\n      <th>Ki (ton/m)</th>\n      <th>Fi (ton)</th>\n    </tr>\n  </thead>\n  <tbody>\n    <tr>\n      <th>3</th>\n      <td>11.000</td>\n      <td>17,000.000</td>\n      <td>30,000.000</td>\n    </tr>\n    <tr>\n      <th>2</th>\n      <td>13.000</td>\n      <td>21,000.000</td>\n      <td>20,000.000</td>\n    </tr>\n    <tr>\n      <th>1</th>\n      <td>15.000</td>\n      <td>25,000.000</td>\n      <td>10,000.000</td>\n    </tr>\n  </tbody>\n</table>\n</div>"
     },
     "metadata": {},
     "execution_count": 6
    }
   ],
   "source": [
    "tabla = pd.DataFrame({'Mi (ton-s2/m)': m[::-1], 'Ki (ton/m)': k[::-1], 'Fi (ton)': F[::-1]})\n",
    "tabla.index = np.arange(gdl, 0, -1)\n",
    "\n",
    "tabla"
   ]
  },
  {
   "source": [
    "## 6. Cálculos Tabulares"
   ],
   "cell_type": "markdown",
   "metadata": {}
  },
  {
   "source": [
    "### 6.1 Cortante y Desplazamientos"
   ],
   "cell_type": "markdown",
   "metadata": {}
  },
  {
   "cell_type": "code",
   "execution_count": 7,
   "metadata": {},
   "outputs": [
    {
     "output_type": "execute_result",
     "data": {
      "text/plain": [
       "   Mi (ton-s2/m)  Ki (ton/m)   Fi (ton)   Vi (ton)  Δi (m)  Di (m)\n",
       "3         11.000  17,000.000 30,000.000 30,000.000   1.765   6.546\n",
       "2         13.000  21,000.000 20,000.000 50,000.000   2.381   4.781\n",
       "1         15.000  25,000.000 10,000.000 60,000.000   2.400   2.400"
      ],
      "text/html": "<div>\n<style scoped>\n    .dataframe tbody tr th:only-of-type {\n        vertical-align: middle;\n    }\n\n    .dataframe tbody tr th {\n        vertical-align: top;\n    }\n\n    .dataframe thead th {\n        text-align: right;\n    }\n</style>\n<table border=\"1\" class=\"dataframe\">\n  <thead>\n    <tr style=\"text-align: right;\">\n      <th></th>\n      <th>Mi (ton-s2/m)</th>\n      <th>Ki (ton/m)</th>\n      <th>Fi (ton)</th>\n      <th>Vi (ton)</th>\n      <th>Δi (m)</th>\n      <th>Di (m)</th>\n    </tr>\n  </thead>\n  <tbody>\n    <tr>\n      <th>3</th>\n      <td>11.000</td>\n      <td>17,000.000</td>\n      <td>30,000.000</td>\n      <td>30,000.000</td>\n      <td>1.765</td>\n      <td>6.546</td>\n    </tr>\n    <tr>\n      <th>2</th>\n      <td>13.000</td>\n      <td>21,000.000</td>\n      <td>20,000.000</td>\n      <td>50,000.000</td>\n      <td>2.381</td>\n      <td>4.781</td>\n    </tr>\n    <tr>\n      <th>1</th>\n      <td>15.000</td>\n      <td>25,000.000</td>\n      <td>10,000.000</td>\n      <td>60,000.000</td>\n      <td>2.400</td>\n      <td>2.400</td>\n    </tr>\n  </tbody>\n</table>\n</div>"
     },
     "metadata": {},
     "execution_count": 7
    }
   ],
   "source": [
    "# Cortante en entrepiso\n",
    "tabla['Vi (ton)'] = tabla['Fi (ton)'].cumsum()\n",
    "\n",
    "# Desplazamientos relativos\n",
    "tabla['Δi (m)'] = tabla['Vi (ton)'] / tabla['Ki (ton/m)']\n",
    "\n",
    "# Desplazamientos absolutos\n",
    "tabla['Di (m)'] = tabla['Δi (m)'][::-1].cumsum()\n",
    "\n",
    "tabla\n",
    "\n"
   ]
  },
  {
   "source": [
    "### 6.2 Valores Intermedios"
   ],
   "cell_type": "markdown",
   "metadata": {}
  },
  {
   "cell_type": "code",
   "execution_count": 8,
   "metadata": {},
   "outputs": [
    {
     "output_type": "execute_result",
     "data": {
      "text/plain": [
       "   Mi (ton-s2/m)  Ki (ton/m)   Fi (ton)   Vi (ton)  Δi (m)  Di (m)  \\\n",
       "3         11.000  17,000.000 30,000.000 30,000.000   1.765   6.546   \n",
       "2         13.000  21,000.000 20,000.000 50,000.000   2.381   4.781   \n",
       "1         15.000  25,000.000 10,000.000 60,000.000   2.400   2.400   \n",
       "\n",
       "   Mi * Di2 (ton-s2-m)  Fi * Di (ton-m)  \n",
       "3              471.302      196,369.748  \n",
       "2              297.148       95,619.048  \n",
       "1               86.400       24,000.000  "
      ],
      "text/html": "<div>\n<style scoped>\n    .dataframe tbody tr th:only-of-type {\n        vertical-align: middle;\n    }\n\n    .dataframe tbody tr th {\n        vertical-align: top;\n    }\n\n    .dataframe thead th {\n        text-align: right;\n    }\n</style>\n<table border=\"1\" class=\"dataframe\">\n  <thead>\n    <tr style=\"text-align: right;\">\n      <th></th>\n      <th>Mi (ton-s2/m)</th>\n      <th>Ki (ton/m)</th>\n      <th>Fi (ton)</th>\n      <th>Vi (ton)</th>\n      <th>Δi (m)</th>\n      <th>Di (m)</th>\n      <th>Mi * Di2 (ton-s2-m)</th>\n      <th>Fi * Di (ton-m)</th>\n    </tr>\n  </thead>\n  <tbody>\n    <tr>\n      <th>3</th>\n      <td>11.000</td>\n      <td>17,000.000</td>\n      <td>30,000.000</td>\n      <td>30,000.000</td>\n      <td>1.765</td>\n      <td>6.546</td>\n      <td>471.302</td>\n      <td>196,369.748</td>\n    </tr>\n    <tr>\n      <th>2</th>\n      <td>13.000</td>\n      <td>21,000.000</td>\n      <td>20,000.000</td>\n      <td>50,000.000</td>\n      <td>2.381</td>\n      <td>4.781</td>\n      <td>297.148</td>\n      <td>95,619.048</td>\n    </tr>\n    <tr>\n      <th>1</th>\n      <td>15.000</td>\n      <td>25,000.000</td>\n      <td>10,000.000</td>\n      <td>60,000.000</td>\n      <td>2.400</td>\n      <td>2.400</td>\n      <td>86.400</td>\n      <td>24,000.000</td>\n    </tr>\n  </tbody>\n</table>\n</div>"
     },
     "metadata": {},
     "execution_count": 8
    }
   ],
   "source": [
    "tabla['Mi * Di2 (ton-s2-m)'] = tabla['Mi (ton-s2/m)'] * np.power(tabla['Di (m)'], 2)\n",
    "tabla['Fi * Di (ton-m)'] = tabla['Fi (ton)'] * tabla['Di (m)']\n",
    "\n",
    "tabla"
   ]
  },
  {
   "source": [
    "## 7. Resultados"
   ],
   "cell_type": "markdown",
   "metadata": {}
  },
  {
   "source": [
    "### 7.1 Sumatorias de Fin de Tabla"
   ],
   "cell_type": "markdown",
   "metadata": {}
  },
  {
   "cell_type": "code",
   "execution_count": 9,
   "metadata": {},
   "outputs": [
    {
     "output_type": "stream",
     "name": "stdout",
     "text": [
      "* Σ Mi Di2 = 854.850 ton-s2-m\n\n* Σ Fi Di = 315988.796 ton-m\n"
     ]
    }
   ],
   "source": [
    "sum_mi_di2 = tabla['Mi * Di2 (ton-s2-m)'].sum()\n",
    "sum_fi_di = tabla['Fi * Di (ton-m)'].sum()\n",
    "\n",
    "print(f'* Σ Mi Di2 = {sum_mi_di2:.3f} ton-s2-m\\n')\n",
    "print(f'* Σ Fi Di = {sum_fi_di:.3f} ton-m')"
   ]
  },
  {
   "source": [
    "### 7.2 Frecuencias y Período"
   ],
   "cell_type": "markdown",
   "metadata": {}
  },
  {
   "cell_type": "code",
   "execution_count": 10,
   "metadata": {},
   "outputs": [
    {
     "output_type": "stream",
     "name": "stdout",
     "text": [
      "- Frecuencia circular: 19.226 rad/s\n\n- Frecuencia natural: 3.060 Hz\n\n- Período de vibración: 0.327 s\n"
     ]
    }
   ],
   "source": [
    "# Frecuencia circular\n",
    "w = np.sqrt(sum_fi_di / sum_mi_di2)\n",
    "\n",
    "print(f'- Frecuencia circular: {w:.3f} rad/s\\n')\n",
    "\n",
    "# Frecuencia natural\n",
    "f = w / (2 * np.pi)\n",
    "\n",
    "print(f'- Frecuencia natural: {f:.3f} Hz\\n')\n",
    "\n",
    "# Período de vibración\n",
    "T = 1 / f\n",
    "\n",
    "print(f'- Período de vibración: {T:.3f} s')"
   ]
  }
 ]
}