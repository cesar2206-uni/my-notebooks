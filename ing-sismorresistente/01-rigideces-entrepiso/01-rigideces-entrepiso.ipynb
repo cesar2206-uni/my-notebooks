{
 "metadata": {
  "language_info": {
   "codemirror_mode": {
    "name": "ipython",
    "version": 3
   },
   "file_extension": ".py",
   "mimetype": "text/x-python",
   "name": "python",
   "nbconvert_exporter": "python",
   "pygments_lexer": "ipython3",
   "version": "3.9.5"
  },
  "orig_nbformat": 4,
  "kernelspec": {
   "name": "python3",
   "display_name": "Python 3.9.5 64-bit ('base': conda)"
  },
  "interpreter": {
   "hash": "ecf5722fdaf1897a315d257d89d94520bfcaa453217d5becf09b39e73618b0de"
  }
 },
 "nbformat": 4,
 "nbformat_minor": 2,
 "cells": [
  {
   "source": [
    "# I. Rigideces de Entrepiso\n",
    "# Fórmulas de Wilbur-Biggs"
   ],
   "cell_type": "markdown",
   "metadata": {}
  },
  {
   "source": [
    "## 1. Librerías"
   ],
   "cell_type": "markdown",
   "metadata": {}
  },
  {
   "cell_type": "code",
   "execution_count": 1,
   "metadata": {},
   "outputs": [],
   "source": [
    "import numpy as np\n",
    "\n",
    "from matplotlib import pyplot as plt"
   ]
  },
  {
   "source": [
    "## 2. Geometría de Pórtico"
   ],
   "cell_type": "markdown",
   "metadata": {}
  },
  {
   "source": [
    "### 2.1 Número de Pisos"
   ],
   "cell_type": "markdown",
   "metadata": {}
  },
  {
   "cell_type": "code",
   "execution_count": 2,
   "metadata": {},
   "outputs": [
    {
     "output_type": "stream",
     "name": "stdout",
     "text": [
      "* El pórtico tiene 2 plantas.\n"
     ]
    }
   ],
   "source": [
    "n_pisos = int(input('* Ingrese el número de pisos: '))\n",
    "\n",
    "print(f'* El pórtico tiene {n_pisos} plantas.')\n"
   ]
  },
  {
   "source": [
    "### 2.2 Elevaciones de Entrepisos"
   ],
   "cell_type": "markdown",
   "metadata": {}
  },
  {
   "cell_type": "code",
   "execution_count": 3,
   "metadata": {},
   "outputs": [
    {
     "output_type": "stream",
     "name": "stdout",
     "text": [
      "\n* Elevación H-2: 300.0 m\n\n* Elevación H-1: 300.0 m\n"
     ]
    }
   ],
   "source": [
    "h = np.zeros(n_pisos)\n",
    "    \n",
    "for i in range(n_pisos):\n",
    "    h[i] = float(input(f'* Elevación del entrepiso {i + 1} (m): '))\n",
    "\n",
    "for i in range(n_pisos):\n",
    "    print(f'\\n* Elevación H-{n_pisos - i}: {h[n_pisos - i - 1]} m')"
   ]
  },
  {
   "source": [
    "### 2.3 Columnas y Vigas"
   ],
   "cell_type": "markdown",
   "metadata": {}
  },
  {
   "cell_type": "code",
   "execution_count": 4,
   "metadata": {},
   "outputs": [
    {
     "output_type": "stream",
     "name": "stdout",
     "text": [
      "* El pórtico es de 4 columnas y 3 vigas por piso.\n"
     ]
    }
   ],
   "source": [
    "# Número de columnas\n",
    "n_col = int(input('* Indique el número de columnas: '))\n",
    "\n",
    "# Número de vigas por piso\n",
    "n_vigas = n_col - 1\n",
    "\n",
    "print(f'* El pórtico es de {n_col} columnas y ', end = '')\n",
    "\n",
    "if n_vigas > 1:\n",
    "    print(f'{n_vigas} vigas por piso.')\n",
    "else:\n",
    "    print(f'{n_vigas} viga por piso.')\n"
   ]
  },
  {
   "source": [
    "### 2.4 Tipo de Apoyo en la Base"
   ],
   "cell_type": "markdown",
   "metadata": {}
  },
  {
   "cell_type": "code",
   "execution_count": 5,
   "metadata": {},
   "outputs": [
    {
     "output_type": "stream",
     "name": "stdout",
     "text": [
      "* El pórtico es empotrado en su base.\n"
     ]
    }
   ],
   "source": [
    "while True:\n",
    "    t_apoyo = input('* Tipo de apoyo ([E]mpotrado o [A]rticulado): ')\n",
    "        \n",
    "    if t_apoyo.upper() == 'E':\n",
    "        print('* El pórtico es empotrado en su base.')\n",
    "        apoyo_articulado = False\n",
    "        break\n",
    "    elif t_apoyo.upper() == 'A':\n",
    "        print('* El pórtico es articulado en su base.')\n",
    "        apoyo_articulado = True\n",
    "        break\n",
    "    else:\n",
    "        print('! Ingrese un tipo de apoyo válido.')\n"
   ]
  },
  {
   "source": [
    "### 2.5 Modelo Matemático"
   ],
   "cell_type": "markdown",
   "metadata": {}
  },
  {
   "cell_type": "code",
   "execution_count": 6,
   "metadata": {},
   "outputs": [],
   "source": [
    "plt.rcParams['figure.figsize'] = 6, 8\n",
    "plt.rcParams['font.family'] = 'Cascadia Mono'\n",
    "plt.style.use('grayscale')"
   ]
  },
  {
   "cell_type": "code",
   "execution_count": 7,
   "metadata": {},
   "outputs": [
    {
     "output_type": "display_data",
     "data": {
      "text/plain": "<Figure size 600x800 with 1 Axes>",
      "image/svg+xml": "<?xml version=\"1.0\" encoding=\"utf-8\" standalone=\"no\"?>\r\n<!DOCTYPE svg PUBLIC \"-//W3C//DTD SVG 1.1//EN\"\r\n  \"http://www.w3.org/Graphics/SVG/1.1/DTD/svg11.dtd\">\r\n<!-- Created with matplotlib (https://matplotlib.org/) -->\r\n<svg height=\"499.7325pt\" version=\"1.1\" viewBox=\"0 0 373.778125 499.7325\" width=\"373.778125pt\" xmlns=\"http://www.w3.org/2000/svg\" xmlns:xlink=\"http://www.w3.org/1999/xlink\">\r\n <metadata>\r\n  <rdf:RDF xmlns:cc=\"http://creativecommons.org/ns#\" xmlns:dc=\"http://purl.org/dc/elements/1.1/\" xmlns:rdf=\"http://www.w3.org/1999/02/22-rdf-syntax-ns#\">\r\n   <cc:Work>\r\n    <dc:type rdf:resource=\"http://purl.org/dc/dcmitype/StillImage\"/>\r\n    <dc:date>2021-06-18T04:40:49.267383</dc:date>\r\n    <dc:format>image/svg+xml</dc:format>\r\n    <dc:creator>\r\n     <cc:Agent>\r\n      <dc:title>Matplotlib v3.3.4, https://matplotlib.org/</dc:title>\r\n     </cc:Agent>\r\n    </dc:creator>\r\n   </cc:Work>\r\n  </rdf:RDF>\r\n </metadata>\r\n <defs>\r\n  <style type=\"text/css\">*{stroke-linecap:butt;stroke-linejoin:round;}</style>\r\n </defs>\r\n <g id=\"figure_1\">\r\n  <g id=\"patch_1\">\r\n   <path d=\"M 0 499.7325 \r\nL 373.778125 499.7325 \r\nL 373.778125 0 \r\nL 0 0 \r\nz\r\n\" style=\"fill:#bfbfbf;\"/>\r\n  </g>\r\n  <g id=\"axes_1\">\r\n   <g id=\"patch_2\">\r\n    <path d=\"M 31.778125 489.0325 \r\nL 366.578125 489.0325 \r\nL 366.578125 45.5125 \r\nL 31.778125 45.5125 \r\nz\r\n\" style=\"fill:#ffffff;\"/>\r\n   </g>\r\n   <g id=\"matplotlib.axis_1\">\r\n    <g id=\"ytick_1\">\r\n     <g id=\"line2d_1\">\r\n      <defs>\r\n       <path d=\"M 0 0 \r\nL -3.5 0 \r\n\" id=\"mb892975e87\" style=\"stroke:#000000;stroke-width:0.8;\"/>\r\n      </defs>\r\n      <g>\r\n       <use style=\"stroke:#000000;stroke-width:0.8;\" x=\"31.778125\" xlink:href=\"#mb892975e87\" y=\"468.8725\"/>\r\n      </g>\r\n     </g>\r\n     <g id=\"text_1\">\r\n      <!-- 0 -->\r\n      <g transform=\"translate(18.91875 472.535)scale(0.1 -0.1)\">\r\n       <defs>\r\n        <path d=\"M 29.296875 -0.984375 \r\nQ 5.671875 -0.984375 5.671875 34.1875 \r\nQ 5.671875 70.3125 29.296875 70.3125 \r\nQ 52.9375 70.3125 52.9375 34.1875 \r\nQ 52.9375 -0.984375 29.296875 -0.984375 \r\nz\r\nM 29.296875 26.859375 \r\nQ 26.03125 26.859375 24 28.875 \r\nQ 21.96875 30.90625 21.96875 34.1875 \r\nQ 21.96875 37.5 24 39.5 \r\nQ 26.03125 41.5 29.296875 41.5 \r\nQ 32.625 41.5 34.625 39.5 \r\nQ 36.625 37.5 36.625 34.1875 \r\nQ 36.625 30.90625 34.625 28.875 \r\nQ 32.625 26.859375 29.296875 26.859375 \r\nz\r\nM 29.296875 8.015625 \r\nQ 42.484375 8.015625 42.484375 34.1875 \r\nQ 42.484375 61.328125 29.296875 61.328125 \r\nQ 16.109375 61.328125 16.109375 34.1875 \r\nQ 16.109375 8.015625 29.296875 8.015625 \r\nz\r\n\" id=\"CascadiaMono-Roman-48\"/>\r\n       </defs>\r\n       <use xlink:href=\"#CascadiaMono-Roman-48\"/>\r\n      </g>\r\n     </g>\r\n    </g>\r\n    <g id=\"ytick_2\">\r\n     <g id=\"line2d_2\">\r\n      <g>\r\n       <use style=\"stroke:#000000;stroke-width:0.8;\" x=\"31.778125\" xlink:href=\"#mb892975e87\" y=\"401.6725\"/>\r\n      </g>\r\n     </g>\r\n     <g id=\"text_2\">\r\n      <!-- 100 -->\r\n      <g transform=\"translate(7.2 405.335)scale(0.1 -0.1)\">\r\n       <defs>\r\n        <path d=\"M 25.875 0 \r\nL 25.875 69.34375 \r\nL 35.640625 69.34375 \r\nL 35.640625 0 \r\nz\r\nM 8.296875 0 \r\nL 8.296875 9.28125 \r\nL 26.859375 9.28125 \r\nL 26.859375 0 \r\nz\r\nM 34.671875 0 \r\nL 34.671875 9.28125 \r\nL 51.375 9.28125 \r\nL 51.375 0 \r\nz\r\nM 9.28125 53.609375 \r\nL 9.28125 63.484375 \r\nL 25.875 69.34375 \r\nL 25.875 59.28125 \r\nz\r\n\" id=\"CascadiaMono-Roman-49\"/>\r\n       </defs>\r\n       <use xlink:href=\"#CascadiaMono-Roman-49\"/>\r\n       <use x=\"58.59375\" xlink:href=\"#CascadiaMono-Roman-48\"/>\r\n       <use x=\"117.1875\" xlink:href=\"#CascadiaMono-Roman-48\"/>\r\n      </g>\r\n     </g>\r\n    </g>\r\n    <g id=\"ytick_3\">\r\n     <g id=\"line2d_3\">\r\n      <g>\r\n       <use style=\"stroke:#000000;stroke-width:0.8;\" x=\"31.778125\" xlink:href=\"#mb892975e87\" y=\"334.4725\"/>\r\n      </g>\r\n     </g>\r\n     <g id=\"text_3\">\r\n      <!-- 200 -->\r\n      <g transform=\"translate(7.2 338.135)scale(0.1 -0.1)\">\r\n       <defs>\r\n        <path d=\"M 7.421875 0 \r\nL 7.421875 10.9375 \r\nQ 23.484375 19.828125 31.421875 29.484375 \r\nQ 39.359375 39.15625 39.359375 49.421875 \r\nQ 39.359375 55.375 36.421875 58.34375 \r\nQ 33.5 61.328125 27.546875 61.328125 \r\nQ 23.578125 61.328125 19.28125 59.03125 \r\nQ 14.984375 56.734375 11.921875 52.9375 \r\nL 5.171875 59.625 \r\nQ 8.546875 64.453125 14.75 67.375 \r\nQ 20.953125 70.3125 27.734375 70.3125 \r\nQ 38.71875 70.3125 44.15625 65.109375 \r\nQ 49.609375 59.90625 49.609375 49.421875 \r\nQ 49.609375 38.875 42.9375 29.171875 \r\nQ 36.28125 19.484375 22.65625 10.546875 \r\nL 22.65625 0 \r\nz\r\nM 10.359375 0 \r\nL 10.359375 9.078125 \r\nL 52.546875 9.078125 \r\nL 52.546875 0 \r\nz\r\n\" id=\"CascadiaMono-Roman-50\"/>\r\n       </defs>\r\n       <use xlink:href=\"#CascadiaMono-Roman-50\"/>\r\n       <use x=\"58.59375\" xlink:href=\"#CascadiaMono-Roman-48\"/>\r\n       <use x=\"117.1875\" xlink:href=\"#CascadiaMono-Roman-48\"/>\r\n      </g>\r\n     </g>\r\n    </g>\r\n    <g id=\"ytick_4\">\r\n     <g id=\"line2d_4\">\r\n      <g>\r\n       <use style=\"stroke:#000000;stroke-width:0.8;\" x=\"31.778125\" xlink:href=\"#mb892975e87\" y=\"267.2725\"/>\r\n      </g>\r\n     </g>\r\n     <g id=\"text_4\">\r\n      <!-- 300 -->\r\n      <g transform=\"translate(7.2 270.935)scale(0.1 -0.1)\">\r\n       <defs>\r\n        <path d=\"M 25.09375 -0.984375 \r\nQ 19.734375 -0.984375 15.265625 -0.34375 \r\nQ 10.796875 0.296875 7.328125 1.375 \r\nL 8.546875 10.6875 \r\nQ 11.53125 9.859375 15.265625 8.9375 \r\nQ 19 8.015625 24.703125 8.015625 \r\nQ 32.328125 8.015625 36.515625 11.03125 \r\nQ 40.71875 14.0625 40.71875 19.53125 \r\nQ 40.71875 23.4375 38.296875 26.171875 \r\nQ 35.890625 28.90625 31.296875 30.3125 \r\nQ 26.703125 31.734375 20.125 31.734375 \r\nL 18.5625 31.734375 \r\nL 17.390625 38.09375 \r\nL 32.328125 36.921875 \r\nQ 40.625 36.28125 45.796875 31.515625 \r\nQ 50.984375 26.765625 50.984375 18.5625 \r\nQ 50.984375 9.28125 44.21875 4.140625 \r\nQ 37.453125 -0.984375 25.09375 -0.984375 \r\nz\r\nM 18.5625 31.734375 \r\nL 17.390625 38.09375 \r\nQ 25.09375 39.109375 29.90625 41.109375 \r\nQ 34.71875 43.109375 36.984375 45.96875 \r\nQ 39.265625 48.828125 39.265625 52.34375 \r\nQ 39.265625 56.59375 36.5 58.953125 \r\nQ 33.734375 61.328125 28.609375 61.328125 \r\nQ 24.90625 61.328125 20.71875 59.46875 \r\nQ 16.546875 57.625 12.84375 53.90625 \r\nL 6.109375 60.59375 \r\nQ 10.59375 65.671875 16.5 67.984375 \r\nQ 22.40625 70.3125 29.6875 70.3125 \r\nQ 39.15625 70.3125 44.328125 66.28125 \r\nQ 49.515625 62.25 49.515625 54.78125 \r\nQ 49.515625 48.53125 45.5 43.921875 \r\nQ 41.5 39.3125 35.0625 37.59375 \r\nL 35.0625 31.734375 \r\nz\r\n\" id=\"CascadiaMono-Roman-51\"/>\r\n       </defs>\r\n       <use xlink:href=\"#CascadiaMono-Roman-51\"/>\r\n       <use x=\"58.59375\" xlink:href=\"#CascadiaMono-Roman-48\"/>\r\n       <use x=\"117.1875\" xlink:href=\"#CascadiaMono-Roman-48\"/>\r\n      </g>\r\n     </g>\r\n    </g>\r\n    <g id=\"ytick_5\">\r\n     <g id=\"line2d_5\">\r\n      <g>\r\n       <use style=\"stroke:#000000;stroke-width:0.8;\" x=\"31.778125\" xlink:href=\"#mb892975e87\" y=\"200.0725\"/>\r\n      </g>\r\n     </g>\r\n     <g id=\"text_5\">\r\n      <!-- 400 -->\r\n      <g transform=\"translate(7.2 203.735)scale(0.1 -0.1)\">\r\n       <defs>\r\n        <path d=\"M 3.609375 15.53125 \r\nL 13.375 65.4375 \r\nL 23.4375 65.4375 \r\nL 13.578125 15.53125 \r\nz\r\nM 3.609375 15.53125 \r\nL 10.453125 24.609375 \r\nL 39.265625 24.609375 \r\nL 39.265625 15.53125 \r\nz\r\nM 47.171875 15.53125 \r\nL 47.171875 24.609375 \r\nL 54.6875 24.609375 \r\nL 54.6875 15.53125 \r\nz\r\nM 38.28125 0 \r\nL 38.28125 69.34375 \r\nL 48.140625 69.34375 \r\nL 48.140625 0 \r\nz\r\n\" id=\"CascadiaMono-Roman-52\"/>\r\n       </defs>\r\n       <use xlink:href=\"#CascadiaMono-Roman-52\"/>\r\n       <use x=\"58.59375\" xlink:href=\"#CascadiaMono-Roman-48\"/>\r\n       <use x=\"117.1875\" xlink:href=\"#CascadiaMono-Roman-48\"/>\r\n      </g>\r\n     </g>\r\n    </g>\r\n    <g id=\"ytick_6\">\r\n     <g id=\"line2d_6\">\r\n      <g>\r\n       <use style=\"stroke:#000000;stroke-width:0.8;\" x=\"31.778125\" xlink:href=\"#mb892975e87\" y=\"132.8725\"/>\r\n      </g>\r\n     </g>\r\n     <g id=\"text_6\">\r\n      <!-- 500 -->\r\n      <g transform=\"translate(7.2 136.535)scale(0.1 -0.1)\">\r\n       <defs>\r\n        <path d=\"M 29.984375 -0.984375 \r\nQ 18.75 -0.984375 12.59375 4.359375 \r\nQ 6.453125 9.71875 6.453125 19.4375 \r\nL 16.890625 19.4375 \r\nQ 16.890625 14.015625 20.3125 11.015625 \r\nQ 23.734375 8.015625 30.078125 8.015625 \r\nQ 36.328125 8.015625 39.75 11.765625 \r\nQ 43.171875 15.53125 43.171875 22.359375 \r\nQ 43.171875 29.046875 39.453125 32.734375 \r\nQ 35.75 36.421875 28.90625 36.421875 \r\nQ 22.078125 36.421875 16.109375 33.203125 \r\nL 17 41.5 \r\nQ 20.84375 43.703125 24.65625 44.453125 \r\nQ 28.46875 45.21875 32.328125 45.21875 \r\nQ 42.390625 45.21875 47.90625 39.25 \r\nQ 53.421875 33.296875 53.421875 22.359375 \r\nQ 53.421875 14.9375 50.65625 9.71875 \r\nQ 47.90625 4.5 42.671875 1.75 \r\nQ 37.453125 -0.984375 29.984375 -0.984375 \r\nz\r\nM 10.640625 33.203125 \r\nL 11.625 69.34375 \r\nL 21.6875 69.34375 \r\nL 20.703125 39.265625 \r\nL 16.109375 33.203125 \r\nz\r\nM 16.3125 60.25 \r\nL 15.4375 69.34375 \r\nL 49.03125 69.34375 \r\nL 49.03125 60.25 \r\nz\r\n\" id=\"CascadiaMono-Roman-53\"/>\r\n       </defs>\r\n       <use xlink:href=\"#CascadiaMono-Roman-53\"/>\r\n       <use x=\"58.59375\" xlink:href=\"#CascadiaMono-Roman-48\"/>\r\n       <use x=\"117.1875\" xlink:href=\"#CascadiaMono-Roman-48\"/>\r\n      </g>\r\n     </g>\r\n    </g>\r\n    <g id=\"ytick_7\">\r\n     <g id=\"line2d_7\">\r\n      <g>\r\n       <use style=\"stroke:#000000;stroke-width:0.8;\" x=\"31.778125\" xlink:href=\"#mb892975e87\" y=\"65.6725\"/>\r\n      </g>\r\n     </g>\r\n     <g id=\"text_7\">\r\n      <!-- 600 -->\r\n      <g transform=\"translate(7.2 69.335)scale(0.1 -0.1)\">\r\n       <defs>\r\n        <path d=\"M 29.6875 -0.984375 \r\nQ 17.625 -0.984375 11.9375 5.015625 \r\nQ 6.25 11.03125 6.25 23.734375 \r\nL 14.359375 32.625 \r\nL 17.96875 32.625 \r\nQ 19.4375 38.03125 23.796875 40.984375 \r\nQ 28.171875 43.953125 34.46875 43.953125 \r\nQ 43.5625 43.953125 48.484375 38.328125 \r\nQ 53.421875 32.71875 53.421875 22.46875 \r\nQ 53.421875 11.421875 47.140625 5.21875 \r\nQ 40.875 -0.984375 29.6875 -0.984375 \r\nz\r\nM 30.03125 8.015625 \r\nQ 36.234375 8.015625 39.703125 11.84375 \r\nQ 43.171875 15.671875 43.171875 22.46875 \r\nQ 43.171875 28.46875 39.96875 31.71875 \r\nQ 36.765625 34.96875 30.8125 34.96875 \r\nQ 24.03125 34.96875 20.359375 31.453125 \r\nQ 16.703125 27.9375 16.703125 21.484375 \r\nQ 16.703125 15.140625 20.21875 11.578125 \r\nQ 23.734375 8.015625 30.03125 8.015625 \r\nz\r\nM 6.25 23.734375 \r\nL 6.25 28.03125 \r\nQ 6.25 47.90625 16.328125 58.25 \r\nQ 26.421875 68.609375 47.078125 69.625 \r\nL 48.046875 60.359375 \r\nQ 17.09375 59.03125 17.09375 32.515625 \r\nL 17.09375 26.953125 \r\nz\r\n\" id=\"CascadiaMono-Roman-54\"/>\r\n       </defs>\r\n       <use xlink:href=\"#CascadiaMono-Roman-54\"/>\r\n       <use x=\"58.59375\" xlink:href=\"#CascadiaMono-Roman-48\"/>\r\n       <use x=\"117.1875\" xlink:href=\"#CascadiaMono-Roman-48\"/>\r\n      </g>\r\n     </g>\r\n    </g>\r\n   </g>\r\n   <g id=\"LineCollection_1\">\r\n    <path clip-path=\"url(#p2884cd29ac)\" d=\"M 87.578125 267.2725 \r\nL 310.778125 267.2725 \r\n\" style=\"fill:none;stroke:#424242;stroke-width:3;\"/>\r\n   </g>\r\n   <g id=\"LineCollection_2\">\r\n    <path clip-path=\"url(#p2884cd29ac)\" d=\"M 87.578125 65.6725 \r\nL 310.778125 65.6725 \r\n\" style=\"fill:none;stroke:#424242;stroke-width:3;\"/>\r\n   </g>\r\n   <g id=\"LineCollection_3\">\r\n    <path clip-path=\"url(#p2884cd29ac)\" d=\"M 87.578125 468.8725 \r\nL 87.578125 65.6725 \r\n\" style=\"fill:none;stroke:#424242;stroke-width:3;\"/>\r\n   </g>\r\n   <g id=\"LineCollection_4\">\r\n    <path clip-path=\"url(#p2884cd29ac)\" d=\"M 161.978125 468.8725 \r\nL 161.978125 65.6725 \r\n\" style=\"fill:none;stroke:#424242;stroke-width:3;\"/>\r\n   </g>\r\n   <g id=\"LineCollection_5\">\r\n    <path clip-path=\"url(#p2884cd29ac)\" d=\"M 236.378125 468.8725 \r\nL 236.378125 65.6725 \r\n\" style=\"fill:none;stroke:#424242;stroke-width:3;\"/>\r\n   </g>\r\n   <g id=\"LineCollection_6\">\r\n    <path clip-path=\"url(#p2884cd29ac)\" d=\"M 310.778125 468.8725 \r\nL 310.778125 65.6725 \r\n\" style=\"fill:none;stroke:#424242;stroke-width:3;\"/>\r\n   </g>\r\n   <g id=\"line2d_8\">\r\n    <path clip-path=\"url(#p2884cd29ac)\" d=\"M 31.778125 468.8725 \r\nL 366.578125 468.8725 \r\n\" style=\"fill:none;stroke:#8c8c8c;stroke-linecap:square;stroke-width:2;\"/>\r\n   </g>\r\n   <g id=\"patch_3\">\r\n    <path d=\"M 31.778125 489.0325 \r\nL 31.778125 45.5125 \r\n\" style=\"fill:none;stroke:#000000;stroke-linecap:square;stroke-linejoin:miter;stroke-width:0.8;\"/>\r\n   </g>\r\n   <g id=\"patch_4\">\r\n    <path d=\"M 366.578125 489.0325 \r\nL 366.578125 45.5125 \r\n\" style=\"fill:none;stroke:#000000;stroke-linecap:square;stroke-linejoin:miter;stroke-width:0.8;\"/>\r\n   </g>\r\n   <g id=\"patch_5\">\r\n    <path d=\"M 31.778125 489.0325 \r\nL 366.578125 489.0325 \r\n\" style=\"fill:none;stroke:#000000;stroke-linecap:square;stroke-linejoin:miter;stroke-width:0.8;\"/>\r\n   </g>\r\n   <g id=\"patch_6\">\r\n    <path d=\"M 31.778125 45.5125 \r\nL 366.578125 45.5125 \r\n\" style=\"fill:none;stroke:#000000;stroke-linecap:square;stroke-linejoin:miter;stroke-width:0.8;\"/>\r\n   </g>\r\n   <g id=\"text_8\">\r\n    <!-- Modelo de Pórtico -->\r\n    <g transform=\"translate(74.666406 25.5125)scale(0.25 -0.25)\">\r\n     <defs>\r\n      <path d=\"M 27.640625 28.328125 \r\nL 29.109375 39.546875 \r\nL 29.6875 39.546875 \r\nL 37.59375 69.34375 \r\nL 44.53125 69.34375 \r\nL 44.53125 57.03125 \r\nL 41.703125 57.03125 \r\nL 33.796875 28.328125 \r\nz\r\nM 6.25 0 \r\nL 6.25 69.34375 \r\nL 15.625 69.34375 \r\nL 15.625 0 \r\nz\r\nM 24.8125 28.328125 \r\nL 16.890625 57.03125 \r\nL 14.0625 57.03125 \r\nL 14.0625 69.34375 \r\nL 21 69.34375 \r\nL 28.90625 39.546875 \r\nL 29.296875 39.546875 \r\nL 30.28125 28.328125 \r\nz\r\nM 42.96875 0 \r\nL 42.96875 69.34375 \r\nL 52.34375 69.34375 \r\nL 52.34375 0 \r\nz\r\n\" id=\"CascadiaMono-Roman-77\"/>\r\n      <path d=\"M 29.296875 -0.984375 \r\nQ 18.5625 -0.984375 12.59375 6.046875 \r\nQ 6.640625 13.09375 6.640625 25.875 \r\nQ 6.640625 38.71875 12.59375 45.71875 \r\nQ 18.5625 52.734375 29.296875 52.734375 \r\nQ 40.09375 52.734375 46.015625 45.71875 \r\nQ 51.953125 38.71875 51.953125 25.875 \r\nQ 51.953125 13.09375 46.015625 6.046875 \r\nQ 40.09375 -0.984375 29.296875 -0.984375 \r\nz\r\nM 29.296875 8.296875 \r\nQ 35.015625 8.296875 38.109375 12.890625 \r\nQ 41.21875 17.484375 41.21875 25.875 \r\nQ 41.21875 34.328125 38.109375 38.890625 \r\nQ 35.015625 43.453125 29.296875 43.453125 \r\nQ 23.578125 43.453125 20.484375 38.890625 \r\nQ 17.390625 34.328125 17.390625 25.875 \r\nQ 17.390625 17.484375 20.484375 12.890625 \r\nQ 23.578125 8.296875 29.296875 8.296875 \r\nz\r\n\" id=\"CascadiaMono-Roman-111\"/>\r\n      <path d=\"M 25.34375 -0.984375 \r\nQ 15.1875 -0.984375 9.9375 5.703125 \r\nQ 4.6875 12.40625 4.6875 25.390625 \r\nQ 4.6875 38.875 9.9375 45.796875 \r\nQ 15.1875 52.734375 25.34375 52.734375 \r\nQ 31.15625 52.734375 34.78125 50 \r\nQ 38.421875 47.265625 39.0625 42.390625 \r\nL 43.0625 42.390625 \r\nL 40.046875 27.640625 \r\nQ 40.046875 35.640625 36.890625 39.796875 \r\nQ 33.734375 43.953125 27.640625 43.953125 \r\nQ 21.390625 43.953125 18.15625 39.265625 \r\nQ 14.9375 34.578125 14.9375 25.390625 \r\nQ 14.9375 16.703125 18.15625 12.25 \r\nQ 21.390625 7.8125 27.640625 7.8125 \r\nQ 33.734375 7.8125 36.890625 11.953125 \r\nQ 40.046875 16.109375 40.046875 24.125 \r\nL 43.5625 9.375 \r\nL 39.0625 9.375 \r\nQ 38.578125 4.5 34.9375 1.75 \r\nQ 31.296875 -0.984375 25.34375 -0.984375 \r\nz\r\nM 41.109375 -0.484375 \r\nL 40.046875 9.671875 \r\nL 40.046875 73.25 \r\nL 50.390625 73.25 \r\nL 50.390625 0 \r\nz\r\n\" id=\"CascadiaMono-Roman-100\"/>\r\n      <path d=\"M 34.28125 -0.984375 \r\nQ 21.046875 -0.984375 13.84375 5.96875 \r\nQ 6.640625 12.9375 6.640625 25.984375 \r\nQ 6.640625 38.671875 12.734375 45.703125 \r\nQ 18.84375 52.734375 29.984375 52.734375 \r\nQ 40.484375 52.734375 46.21875 46.390625 \r\nQ 51.953125 40.046875 51.953125 27.9375 \r\nQ 51.953125 24.359375 51.65625 21.296875 \r\nL 15.328125 21.296875 \r\nL 15.328125 29.203125 \r\nL 42.578125 29.203125 \r\nQ 42.578125 36.1875 39.25 39.921875 \r\nQ 35.9375 43.65625 30.078125 43.65625 \r\nQ 23.484375 43.65625 19.84375 39.15625 \r\nQ 16.21875 34.671875 16.21875 26.46875 \r\nQ 16.21875 17.484375 21.21875 12.796875 \r\nQ 26.21875 8.109375 35.453125 8.109375 \r\nQ 38.671875 8.109375 41.796875 8.46875 \r\nQ 44.921875 8.84375 48.140625 9.46875 \r\nL 49.421875 0.390625 \r\nQ 44.828125 -0.484375 41.015625 -0.734375 \r\nQ 37.203125 -0.984375 34.28125 -0.984375 \r\nz\r\n\" id=\"CascadiaMono-Roman-101\"/>\r\n      <path d=\"M 37.015625 -0.984375 \r\nQ 28.03125 -0.984375 24.015625 3.90625 \r\nQ 20.015625 8.796875 20.015625 19.53125 \r\nL 20.015625 73.25 \r\nL 30.375 73.25 \r\nL 30.375 20.015625 \r\nQ 30.375 15.921875 31.15625 13.328125 \r\nQ 31.9375 10.75 34.203125 9.515625 \r\nQ 36.46875 8.296875 40.921875 8.296875 \r\nQ 44.96875 8.296875 51.265625 10.15625 \r\nL 52.4375 1.078125 \r\nQ 48.484375 0 44.84375 -0.484375 \r\nQ 41.21875 -0.984375 37.015625 -0.984375 \r\nz\r\nM 4.78125 64.75 \r\nL 4.78125 73.25 \r\nL 20.90625 73.25 \r\nL 20.90625 64.75 \r\nz\r\n\" id=\"CascadiaMono-Roman-108\"/>\r\n      <path id=\"CascadiaMono-Roman-32\"/>\r\n      <path d=\"M 16.40625 21.484375 \r\nL 16.40625 30.765625 \r\nL 28.21875 30.765625 \r\nQ 36.234375 30.765625 40.328125 34.734375 \r\nQ 44.4375 38.71875 44.4375 46.390625 \r\nQ 44.4375 53.125 40.328125 56.59375 \r\nQ 36.234375 60.0625 28.21875 60.0625 \r\nL 16.609375 60.0625 \r\nL 16.609375 69.34375 \r\nL 28.21875 69.34375 \r\nQ 41.265625 69.34375 47.96875 63.53125 \r\nQ 54.6875 57.71875 54.6875 46.390625 \r\nQ 54.6875 34.125 47.96875 27.796875 \r\nQ 41.265625 21.484375 28.21875 21.484375 \r\nz\r\nM 7.8125 0 \r\nL 7.8125 69.34375 \r\nL 17.578125 69.34375 \r\nL 17.578125 0 \r\nz\r\n\" id=\"CascadiaMono-Roman-80\"/>\r\n      <path d=\"M 29.296875 -0.984375 \r\nQ 18.5625 -0.984375 12.59375 6.046875 \r\nQ 6.640625 13.09375 6.640625 25.875 \r\nQ 6.640625 38.71875 12.59375 45.71875 \r\nQ 18.5625 52.734375 29.296875 52.734375 \r\nQ 40.09375 52.734375 46.015625 45.71875 \r\nQ 51.953125 38.71875 51.953125 25.875 \r\nQ 51.953125 13.09375 46.015625 6.046875 \r\nQ 40.09375 -0.984375 29.296875 -0.984375 \r\nz\r\nM 29.296875 8.296875 \r\nQ 35.015625 8.296875 38.109375 12.890625 \r\nQ 41.21875 17.484375 41.21875 25.875 \r\nQ 41.21875 34.328125 38.109375 38.890625 \r\nQ 35.015625 43.453125 29.296875 43.453125 \r\nQ 23.578125 43.453125 20.484375 38.890625 \r\nQ 17.390625 34.328125 17.390625 25.875 \r\nQ 17.390625 17.484375 20.484375 12.890625 \r\nQ 23.578125 8.296875 29.296875 8.296875 \r\nz\r\nM 24.359375 60.9375 \r\nL 32.671875 79.5 \r\nL 43.015625 79.5 \r\nL 33.734375 60.9375 \r\nz\r\n\" id=\"CascadiaMono-Roman-243\"/>\r\n      <path d=\"M 25.78125 22.265625 \r\nL 22.75 38.484375 \r\nL 26.765625 38.484375 \r\nQ 27.640625 52.734375 41.015625 52.734375 \r\nQ 49.03125 52.734375 52.640625 48.140625 \r\nQ 56.25 43.5625 56.25 33.296875 \r\nL 46 33.296875 \r\nQ 46 38.96875 44.3125 41.453125 \r\nQ 42.625 43.953125 38.875 43.953125 \r\nQ 32.28125 43.953125 29.03125 38.3125 \r\nQ 25.78125 32.671875 25.78125 22.265625 \r\nz\r\nM 3.90625 0 \r\nL 3.90625 8.5 \r\nL 38.484375 8.5 \r\nL 38.484375 0 \r\nz\r\nM 15.4375 0 \r\nL 15.4375 51.765625 \r\nL 23.828125 51.765625 \r\nL 25.78125 36.921875 \r\nL 25.78125 0 \r\nz\r\nM 5.859375 43.265625 \r\nL 5.859375 51.765625 \r\nL 23.140625 51.765625 \r\nL 24.125 43.265625 \r\nz\r\n\" id=\"CascadiaMono-Roman-114\"/>\r\n      <path d=\"M 38.671875 -0.984375 \r\nQ 26.90625 -0.984375 21.65625 3.90625 \r\nQ 16.40625 8.796875 16.40625 19.53125 \r\nL 16.40625 28.328125 \r\nL 26.765625 28.328125 \r\nL 26.765625 20.015625 \r\nQ 26.765625 13.875 29.765625 11.078125 \r\nQ 32.765625 8.296875 39.65625 8.296875 \r\nQ 42.09375 8.296875 44.828125 8.5625 \r\nQ 47.5625 8.84375 51.078125 9.28125 \r\nL 52.25 0.203125 \r\nQ 48.828125 -0.390625 45.578125 -0.6875 \r\nQ 42.328125 -0.984375 38.671875 -0.984375 \r\nz\r\nM 16.40625 24.421875 \r\nL 16.40625 67.390625 \r\nL 26.765625 67.390625 \r\nL 26.765625 24.421875 \r\nz\r\nM 3.421875 43.265625 \r\nL 3.421875 51.765625 \r\nL 50.296875 51.765625 \r\nL 50.296875 43.265625 \r\nz\r\n\" id=\"CascadiaMono-Roman-116\"/>\r\n      <path d=\"M 27.546875 0 \r\nL 27.546875 48.828125 \r\nL 37.890625 48.828125 \r\nL 37.890625 0 \r\nz\r\nM 7.8125 0 \r\nL 7.8125 8.5 \r\nL 28.515625 8.5 \r\nL 28.515625 0 \r\nz\r\nM 36.921875 0 \r\nL 36.921875 8.5 \r\nL 53.8125 8.5 \r\nL 53.8125 0 \r\nz\r\nM 10.75 43.265625 \r\nL 10.75 51.765625 \r\nL 37.890625 51.765625 \r\nL 37.890625 43.265625 \r\nz\r\nM 32.375 59.96875 \r\nQ 29.390625 59.96875 27.265625 62.078125 \r\nQ 25.140625 64.203125 25.140625 67.1875 \r\nQ 25.140625 70.21875 27.265625 72.3125 \r\nQ 29.390625 74.421875 32.375 74.421875 \r\nQ 35.40625 74.421875 37.5 72.3125 \r\nQ 39.59375 70.21875 39.59375 67.1875 \r\nQ 39.59375 64.203125 37.5 62.078125 \r\nQ 35.40625 59.96875 32.375 59.96875 \r\nz\r\n\" id=\"CascadiaMono-Roman-105\"/>\r\n      <path d=\"M 34.28125 -0.984375 \r\nQ 21.046875 -0.984375 13.84375 5.96875 \r\nQ 6.640625 12.9375 6.640625 25.984375 \r\nQ 6.640625 38.671875 13.453125 45.703125 \r\nQ 20.265625 52.734375 32.90625 52.734375 \r\nQ 40.484375 52.734375 45.875 49.921875 \r\nQ 51.265625 47.125 53.5625 42 \r\nL 45.609375 35.984375 \r\nQ 43.40625 39.546875 39.984375 41.5 \r\nQ 36.578125 43.453125 32.515625 43.453125 \r\nQ 25.203125 43.453125 21.140625 39.03125 \r\nQ 17.09375 34.625 17.09375 26.46875 \r\nQ 17.09375 17.625 21.84375 12.953125 \r\nQ 26.609375 8.296875 35.453125 8.296875 \r\nQ 39.0625 8.296875 42.671875 8.640625 \r\nQ 46.296875 8.984375 49.703125 9.578125 \r\nL 50.875 0.484375 \r\nQ 46.875 -0.390625 42.59375 -0.6875 \r\nQ 38.328125 -0.984375 34.28125 -0.984375 \r\nz\r\n\" id=\"CascadiaMono-Roman-99\"/>\r\n     </defs>\r\n     <use xlink:href=\"#CascadiaMono-Roman-77\"/>\r\n     <use x=\"58.59375\" xlink:href=\"#CascadiaMono-Roman-111\"/>\r\n     <use x=\"117.1875\" xlink:href=\"#CascadiaMono-Roman-100\"/>\r\n     <use x=\"175.78125\" xlink:href=\"#CascadiaMono-Roman-101\"/>\r\n     <use x=\"234.375\" xlink:href=\"#CascadiaMono-Roman-108\"/>\r\n     <use x=\"292.96875\" xlink:href=\"#CascadiaMono-Roman-111\"/>\r\n     <use x=\"351.5625\" xlink:href=\"#CascadiaMono-Roman-32\"/>\r\n     <use x=\"410.15625\" xlink:href=\"#CascadiaMono-Roman-100\"/>\r\n     <use x=\"468.75\" xlink:href=\"#CascadiaMono-Roman-101\"/>\r\n     <use x=\"527.34375\" xlink:href=\"#CascadiaMono-Roman-32\"/>\r\n     <use x=\"585.9375\" xlink:href=\"#CascadiaMono-Roman-80\"/>\r\n     <use x=\"644.53125\" xlink:href=\"#CascadiaMono-Roman-243\"/>\r\n     <use x=\"703.125\" xlink:href=\"#CascadiaMono-Roman-114\"/>\r\n     <use x=\"761.71875\" xlink:href=\"#CascadiaMono-Roman-116\"/>\r\n     <use x=\"820.3125\" xlink:href=\"#CascadiaMono-Roman-105\"/>\r\n     <use x=\"878.90625\" xlink:href=\"#CascadiaMono-Roman-99\"/>\r\n     <use x=\"937.5\" xlink:href=\"#CascadiaMono-Roman-111\"/>\r\n    </g>\r\n   </g>\r\n  </g>\r\n </g>\r\n <defs>\r\n  <clipPath id=\"p2884cd29ac\">\r\n   <rect height=\"443.52\" width=\"334.8\" x=\"31.778125\" y=\"45.5125\"/>\r\n  </clipPath>\r\n </defs>\r\n</svg>\r\n",
      "image/png": "[encoded data removed]"
     },
     "metadata": {}
    }
   ],
   "source": [
    "ax = plt.axes()\n",
    "ax.set_title('Modelo de Pórtico', fontsize = '25', pad = 20)\n",
    "\n",
    "ax.grid(False)\n",
    "ax.axes.xaxis.set_visible(False)\n",
    "\n",
    "# Trazado de vigas\n",
    "H = 0\n",
    "B = 2 * sum(h) / 3\n",
    "\n",
    "for i in range(n_pisos):\n",
    "    H += h[i]\n",
    "    plt.hlines(H, 0, B, linewidth = 3, color = '#424242')\n",
    "\n",
    "# Trazado de columnas\n",
    "d = 0\n",
    "\n",
    "for i in range(n_col):\n",
    "    plt.vlines(d, 0, H,  linewidth = 3, color = '#424242')\n",
    "    d += B / (n_col - 1)\n",
    "\n",
    "# Ubicación de apoyos\n",
    "if apoyo_articulado:\n",
    "    d = 0\n",
    "    for i in range(n_col):\n",
    "        plt.plot(d, 0, marker = 10, markersize = 16, color = '#424242')\n",
    "        d += B / (n_col - 1)\n",
    "\n",
    "ax.axhline(y = 0, linewidth = 2, color = '#8C8C8C')\n",
    "\n",
    "ax.set_xlim(-B / 4, 5 * B / 4)\n",
    "\n",
    "plt.show()\n"
   ]
  },
  {
   "source": [
    "## 3. Cálculo de Rigideces"
   ],
   "cell_type": "markdown",
   "metadata": {}
  },
  {
   "source": [
    "* La rigidez de cada entrepiso es función de las _rigideces relativas_ de sus elementos."
   ],
   "cell_type": "markdown",
   "metadata": {}
  },
  {
   "source": [
    "### 3.1 Modulo de Elasticidad"
   ],
   "cell_type": "markdown",
   "metadata": {}
  },
  {
   "cell_type": "code",
   "execution_count": 8,
   "metadata": {},
   "outputs": [
    {
     "output_type": "stream",
     "name": "stdout",
     "text": [
      "* Módulo de elasticidad [E]: 200000.0\n"
     ]
    }
   ],
   "source": [
    "E = float(input('* Modulo de elasticidad (Pa): '))\n",
    "print(f'* Módulo de elasticidad [E]: {E}')\n"
   ]
  },
  {
   "source": [
    "### 3.2 Fórmulas de Wilbur-Biggs"
   ],
   "cell_type": "markdown",
   "metadata": {}
  },
  {
   "cell_type": "code",
   "execution_count": 9,
   "metadata": {},
   "outputs": [],
   "source": [
    "## Fórmulas de primer piso\n",
    "\n",
    "# Apoyos articulados\n",
    "def Kp1_articulado(Kc1, Kv1, h1, h2, E):\n",
    "    K = 24 * E\n",
    "    K /= h1\n",
    "    K /= 8 * h1 / Kc1 + (2 * h1 + h2) / Kv1\n",
    "    return K\n",
    "\n",
    "# Apoyos empotrados\n",
    "def Kp1_empotrado(Kc1, Kv1, h1, E):\n",
    "    K = 24 * E\n",
    "    K /= np.power(h1, 2)\n",
    "    K /= 2 / Kc1 + 1 / (Kv1 + Kc1 / 12)\n",
    "    return K"
   ]
  },
  {
   "source": [
    "* Fórmula de primer piso para apoyos articulados:  \n",
    "\n",
    "<br />\n",
    "\n",
    "$$\n",
    "K_i = \\frac{24 \\ E}{H_i \\left[\\displaystyle  \\frac{8H_i}{\\sum k_{c_i}} + \\frac{2H_i + H_{i+1}}{\\sum k_{v_i}}\\right]}\n",
    "$$\n",
    "\n",
    "<br />\n",
    "\n",
    "* Fórmula de primer piso para apoyos empotrados:\n",
    "\n",
    "<br />\n",
    "\n",
    "$$\n",
    "K_i = \\frac{24 \\ E}{H_i^2 \\left[\\displaystyle \\frac{2}{\\sum k_{c_i}}+ \\displaystyle \\frac{1}{\\sum k_{v_i} + \\displaystyle  \\frac{\\sum k_{c_i}}{12}}\\right]}\n",
    "$$\n"
   ],
   "cell_type": "markdown",
   "metadata": {}
  },
  {
   "cell_type": "code",
   "execution_count": 10,
   "metadata": {},
   "outputs": [],
   "source": [
    "# Fórmula de segundo piso con\n",
    "# un primer piso articulado\n",
    "\n",
    "def Kp2_articulado(Kc1, Kv0, Kv1, h0, h1, h2, E):\n",
    "    K = 48 * E\n",
    "    K /= h1\n",
    "    K /= (4 * h1 / Kc1) + ((h1 + h2) / Kv1) + ((2 * h0 + h1) / Kv0)\n",
    "    return K"
   ]
  },
  {
   "source": [
    "* Fórmula para el segundo piso con apoyos articulados:\n",
    "\n",
    "$$\n",
    "K_i = \\frac{48 \\ E}{H_i \\left[\\displaystyle  \\frac{4H_i}{\\sum k_{c_i}} + \\frac{H_i + H_{i+1}}{\\sum k_{v_i}} + \\frac{2 H_{i-1} + H_{i}}{\\sum k_{v_{i-1}}}\\right]}\n",
    "$$\n",
    "\n"
   ],
   "cell_type": "markdown",
   "metadata": {}
  },
  {
   "cell_type": "code",
   "execution_count": 11,
   "metadata": {},
   "outputs": [],
   "source": [
    "# Fórmula general de entrepiso\n",
    "\n",
    "def Kp_entrepiso(Kc1, Kv0, Kv1, h0, h1, h2, E):\n",
    "    K = 48 * E\n",
    "    K /= h1\n",
    "    K /= (4 * h1 / Kc1) + ((h0 + h1) / Kv0) + ((h1 + h2) / Kv1)\n",
    "    return K\n"
   ]
  },
  {
   "source": [
    "* Fórmula general de entrepiso\n",
    "\n",
    "$$\n",
    "K_i = \\frac{48 \\ E}{H_i \\left[\\displaystyle  \\frac{4H_i}{\\sum k_{c_i}} + \\frac{H_{i-1} + H_{i}}{\\sum k_{v_{i-1}}} + \\frac{ H_{i} + H_{i+1}}{\\sum k_{v_{i}}}\\right]}\n",
    "$$"
   ],
   "cell_type": "markdown",
   "metadata": {}
  },
  {
   "source": [
    "### 3.2 Rigideces Relativas de Columnas"
   ],
   "cell_type": "markdown",
   "metadata": {}
  },
  {
   "cell_type": "code",
   "execution_count": 12,
   "metadata": {},
   "outputs": [
    {
     "output_type": "stream",
     "name": "stdout",
     "text": [
      "- Piso 1\n",
      "\t* Columna 1 (Kc): 1041.67\n",
      "\t* Columna 2 (Kc): 1041.67\n",
      "\t* Columna 3 (Kc): 1041.67\n",
      "\t* Columna 4 (Kc): 1041.67\n",
      "\t\t> Kc[Piso1] = 4166.68\n",
      "\n",
      "- Piso 2\n",
      "\t* Columna 1 (Kc): 1041.67\n",
      "\t* Columna 2 (Kc): 1041.67\n",
      "\t* Columna 3 (Kc): 1041.67\n",
      "\t* Columna 4 (Kc): 1041.67\n",
      "\t\t> Kc[Piso2] = 4166.68\n",
      "\n"
     ]
    }
   ],
   "source": [
    "Kc = np.empty((n_pisos, n_col))\n",
    "\n",
    "for i in range(n_pisos):\n",
    "    print(f'- Piso {i + 1}')\n",
    "    for j in range(n_col):\n",
    "        Kc[i, j] = float(input(f'* Piso {i + 1} - Columna {j + 1} [Kc]: '))\n",
    "        print(f'\\t* Columna {j + 1} (Kc): {Kc[i, j]}')\n",
    "\n",
    "        if j == n_col - 1:\n",
    "            print(f'\\t\\t> Kc[Piso{i + 1}] = {sum(Kc[i,:])}\\n')\n"
   ]
  },
  {
   "source": [
    "### 3.3 Rigideces Relativas de Vigas"
   ],
   "cell_type": "markdown",
   "metadata": {}
  },
  {
   "cell_type": "code",
   "execution_count": 13,
   "metadata": {},
   "outputs": [
    {
     "output_type": "stream",
     "name": "stdout",
     "text": [
      "- Piso 1\n",
      "\t* Viga 1 (Kv): 434.03\n",
      "\t* Viga 2 (Kv): 520.83\n",
      "\t* Viga 3 (Kv): 520.83\n",
      "\t\t> Kv[Piso1] = 1475.69\n",
      "\n",
      "- Piso 2\n",
      "\t* Viga 1 (Kv): 434.03\n",
      "\t* Viga 2 (Kv): 520.83\n",
      "\t* Viga 3 (Kv): 520.83\n",
      "\t\t> Kv[Piso2] = 1475.69\n",
      "\n"
     ]
    }
   ],
   "source": [
    "Kv = np.empty((n_pisos, n_vigas))\n",
    "\n",
    "for i in range(n_pisos):\n",
    "    print(f'- Piso {i + 1}')\n",
    "    for j in range(n_vigas):\n",
    "        Kv[i, j] = float(input(f'* Piso {i + 1} - Viga {j + 1} [Kv]: '))\n",
    "        print(f'\\t* Viga {j + 1} (Kv): {Kv[i, j]}')\n",
    "\n",
    "        if j == n_vigas - 1:\n",
    "            print(f'\\t\\t> Kv[Piso{i + 1}] = {sum(Kv[i,:])}\\n')\n"
   ]
  },
  {
   "source": [
    "### 3.4 Rigideces de Entrepisos"
   ],
   "cell_type": "markdown",
   "metadata": {}
  },
  {
   "cell_type": "code",
   "execution_count": 29,
   "metadata": {},
   "outputs": [
    {
     "output_type": "stream",
     "name": "stdout",
     "text": [
      "primer piso empotrado\n\n1475.69 300.0 200000.0\n51851.87871572306\n* Entrepiso 1\n\t> K[1] = 51851.87871572306\n\n* Entrepiso 2\n\t> K[2] = 35639.37666992704\n\n"
     ]
    }
   ],
   "source": [
    "K = []\n",
    "\n",
    "for i in range(n_pisos):\n",
    "    ### Rigideces de elementos ###\n",
    "\n",
    "    ## Columnas ##\n",
    "\n",
    "    # Piso actual\n",
    "    Kc1 = sum(Kc[i,:])\n",
    "\n",
    "    # Piso superior\n",
    "    try: \n",
    "        Kc2 = sum(Kc[i + 1,:])\n",
    "    except IndexError:\n",
    "        Kc2 = 0\n",
    "\n",
    "    # Piso inferior\n",
    "    try: \n",
    "        Kc0 = sum(Kc[i - 1,:])\n",
    "    except IndexError:\n",
    "        Kc0 = 0\n",
    "\n",
    "    ## Vigas ##\n",
    "\n",
    "    # Piso actual\n",
    "    Kv1 = sum(Kv[i,:])\n",
    "\n",
    "    # Piso superior\n",
    "    try: \n",
    "        Kv2 = sum(Kv[i + 1,:])\n",
    "    except IndexError:\n",
    "        Kv2 = 0\n",
    "\n",
    "    # Piso inferior\n",
    "    try: \n",
    "        Kv0 = sum(Kv[i - 1,:])\n",
    "    except IndexError:\n",
    "        Kv0 = 0\n",
    "\n",
    "\n",
    "    ### Elevaciones ###\n",
    "    \n",
    "    # Piso actual\n",
    "    h1 = h[i]\n",
    "\n",
    "    # Piso superior\n",
    "    try:\n",
    "        h2 = h[i + 1]\n",
    "    except IndexError:\n",
    "        h2 = 0\n",
    "\n",
    "    # Piso inferior\n",
    "    try:\n",
    "        h0 = h[i - 1]\n",
    "    except IndexError:\n",
    "        h0 = 0\n",
    "\n",
    "\n",
    "    ### Cálculos ###\n",
    "\n",
    "    if i == 0: # Primer piso\n",
    "        if apoyo_articulado:\n",
    "            K.append(Kp1_articulado(Kc1, Kv1, h1, h2, E))\n",
    "        else:\n",
    "            K.append(Kp1_empotrado(Kc1, Kv1, h1, E))\n",
    "\n",
    "    elif i == 1: # Segundo piso\n",
    "        if apoyo_articulado:\n",
    "            K.append(Kp2_articulado(Kc1, Kv0, Kv1, h0, h1, h2, E))\n",
    "        else:\n",
    "            K.append(Kp_entrepiso(Kc1, Kv0, Kv1, h0, h1, h2, E))\n",
    "    \n",
    "    else:\n",
    "        K.append(Kp_entrepiso(Kc1, Kv0, Kv1, h0, h1, h2, E))\n",
    "\n",
    "    print(f'* Entrepiso {i + 1}')\n",
    "    print(f'\\t> K[{i + 1}] = {K[i]}\\n')\n"
   ]
  },
  {
   "cell_type": "code",
   "execution_count": 15,
   "metadata": {},
   "outputs": [
    {
     "output_type": "execute_result",
     "data": {
      "text/plain": [
       "51851.87871572306"
      ]
     },
     "metadata": {},
     "execution_count": 15
    }
   ],
   "source": [
    "Kp1_empotrado(4166.68, 1475.69, h1, E)"
   ]
  },
  {
   "cell_type": "code",
   "execution_count": null,
   "metadata": {},
   "outputs": [],
   "source": []
  }
 ]
}