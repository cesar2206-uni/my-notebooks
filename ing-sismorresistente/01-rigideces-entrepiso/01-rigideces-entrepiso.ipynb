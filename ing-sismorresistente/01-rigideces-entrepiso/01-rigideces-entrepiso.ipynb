{
 "metadata": {
  "language_info": {
   "codemirror_mode": {
    "name": "ipython",
    "version": 3
   },
   "file_extension": ".py",
   "mimetype": "text/x-python",
   "name": "python",
   "nbconvert_exporter": "python",
   "pygments_lexer": "ipython3",
   "version": "3.9.5"
  },
  "orig_nbformat": 4,
  "kernelspec": {
   "name": "python3",
   "display_name": "Python 3.9.5 64-bit ('base': conda)"
  },
  "interpreter": {
   "hash": "ecf5722fdaf1897a315d257d89d94520bfcaa453217d5becf09b39e73618b0de"
  }
 },
 "nbformat": 4,
 "nbformat_minor": 2,
 "cells": [
  {
   "source": [
    "# I. Rigideces de Entrepiso\n",
    "# Fórmulas de Wilbur-Biggs"
   ],
   "cell_type": "markdown",
   "metadata": {}
  },
  {
   "source": [
    "## 1. Librerías"
   ],
   "cell_type": "markdown",
   "metadata": {}
  },
  {
   "cell_type": "code",
   "execution_count": null,
   "metadata": {},
   "outputs": [],
   "source": [
    "import numpy as np\n",
    "\n",
    "from matplotlib import pyplot as plt"
   ]
  },
  {
   "source": [
    "## 2. Geometría de Pórtico"
   ],
   "cell_type": "markdown",
   "metadata": {}
  },
  {
   "source": [
    "### 2.1 Número de Pisos"
   ],
   "cell_type": "markdown",
   "metadata": {}
  },
  {
   "cell_type": "code",
   "execution_count": null,
   "metadata": {},
   "outputs": [],
   "source": [
    "n_pisos = int(input('* Ingrese el número de pisos: '))\n",
    "\n",
    "print(f'* El pórtico tiene {n_pisos} plantas.')\n"
   ]
  },
  {
   "source": [
    "### 2.2 Elevaciones de Entrepisos"
   ],
   "cell_type": "markdown",
   "metadata": {}
  },
  {
   "cell_type": "code",
   "execution_count": null,
   "metadata": {},
   "outputs": [],
   "source": [
    "h = np.zeros(n_pisos)\n",
    "    \n",
    "for i in range(n_pisos):\n",
    "    h[i] = float(input(f'* Elevación del entrepiso {i + 1} (m): '))\n",
    "\n",
    "for i in range(n_pisos):\n",
    "    print(f'\\n* Elevación H-{n_pisos - i}: {h[n_pisos - i - 1]} m')"
   ]
  },
  {
   "source": [
    "### 2.3 Columnas y Vigas"
   ],
   "cell_type": "markdown",
   "metadata": {}
  },
  {
   "cell_type": "code",
   "execution_count": null,
   "metadata": {},
   "outputs": [],
   "source": [
    "# Número de columnas\n",
    "n_col = int(input('* Indique el número de columnas: '))\n",
    "\n",
    "# Número de vigas por piso\n",
    "n_vigas = n_col - 1\n",
    "\n",
    "print(f'* El pórtico es de {n_col} columnas y ', end = '')\n",
    "\n",
    "if n_vigas > 1:\n",
    "    print(f'{n_vigas} vigas por piso.')\n",
    "else:\n",
    "    print(f'{n_vigas} viga por piso.')\n"
   ]
  },
  {
   "source": [
    "### 2.4 Tipo de Apoyo en la Base"
   ],
   "cell_type": "markdown",
   "metadata": {}
  },
  {
   "cell_type": "code",
   "execution_count": null,
   "metadata": {},
   "outputs": [],
   "source": [
    "while True:\n",
    "    t_apoyo = input('* Tipo de apoyo ([E]mpotrado o [A]rticulado): ')\n",
    "        \n",
    "    if t_apoyo.upper() == 'E':\n",
    "        print('* El pórtico es empotrado en su base.')\n",
    "        apoyo_articulado = False\n",
    "        break\n",
    "    elif t_apoyo.upper() == 'A':\n",
    "        print('* El pórtico es articulado en su base.')\n",
    "        apoyo_articulado = True\n",
    "        break\n",
    "    else:\n",
    "        print('! Ingrese un tipo de apoyo válido.')\n"
   ]
  },
  {
   "source": [
    "### 2.5 Modelo Matemático"
   ],
   "cell_type": "markdown",
   "metadata": {}
  },
  {
   "cell_type": "code",
   "execution_count": null,
   "metadata": {},
   "outputs": [],
   "source": [
    "plt.rcParams['figure.figsize'] = 6, 8\n",
    "plt.rcParams['font.family'] = 'Cascadia Mono'\n",
    "plt.style.use('grayscale')"
   ]
  },
  {
   "cell_type": "code",
   "execution_count": null,
   "metadata": {},
   "outputs": [],
   "source": [
    "ax = plt.axes()\n",
    "ax.set_title('Modelo de Pórtico', fontsize = '25', pad = 20)\n",
    "\n",
    "ax.grid(False)\n",
    "ax.axes.xaxis.set_visible(False)\n",
    "\n",
    "# Trazado de vigas\n",
    "H = 0\n",
    "B = 2 * sum(h) / 3\n",
    "\n",
    "for i in range(n_pisos):\n",
    "    H += h[i]\n",
    "    plt.hlines(H, 0, B, linewidth = 3, color = '#424242')\n",
    "\n",
    "# Trazado de columnas\n",
    "d = 0\n",
    "\n",
    "for i in range(n_col):\n",
    "    plt.vlines(d, 0, H,  linewidth = 3, color = '#424242')\n",
    "    d += B / (n_col - 1)\n",
    "\n",
    "# Ubicación de apoyos\n",
    "if apoyo_articulado:\n",
    "    d = 0\n",
    "    for i in range(n_col):\n",
    "        plt.plot(d, 0, marker = 10, markersize = 16, color = '#424242')\n",
    "        d += B / (n_col - 1)\n",
    "\n",
    "ax.axhline(y = 0, linewidth = 2, color = '#8C8C8C')\n",
    "\n",
    "ax.set_xlim(-B / 4, 5 * B / 4)\n",
    "\n",
    "plt.show()\n"
   ]
  },
  {
   "source": [
    "## 3. Cálculo de Rigideces"
   ],
   "cell_type": "markdown",
   "metadata": {}
  },
  {
   "source": [
    "### 3.1 Modulo de Elasticidad"
   ],
   "cell_type": "markdown",
   "metadata": {}
  },
  {
   "cell_type": "code",
   "execution_count": null,
   "metadata": {},
   "outputs": [],
   "source": [
    "E = float(input('* Modulo de elasticidad (Pa): '))\n",
    "print(f'* Módulo de elasticidad [E]: {E}')\n"
   ]
  },
  {
   "source": [
    "### 3.2 Fórmulas de Wilbur-Biggs"
   ],
   "cell_type": "markdown",
   "metadata": {}
  },
  {
   "cell_type": "code",
   "execution_count": null,
   "metadata": {},
   "outputs": [],
   "source": [
    "## Fórmulas de primer piso\n",
    "\n",
    "# Apoyos articulados\n",
    "def Kp1_articulado(Kc1, Kv1, h1, h2, E):\n",
    "    K = 24 * E\n",
    "    K /= h1\n",
    "    K /= 8 * h1 / Kc1 + (2 * h1 + h2) / Kv1\n",
    "    return K\n",
    "\n",
    "# Apoyos empotrados\n",
    "def Kp1_empotrado(Kc1, Kv1, h1, E):\n",
    "    K = 24 * E\n",
    "    K /= np.power(h1, 2)\n",
    "    K /= 2 / Kc1 + 1 / (Kv1 + Kc1 / 12)\n",
    "    return K"
   ]
  },
  {
   "source": [
    "$Apoyos \\ articulados$\n",
    "\n",
    "$$\n",
    "K_i = \\frac{24 \\ E}{H_i^2 \\left[\\displaystyle \\frac{2}{\\sum k_{c_i}}+ \\displaystyle \\frac{1}{\\sum k_{v_i} + \\displaystyle  \\frac{\\sum k_{c_i}}{12}}\\right]}\n",
    "$$\n",
    "\n",
    "$Apoyos \\ empotrados$\n",
    "\n",
    "$$\n",
    "K_i = \\frac{24 \\ E}{H_i \\left[\\displaystyle  \\frac{8H_i}{\\sum k_{c_i}} + \\frac{2H_i + H_{i+1}}{\\sum k_{v_i}}\\right]}\n",
    "$$"
   ],
   "cell_type": "markdown",
   "metadata": {}
  },
  {
   "cell_type": "code",
   "execution_count": null,
   "metadata": {},
   "outputs": [],
   "source": [
    "# Fórmula de segundo piso con\n",
    "# un primer piso articulado\n",
    "\n",
    "def Kp2_articulado(Kc1, Kv0, Kv1, h0, h1, h2, E):\n",
    "    K = 48 * E\n",
    "    K /= h1\n",
    "    K /= (4 * h1 / Kc1) + ((h1 + h2) / Kv1) + ((2 * h0 + h1) / Kv0)\n",
    "    return K"
   ]
  },
  {
   "source": [
    "$Segundo \\ piso \\ con \\ primer \\ piso \\ articulado$\n",
    "\n",
    "$$\n",
    "K_i = \\frac{48 \\ E}{H_i \\left[\\displaystyle  \\frac{4H_i}{\\sum k_{c_i}} + \\frac{H_i + H_{i+1}}{\\sum k_{v_i}} + \\frac{2 H_{i-1} + H_{i}}{\\sum k_{v_{i-1}}}\\right]}\n",
    "$$\n",
    "\n"
   ],
   "cell_type": "markdown",
   "metadata": {}
  },
  {
   "cell_type": "code",
   "execution_count": null,
   "metadata": {},
   "outputs": [],
   "source": [
    "# Fórmula general de entrepiso\n",
    "\n",
    "def Kp_entrepiso(Kc1, Kv0, Kv1, h0, h1, h2, E):\n",
    "    K = 48 * E\n",
    "    K /= h1\n",
    "    K /= (4 * h1 / Kc1) + ((h0 + h1) / Kv0) + ((h1 + h2) / Kv1)\n",
    "    return K\n"
   ]
  },
  {
   "source": [
    "$Fórmula \\ general \\ de \\ entrepiso$\n",
    "\n",
    "$$\n",
    "K_i = \\frac{48 \\ E}{H_i \\left[\\displaystyle  \\frac{4H_i}{\\sum k_{c_i}} + \\frac{H_{i-1} + H_{i}}{\\sum k_{v_{i-1}}} + \\frac{ H_{i} + H_{i+1}}{\\sum k_{v_{i}}}\\right]}\n",
    "$$"
   ],
   "cell_type": "markdown",
   "metadata": {}
  },
  {
   "source": [
    "### 3.2 Rigideces de Columnas"
   ],
   "cell_type": "markdown",
   "metadata": {}
  },
  {
   "cell_type": "code",
   "execution_count": null,
   "metadata": {},
   "outputs": [],
   "source": [
    "Kc = np.empty((n_pisos, n_col))\n",
    "\n",
    "for i in range(n_pisos):\n",
    "    print(f'- Piso {i + 1}')\n",
    "    for j in range(n_col):\n",
    "        Kc[i, j] = float(input(f'* Piso {i + 1} - Columna {j + 1} [Kc]: '))\n",
    "        print(f'\\t* Columna {j + 1} (Kc): {Kc[i, j]}')\n",
    "\n",
    "        if j == n_col - 1:\n",
    "            print(f'\\t\\t> Kc[Piso{i + 1}] = {sum(Kc[i,:])}\\n')\n"
   ]
  },
  {
   "source": [
    "### 3.3 Rigideces de Vigas"
   ],
   "cell_type": "markdown",
   "metadata": {}
  },
  {
   "cell_type": "code",
   "execution_count": null,
   "metadata": {},
   "outputs": [],
   "source": [
    "Kv = np.empty((n_pisos, n_vigas))\n",
    "\n",
    "for i in range(n_pisos):\n",
    "    print(f'- Piso {i + 1}')\n",
    "    for j in range(n_vigas):\n",
    "        Kv[i, j] = float(input(f'* Piso {i + 1} - Viga {j + 1} [Kv]: '))\n",
    "        print(f'\\t* Viga {j + 1} (Kv): {Kv[i, j]}')\n",
    "\n",
    "        if j == n_vigas - 1:\n",
    "            print(f'\\t\\t> Kv[Piso{i + 1}] = {sum(Kv[i,:])}\\n')\n"
   ]
  },
  {
   "source": [
    "### 3.4 Rigideces de Entrepisos"
   ],
   "cell_type": "markdown",
   "metadata": {}
  },
  {
   "cell_type": "code",
   "execution_count": null,
   "metadata": {},
   "outputs": [],
   "source": [
    "K = np.empty(n_pisos)\n",
    "\n",
    "for i in range(n_pisos):\n",
    "    ### Rigideces de elementos ###\n",
    "\n",
    "    ## Columnas ##\n",
    "\n",
    "    # Piso actual\n",
    "    Kc1 = sum(Kc[i,:])\n",
    "\n",
    "    # Piso superior\n",
    "    try: \n",
    "        Kc2 = sum(Kc[i + 1,:])\n",
    "    except IndexError:\n",
    "        Kc2 = 0\n",
    "\n",
    "    # Piso inferior\n",
    "    try: \n",
    "        Kc0 = sum(Kc[i - 1,:])\n",
    "    except IndexError:\n",
    "        Kc0 = 0\n",
    "\n",
    "    ## Vigas ##\n",
    "\n",
    "    # Piso actual\n",
    "    Kv1 = sum(Kc[i,:])\n",
    "\n",
    "    # Piso superior\n",
    "    try: \n",
    "        Kv2 = sum(Kc[i + 1,:])\n",
    "    except IndexError:\n",
    "        Kv2 = 0\n",
    "\n",
    "    # Piso inferior\n",
    "    try: \n",
    "        Kv0 = sum(Kc[i - 1,:])\n",
    "    except IndexError:\n",
    "        Kv0 = 0\n",
    "\n",
    "\n",
    "    ### Elevaciones ###\n",
    "    \n",
    "    # Piso actual\n",
    "    h1 = h[i]\n",
    "\n",
    "    # Piso superior\n",
    "    try:\n",
    "        h2 = h[i + 1]\n",
    "    except IndexError:\n",
    "        h2 = 0\n",
    "\n",
    "    # Piso inferior\n",
    "    try:\n",
    "        h0 = h[i - 1]\n",
    "    except IndexError:\n",
    "        h0 = 0\n",
    "\n",
    "\n",
    "    ### Cálculos ###\n",
    "\n",
    "    if i == 0: # Primer piso\n",
    "        if apoyo_articulado:\n",
    "            np.append(K, Kp1_articulado(Kc1, Kv1, h1, h2, E))\n",
    "        else:\n",
    "            np.append(K, Kp1_empotrado(Kc1, Kv1, h1, E))\n",
    "\n",
    "    elif i == 1: # Segundo piso\n",
    "        if apoyo_articulado:\n",
    "            np.append(K, Kp2_articulado(Kc1, Kv0, Kv1, h0, h1, h2, E))\n",
    "        else:\n",
    "            np.append(K, Kp_entrepiso(Kc1, Kv0, Kv1, h0, h1, h2, E))\n",
    "    \n",
    "    else:\n",
    "        np.append(K, Kp_entrepiso(Kc1, Kv0, Kv1, h0, h1, h2, E))\n",
    "\n",
    "    print(f'* Entrepiso {i + 1}')\n",
    "    print(f'\\t> K[{i + 1}] = {K[i]}\\n')\n"
   ]
  }
 ]
}