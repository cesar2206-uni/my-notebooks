{
 "metadata": {
  "language_info": {
   "codemirror_mode": {
    "name": "ipython",
    "version": 3
   },
   "file_extension": ".py",
   "mimetype": "text/x-python",
   "name": "python",
   "nbconvert_exporter": "python",
   "pygments_lexer": "ipython3",
   "version": "3.9.5"
  },
  "orig_nbformat": 4,
  "kernelspec": {
   "name": "python3",
   "display_name": "Python 3.9.5 64-bit ('base': conda)"
  },
  "interpreter": {
   "hash": "ecf5722fdaf1897a315d257d89d94520bfcaa453217d5becf09b39e73618b0de"
  }
 },
 "nbformat": 4,
 "nbformat_minor": 2,
 "cells": [
  {
   "source": [
    "# IV. Movimiento en la Base"
   ],
   "cell_type": "markdown",
   "metadata": {}
  },
  {
   "source": [
    "## 1. Librerías"
   ],
   "cell_type": "markdown",
   "metadata": {}
  },
  {
   "cell_type": "code",
   "execution_count": null,
   "metadata": {},
   "outputs": [],
   "source": [
    "import numpy as np\n",
    "np.set_printoptions(formatter = {'float': lambda x: '{0:0.4f}'.format(x)})\n",
    "\n",
    "import matplotlib.pyplot as plt\n",
    "\n",
    "from tabulate import tabulate"
   ]
  },
  {
   "source": [
    "## 2. Grados de Libertad"
   ],
   "cell_type": "markdown",
   "metadata": {}
  },
  {
   "cell_type": "code",
   "execution_count": null,
   "metadata": {},
   "outputs": [],
   "source": [
    "while True:\n",
    "    try:\n",
    "        gdl = int(input('* Ingrese el número de grados de libertad: '))\n",
    "        break\n",
    "    except ValueError:\n",
    "        print('! Ingrese un número de GDL válido.\\n')\n",
    "\n",
    "print(f'* El modelo es de {gdl} GDL.')"
   ]
  },
  {
   "source": [
    "## 3. Modos de Vibración"
   ],
   "cell_type": "markdown",
   "metadata": {}
  },
  {
   "source": [
    "### 3.1 Uso de Modos Normalizados"
   ],
   "cell_type": "markdown",
   "metadata": {}
  },
  {
   "cell_type": "code",
   "execution_count": null,
   "metadata": {},
   "outputs": [],
   "source": [
    "while True:\n",
    "    son_modos_normalizados = input('- ¿Usará los modos normalizados Φ? (S/N): ')\n",
    "\n",
    "    if son_modos_normalizados.upper() == 'S':\n",
    "        simbolo_modo_vibracion = 'Φ'\n",
    "        son_modos_normalizados = True\n",
    "\n",
    "        print('✔ Se usarán modos normalizados. ')\n",
    "        break\n",
    "\n",
    "    elif son_modos_normalizados.upper() == 'N':\n",
    "        simbolo_modo_vibracion = 'x'\n",
    "        son_modos_normalizados = False\n",
    "\n",
    "        print('✘ No se usarán modos normalizados. ')\n",
    "        break\n",
    "\n",
    "    else:\n",
    "        print('! Ingrese una respuesta válida.\\n')"
   ]
  },
  {
   "source": [
    "### 3.2 Vectores de Modos de Vibración"
   ],
   "cell_type": "markdown",
   "metadata": {}
  },
  {
   "cell_type": "code",
   "execution_count": null,
   "metadata": {},
   "outputs": [],
   "source": [
    "phi = np.empty((gdl, gdl))\n",
    "\n",
    "for i in range(gdl):\n",
    "    print(f'* Modo de vibración i = {i + 1}\\n')\n",
    "\n",
    "    while True:\n",
    "        _phi = input(f'- Vector {simbolo_modo_vibracion}{i + 1}: ')\n",
    "        _phi = _phi.split(' ')\n",
    "\n",
    "        try:\n",
    "            phi[i] = np.array([float(j) for j in _phi])\n",
    "            break\n",
    "        except ValueError:\n",
    "            print(f'! Ingrese el vector {simbolo_modo_vibracion} separado por espacios.\\n')\n",
    "\n",
    "    print(f'> {simbolo_modo_vibracion}{i + 1} = {phi[i]}\\n')\n"
   ]
  },
  {
   "source": [
    "## 4. Matriz de Rigidez\n",
    "\n",
    "<br />\n",
    "\n",
    "$$\n",
    "\\textbf{K} = \n",
    " \\begin{pmatrix}\n",
    "  K_1 + K_2 & -K_2 & 0 & \\cdots & 0 & 0  \\\\\n",
    "  -K_2 & K_2 + K_3 & - K_3 & \\cdots & 0  & 0 \\\\\n",
    "  0 & - K_3 &  K_3 + K_4 & \\cdots & 0  & 0 \\\\\n",
    "  \\vdots  & \\vdots  & \\vdots  & \\ddots & \\vdots  & \\vdots   \\\\\n",
    "  0 & 0 &  0 & \\cdots & K_{i-1} + K_{i} & -K_{i}\\\\\n",
    "  0 & 0 &  0 & \\cdots & -K_i & -K_{i}\n",
    " \\end{pmatrix}\n",
    " $$\n"
   ],
   "cell_type": "markdown",
   "metadata": {}
  },
  {
   "source": [
    "### 4.1 Rigideces de Entrepiso"
   ],
   "cell_type": "markdown",
   "metadata": {}
  },
  {
   "cell_type": "code",
   "execution_count": null,
   "metadata": {},
   "outputs": [],
   "source": [
    "k = np.empty(gdl)\n",
    "\n",
    "for i in range(gdl):\n",
    "    while True:\n",
    "        try:\n",
    "            k[i] = float(input(f'* Rigidez K{i + 1} (kg/cm): '))\n",
    "            print(f'\\n> Rigidez K{i + 1} = {k[i]} kg/cm')\n",
    "            break\n",
    "        except ValueError:\n",
    "            print(f'\\n! Ingrese un valor de K{i + 1} válido.')"
   ]
  },
  {
   "source": [
    "### 4.2 Formulación de la Matriz de Rigidez"
   ],
   "cell_type": "markdown",
   "metadata": {}
  },
  {
   "cell_type": "code",
   "execution_count": null,
   "metadata": {},
   "outputs": [],
   "source": [
    "K = np.zeros((gdl, gdl))\n",
    "\n",
    "for i in range(gdl):\n",
    "    ## Cálculo de rigideces\n",
    "\n",
    "    # Rigidez actual\n",
    "    k1 = k[i]\n",
    "\n",
    "    # Rigidez posterior\n",
    "    try:\n",
    "        k2 = k[i + 1]\n",
    "    except IndexError:\n",
    "        k2 = 0\n",
    "\n",
    "    ## Llenado de la matriz\n",
    "\n",
    "    # Posición actual\n",
    "    K[i, i] = k1 + k2\n",
    "\n",
    "    # Posición derecha\n",
    "    if i + 1 < gdl:\n",
    "        K[i, i + 1] = -k2\n",
    "\n",
    "    # Posición izquierda\n",
    "    if i - 1 >= 0:\n",
    "        K[i, i - 1] = -k1"
   ]
  },
  {
   "source": [
    "### 4.3 Representación de la Matriz de Rigidez"
   ],
   "cell_type": "markdown",
   "metadata": {}
  },
  {
   "cell_type": "code",
   "execution_count": null,
   "metadata": {},
   "outputs": [],
   "source": [
    "K_r = tabulate(K, tablefmt = 'fancy_grid')\n",
    "\n",
    "print('• Matriz K =\\n')\n",
    "print(K_r)"
   ]
  },
  {
   "source": [
    "## 5. Matriz de Masas\n",
    "\n",
    "<br />\n",
    "\n",
    "$$\n",
    "\\textbf{M} =\n",
    "\\begin{pmatrix}\n",
    "m_1 &   0   &   \\cdots  &   0   \\\\\n",
    "0   &   m_2 &   \\cdots  &   0   \\\\\n",
    "\\vdots  &   \\vdots  &   \\ddots  &   \\vdots \\\\\n",
    "0   &   0   &   \\cdots  &   m_i   \n",
    "\\end{pmatrix}\n",
    "$$"
   ],
   "cell_type": "markdown",
   "metadata": {}
  },
  {
   "source": [
    "### 5.1 Masas Concentradas"
   ],
   "cell_type": "markdown",
   "metadata": {}
  },
  {
   "cell_type": "code",
   "execution_count": null,
   "metadata": {},
   "outputs": [],
   "source": [
    "m = np.empty(gdl)\n",
    "\n",
    "for i in range(gdl):\n",
    "    while True:\n",
    "        try:\n",
    "            m[i] = float(input(f'* Masa M{i + 1} (kg): '))\n",
    "            print(f'\\n> Masa M{i + 1} = {m[i]} kg')\n",
    "            break\n",
    "        except ValueError:\n",
    "            print(f'\\n! Ingrese un valor de M{i + 1} válido.')"
   ]
  },
  {
   "source": [
    "### 5.2 Formulación de la Matriz de Masas"
   ],
   "cell_type": "markdown",
   "metadata": {}
  },
  {
   "cell_type": "code",
   "execution_count": null,
   "metadata": {},
   "outputs": [],
   "source": [
    "M =  np.zeros((gdl, gdl))\n",
    "\n",
    "for i in range(gdl):\n",
    "    M[i, i] = m[i]"
   ]
  },
  {
   "source": [
    "### 5.4 Representación de la Matriz de Masas"
   ],
   "cell_type": "markdown",
   "metadata": {}
  },
  {
   "cell_type": "code",
   "execution_count": null,
   "metadata": {},
   "outputs": [],
   "source": [
    "M_r = tabulate(M, tablefmt = 'fancy_grid')\n",
    "\n",
    "print('- Matriz M =\\n')\n",
    "print(M_r)"
   ]
  },
  {
   "source": [
    "## 6. Movimiento en la Base"
   ],
   "cell_type": "markdown",
   "metadata": {}
  },
  {
   "source": [
    "### 6.1 Amplitud de la Aceleración en la Base"
   ],
   "cell_type": "markdown",
   "metadata": {}
  },
  {
   "cell_type": "code",
   "execution_count": null,
   "metadata": {},
   "outputs": [],
   "source": [
    "while True:\n",
    "    try:\n",
    "        Ug = float(input('* Ingrese el la amplitud de la aceleración en la base (cm/s2): '))\n",
    "        break\n",
    "    except ValueError:\n",
    "        print('! Ingrese un valor de Ug válido.\\n')\n",
    "\n",
    "print(f'* La amplitud de la aceleración basal es de {Ug:.2f} cm/s2.')"
   ]
  },
  {
   "source": [
    "### 6.2 Frecuencia del Movimiento en la Base"
   ],
   "cell_type": "markdown",
   "metadata": {}
  },
  {
   "cell_type": "code",
   "execution_count": null,
   "metadata": {},
   "outputs": [],
   "source": [
    "while True:\n",
    "    es_mov_armonico = input('- ¿El movimiento en la base es armónico? (S/N): ')\n",
    "\n",
    "    if es_mov_armonico.upper() == 'S':\n",
    "        es_mov_armonico = True\n",
    "\n",
    "        while True:\n",
    "            try:\n",
    "                omega = float(input('* Frecuencia del movimiento en la base (rad/s): '))\n",
    "                break\n",
    "            except ValueError:\n",
    "                print('! Ingrese un valor de Ω válido.\\n')\n",
    "\n",
    "        print(f'* La base acelera con una frecuencia Ω = {omega:.3f} rad/s.')\n",
    "        break\n",
    "\n",
    "    elif es_mov_armonico.upper() == 'N':\n",
    "        es_mov_armonico = False\n",
    "\n",
    "        print('* La base acelera a un pulso constante.')\n",
    "        break\n",
    "\n",
    "    else:\n",
    "        print('! Ingrese una respuesta válida.\\n')"
   ]
  },
  {
   "source": [
    "### 6.3 Amortiguamiento en la Base"
   ],
   "cell_type": "markdown",
   "metadata": {}
  },
  {
   "cell_type": "code",
   "execution_count": null,
   "metadata": {},
   "outputs": [],
   "source": [
    "if es_mov_armonico:\n",
    "    while True:\n",
    "        try:\n",
    "            beta = float(input('* Ingrese el coeficiente de amortiguamiento crítico : '))\n",
    "            break\n",
    "        except ValueError:\n",
    "            print('! Ingrese un valor de β válido.\\n')\n",
    "\n",
    "    print(f'* β = {beta:.3f}.')\n",
    "\n",
    "else:\n",
    "    print('* No hay amortiguamiento en la base.')"
   ]
  },
  {
   "source": [
    "## 7.Factores de Participación Estática  \n",
    "\n",
    "<br />\n",
    "\n",
    "$$\\Gamma_i = \\frac{{X}^T_i \\cdot \\textbf{M} \\cdot I_n}{{X}_i^T \\cdot \\textbf{M} \\cdot {X}_i} \\ \\ \\ \\ \\lor \\ \\ \\ \\ \\Gamma_i = \\displaystyle {\\phi}^T_i \\cdot \\textbf{M}$$ "
   ],
   "cell_type": "markdown",
   "metadata": {}
  },
  {
   "cell_type": "code",
   "execution_count": null,
   "metadata": {},
   "outputs": [],
   "source": [
    "gamma = np.empty(gdl)\n",
    "\n",
    "for i in range(gdl):\n",
    "    gamma[i] = phi[i] @ M @ np.ones(gdl)\n",
    "\n",
    "    if not son_modos_normalizados:\n",
    "        gamma[i] /= phi[i] @ M @ phi[i]\n",
    "\n",
    "    print(f'- Factor Γ{i + 1} = {gamma[i]:.4f}\\n')"
   ]
  },
  {
   "source": [
    "## 8. Superposición Modal  \n",
    "\n",
    "<br />\n",
    "\n",
    "- El desplazamiento de cada uno de los grados de libertad $U_j$, es una _combinación lineal_ de cada uno de los modos de vibración $X$.\n",
    "\n",
    "<br />\n",
    "\n",
    "$$ \\textbf{U} = \\sum_{i=1}^n a_i (t) X_i \\ \\ \\rightarrow \\ \\ \\textbf{U} = {a_1}_{(t)} \\ X_1 + {a_2}_{(t)} \\ X_2 + \\cdots \\ + {a_i}_{(t)}\\ X_i + \\ \\cdots \\ + {a_n}_{(t)} \\ X_n $$\n",
    "\n",
    "<br />\n",
    "\n",
    "- Donde para un pulso súbito en la base:\n",
    "\n",
    "<br />\n",
    "\n",
    "$$ {a_i}_{(t)} = \\frac{\\Gamma_i \\cdot \\ddot U_{G_0}}{\\omega^2_i} \\cdot FAD \\ (t) \\ \\ \\ \\ ; \\ \\ \\ \\ FAD \\ (t) = 1 - \\displaystyle \\cos(w_i \\ t)$$\n",
    "\n",
    "<br />\n",
    "\n",
    "\n",
    "- Y para el caso de una aceleración armónica:  \n",
    "\n",
    "<br />\n",
    "\n",
    "$$ {a_i}_{(t)} = \\frac{\\Gamma_i \\cdot \\sin(\\Omega \\ t)}{\\omega^2_i} \\cdot FAD \\ \\ \\ \\ ; \\ \\ \\ \\ FAD = \\frac{1}{\\displaystyle \\sqrt{\\left( 1-  \\displaystyle \\frac{\\Omega^2}{\\omega^2}\\right)^2 + 4 \\beta^2 \\displaystyle  \\frac{\\Omega^2}{\\omega^2}}} $$"
   ],
   "cell_type": "markdown",
   "metadata": {}
  },
  {
   "source": [
    "### 8.1 Frecuencias Circulares"
   ],
   "cell_type": "markdown",
   "metadata": {}
  },
  {
   "cell_type": "code",
   "execution_count": null,
   "metadata": {},
   "outputs": [],
   "source": [
    "w = np.empty(gdl)\n",
    "\n",
    "for i in range(gdl):\n",
    "    while True:\n",
    "        try:\n",
    "            w[i] = float(input(f'* Frecuencia w{i + 1} (rad/s): '))\n",
    "            print(f'\\n> w{i + 1} = {w[i]} rad/s')\n",
    "            break\n",
    "        except ValueError:\n",
    "            print(f'\\n! Ingrese un valor de w{i + 1} válido.')"
   ]
  },
  {
   "source": [
    "### 8.2 Cálculo de Coeficientes"
   ],
   "cell_type": "markdown",
   "metadata": {}
  },
  {
   "cell_type": "code",
   "execution_count": null,
   "metadata": {},
   "outputs": [],
   "source": [
    "a = np.empty(gdl)\n",
    "\n",
    "if es_mov_armonico:\n",
    "    for i in range(gdl):\n",
    "        a[i] = gamma[i] / np.power(w[i], 2)\n",
    "        a[i] /= np.sqrt(np.power(1 - np.power(omega / w[i], 2), 2) + 4 * np.power(beta * omega / w[i], 2))\n",
    "\n",
    "        print(f'> a{i + 1} →  {a[i]:.4f} • sin({omega:.3f}t)\\n')\n",
    "else:\n",
    "     for i in range(gdl):\n",
    "         a[i] = (gamma[i] * Ug) / np.power(w[i], 2)\n",
    "\n",
    "         print(f'> a{i + 1} →  {a[i]:.4f} • (1 - cos({w[i]:.3f}t))\\n')\n"
   ]
  },
  {
   "source": [
    "### 8.3 Desplazamientos Absolutos"
   ],
   "cell_type": "markdown",
   "metadata": {}
  },
  {
   "cell_type": "code",
   "execution_count": null,
   "metadata": {},
   "outputs": [],
   "source": [
    "U = np.empty((gdl, gdl))\n",
    "Uabs = np.empty(gdl)\n",
    "\n",
    "for i in range(gdl):\n",
    "    print(f'* Desplazamiento del nivel {i + 1}:\\n')\n",
    "\n",
    "    for j in range(gdl):\n",
    "        U[i][j] = a[j] * phi[i][j]\n",
    "\n",
    "        if es_mov_armonico:\n",
    "            print(f'\\t- Modo i = {j + 1} →  U{i + 1}{j + 1} = {U[i][j]:.3f} • sin({omega:.2f}t) cm\\n')\n",
    "\n",
    "        else:\n",
    "            print(f'\\t- Modo i = {j + 1} →  U{i + 1}{j + 1} = {U[i][j]:.3f} • (1 - cos({w[j]:.3f}t)) cm\\n')\n",
    "            \n",
    "    Uabs[i] = sum(U[i])\n",
    "\n",
    "    if es_mov_armonico:\n",
    "        print(f'\\t\\t∴ U{i + 1} = {Uabs[i]:.3f} • sin({omega:.2f}t) cm\\n')\n",
    "\n"
   ]
  },
  {
   "cell_type": "code",
   "execution_count": null,
   "metadata": {},
   "outputs": [],
   "source": []
  }
 ]
}