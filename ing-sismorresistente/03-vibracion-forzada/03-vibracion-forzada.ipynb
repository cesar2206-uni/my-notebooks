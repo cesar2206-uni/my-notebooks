{
 "metadata": {
  "language_info": {
   "codemirror_mode": {
    "name": "ipython",
    "version": 3
   },
   "file_extension": ".py",
   "mimetype": "text/x-python",
   "name": "python",
   "nbconvert_exporter": "python",
   "pygments_lexer": "ipython3",
   "version": "3.9.5"
  },
  "orig_nbformat": 4,
  "kernelspec": {
   "name": "python3",
   "display_name": "Python 3.9.5 64-bit ('base': conda)"
  },
  "interpreter": {
   "hash": "ecf5722fdaf1897a315d257d89d94520bfcaa453217d5becf09b39e73618b0de"
  }
 },
 "nbformat": 4,
 "nbformat_minor": 2,
 "cells": [
  {
   "source": [
    "# III. Vibración Forzada"
   ],
   "cell_type": "markdown",
   "metadata": {}
  },
  {
   "source": [
    "## 1. Librerías"
   ],
   "cell_type": "markdown",
   "metadata": {}
  },
  {
   "cell_type": "code",
   "execution_count": 1,
   "metadata": {},
   "outputs": [],
   "source": [
    "import numpy as np\n",
    "np.set_printoptions(formatter = {'float': lambda x: '{0:0.4f}'.format(x)})\n",
    "\n",
    "import matplotlib.pyplot as plt\n",
    "\n",
    "from tabulate import tabulate"
   ]
  },
  {
   "source": [
    "## 2. Grados de Libertad"
   ],
   "cell_type": "markdown",
   "metadata": {}
  },
  {
   "cell_type": "code",
   "execution_count": 2,
   "metadata": {},
   "outputs": [
    {
     "output_type": "stream",
     "name": "stdout",
     "text": [
      "* El modelo es de 2 GDL.\n"
     ]
    }
   ],
   "source": [
    "while True:\n",
    "    try:\n",
    "        gdl = int(input('* Ingrese el número de grados de libertad: '))\n",
    "        break\n",
    "    except ValueError:\n",
    "        print('! Ingrese un número de GDL válido.\\n')\n",
    "\n",
    "print(f'* El modelo es de {gdl} GDL.')"
   ]
  },
  {
   "source": [
    "## 3. Modos de Vibración"
   ],
   "cell_type": "markdown",
   "metadata": {}
  },
  {
   "source": [
    "### 3.1 Uso de Modos Normalizados"
   ],
   "cell_type": "markdown",
   "metadata": {}
  },
  {
   "cell_type": "code",
   "execution_count": 3,
   "metadata": {},
   "outputs": [
    {
     "output_type": "stream",
     "name": "stdout",
     "text": [
      "✔ Se usarán modos normalizados. \n"
     ]
    }
   ],
   "source": [
    "while True:\n",
    "    son_modos_normalizados = input('- ¿Usará los modos normalizados Φ? (S/N): ')\n",
    "\n",
    "    if son_modos_normalizados.upper() == 'S':\n",
    "        simbolo_modo_vibracion = 'Φ'\n",
    "        son_modos_normalizados = True\n",
    "\n",
    "        print('✔ Se usarán modos normalizados. ')\n",
    "        break\n",
    "\n",
    "    elif son_modos_normalizados.upper() == 'N':\n",
    "        simbolo_modo_vibracion = 'x'\n",
    "        son_modos_normalizados = False\n",
    "\n",
    "        print('✘ No se usarán modos normalizados. ')\n",
    "        break\n",
    "\n",
    "    else:\n",
    "        print('! Ingrese una respuesta válida.\\n')"
   ]
  },
  {
   "source": [
    "### 3.2 Vectores de Modos de Vibración"
   ],
   "cell_type": "markdown",
   "metadata": {}
  },
  {
   "cell_type": "code",
   "execution_count": 4,
   "metadata": {
    "tags": []
   },
   "outputs": [
    {
     "output_type": "stream",
     "name": "stdout",
     "text": [
      "* Modo de vibración i = 1\n",
      "\n",
      "> Φ1 = [0.0334 0.0742]\n",
      "\n",
      "* Modo de vibración i = 2\n",
      "\n",
      "> Φ2 = [0.0731 -0.0339]\n",
      "\n"
     ]
    }
   ],
   "source": [
    "phi = np.empty((gdl, gdl))\n",
    "\n",
    "for i in range(gdl):\n",
    "    print(f'* Modo de vibración i = {i + 1}\\n')\n",
    "\n",
    "    while True:\n",
    "        _phi = input(f'- Vector {simbolo_modo_vibracion}{i + 1}: ')\n",
    "        _phi = _phi.split(' ')\n",
    "\n",
    "        try:\n",
    "            phi[i] = np.array([float(j) for j in _phi])\n",
    "            break\n",
    "        except ValueError:\n",
    "            print(f'! Ingrese el vector {simbolo_modo_vibracion} separado por espacios.\\n')\n",
    "\n",
    "    print(f'> {simbolo_modo_vibracion}{i + 1} = {phi[i]}\\n')\n"
   ]
  },
  {
   "source": [
    "## 4. Matriz de Rigidez  \n",
    "\n",
    "<br />\n",
    "\n",
    "$$\n",
    "\\textbf{K} = \n",
    " \\begin{pmatrix}\n",
    "  K_1 + K_2 & -K_2 & 0 & \\cdots & 0 & 0  \\\\\n",
    "  -K_2 & K_2 + K_3 & - K_3 & \\cdots & 0  & 0 \\\\\n",
    "  0 & - K_3 &  K_3 + K_4 & \\cdots & 0  & 0 \\\\\n",
    "  \\vdots  & \\vdots  & \\vdots  & \\ddots & \\vdots  & \\vdots   \\\\\n",
    "  0 & 0 &  0 & \\cdots & K_{i-1} + K_{i} & -K_{i}\\\\\n",
    "  0 & 0 &  0 & \\cdots & -K_i & -K_{i}\n",
    " \\end{pmatrix}\n",
    " $$"
   ],
   "cell_type": "markdown",
   "metadata": {}
  },
  {
   "source": [
    "### 4.1 Rigideces de Entrepiso"
   ],
   "cell_type": "markdown",
   "metadata": {}
  },
  {
   "cell_type": "code",
   "execution_count": 21,
   "metadata": {},
   "outputs": [
    {
     "output_type": "stream",
     "name": "stdout",
     "text": [
      "\n",
      "> Rigidez K1 = 155555.64 kg/cm\n",
      "\n",
      "> Rigidez K2 = 87179.5 kg/cm\n"
     ]
    }
   ],
   "source": [
    "k = np.empty(gdl)\n",
    "\n",
    "for i in range(gdl):\n",
    "    while True:\n",
    "        try:\n",
    "            k[i] = float(input(f'* Rigidez K{i + 1} (kg/cm): '))\n",
    "            print(f'\\n> Rigidez K{i + 1} = {k[i]} kg/cm')\n",
    "            break\n",
    "        except ValueError:\n",
    "            print(f'\\n! Ingrese un valor de K{i + 1} válido.')"
   ]
  },
  {
   "source": [
    "### 4.2 Formulación de la Matriz de Rigidez"
   ],
   "cell_type": "markdown",
   "metadata": {}
  },
  {
   "cell_type": "code",
   "execution_count": 22,
   "metadata": {},
   "outputs": [],
   "source": [
    "K = np.zeros((gdl, gdl))\n",
    "\n",
    "for i in range(gdl):\n",
    "    ## Cálculo de rigideces\n",
    "\n",
    "    # Rigidez actual\n",
    "    k1 = k[i]\n",
    "\n",
    "    # Rigidez posterior\n",
    "    try:\n",
    "        k2 = k[i + 1]\n",
    "    except IndexError:\n",
    "        k2 = 0\n",
    "\n",
    "    ## Llenado de la matriz\n",
    "\n",
    "    # Posición actual\n",
    "    K[i, i] = k1 + k2\n",
    "\n",
    "    # Posición derecha\n",
    "    if i + 1 < gdl:\n",
    "        K[i, i + 1] = -k2\n",
    "\n",
    "    # Posición izquierda\n",
    "    if i - 1 >= 0:\n",
    "        K[i, i - 1] = -k1"
   ]
  },
  {
   "source": [
    "### 4.3 Representación de la Matriz de Rigidez"
   ],
   "cell_type": "markdown",
   "metadata": {}
  },
  {
   "cell_type": "code",
   "execution_count": 23,
   "metadata": {},
   "outputs": [
    {
     "output_type": "stream",
     "name": "stdout",
     "text": [
      "• Matriz K =\n\n╒══════════╤══════════╕\n│ 242735   │ -87179.5 │\n├──────────┼──────────┤\n│ -87179.5 │  87179.5 │\n╘══════════╧══════════╛\n"
     ]
    }
   ],
   "source": [
    "K_r = tabulate(K, tablefmt = 'fancy_grid')\n",
    "\n",
    "print('• Matriz K =\\n')\n",
    "print(K_r)"
   ]
  },
  {
   "source": [
    "## 5. Matriz de Masas\n",
    "\n",
    "<br />\n",
    "\n",
    "$$\n",
    "\\textbf{M} =\n",
    "\\begin{pmatrix}\n",
    "m_1 &   0   &   \\cdots  &   0   \\\\\n",
    "0   &   m_2 &   \\cdots  &   0   \\\\\n",
    "\\vdots  &   \\vdots  &   \\ddots  &   \\vdots \\\\\n",
    "0   &   0   &   \\cdots  &   m_i   \n",
    "\\end{pmatrix}\n",
    "$$"
   ],
   "cell_type": "markdown",
   "metadata": {}
  },
  {
   "source": [
    "### 5.1 Masas Concentradas"
   ],
   "cell_type": "markdown",
   "metadata": {}
  },
  {
   "source": [
    "if son_modos_normalizados:\n",
    "    print('- Se usarán los vectores normalizados Φi.')\n",
    "    pass\n",
    "else:\n",
    "    m = np.empty(gdl)\n",
    "\n",
    "    for i in range(gdl):\n",
    "        while True:\n",
    "            try:\n",
    "                m[i] = float(input(f'* Masa M{i + 1} (kg): '))\n",
    "                print(f'\\n> Masa M{i + 1} = {m[i]} kg')\n",
    "                break\n",
    "            except ValueError:\n",
    "                print(f'\\n! Ingrese un valor de M{i + 1} válido.')"
   ],
   "cell_type": "code",
   "metadata": {},
   "execution_count": 25,
   "outputs": [
    {
     "output_type": "stream",
     "name": "stdout",
     "text": [
      "- Se usarán los vectores normalizados Φi.\n"
     ]
    }
   ]
  },
  {
   "source": [
    "### 5.2 Formulación de la Matriz de Masas"
   ],
   "cell_type": "markdown",
   "metadata": {}
  },
  {
   "cell_type": "code",
   "execution_count": 26,
   "metadata": {},
   "outputs": [
    {
     "output_type": "stream",
     "name": "stdout",
     "text": [
      "- Se usarán los vectores normalizados Φi.\n"
     ]
    }
   ],
   "source": [
    "if son_modos_normalizados:\n",
    "    print('- Se usarán los vectores normalizados Φi.')\n",
    "    pass\n",
    "else:\n",
    "    M =  np.zeros((gdl, gdl))\n",
    "\n",
    "    for i in range(gdl):\n",
    "        M[i, i] = m[i]"
   ]
  },
  {
   "source": [
    "### 5.3 Representación de la Matriz de Masas"
   ],
   "cell_type": "markdown",
   "metadata": {}
  },
  {
   "cell_type": "code",
   "execution_count": 27,
   "metadata": {},
   "outputs": [
    {
     "output_type": "stream",
     "name": "stdout",
     "text": [
      "- Se usarán los vectores normalizados Φi.\n"
     ]
    }
   ],
   "source": [
    "if son_modos_normalizados:\n",
    "    print('- Se usarán los vectores normalizados Φi.')\n",
    "    pass\n",
    "else:\n",
    "    M_r = tabulate(M, tablefmt = 'fancy_grid')\n",
    "\n",
    "    print('- Matriz M =\\n')\n",
    "    print(M_r)"
   ]
  },
  {
   "source": [
    "## 6. Fuerzas Externas  \n",
    "\n",
    "<br />\n",
    "\n",
    "$$ F = \\begin{bmatrix} F_1 \\\\ F_2 \\\\ \\vdots \\\\ F_n\\end{bmatrix} \\ \\ \\ \\ ; \\ \\ \\ \\ f(t) = \\sin(\\Omega t) $$"
   ],
   "cell_type": "markdown",
   "metadata": {}
  },
  {
   "source": [
    "### 6.1 Vector de Fuerzas"
   ],
   "cell_type": "markdown",
   "metadata": {}
  },
  {
   "cell_type": "code",
   "execution_count": 57,
   "metadata": {},
   "outputs": [
    {
     "output_type": "stream",
     "name": "stdout",
     "text": [
      "\n",
      "> Fuerza F1 = 20000.0 kg\n",
      "\n",
      "> Fuerza F2 = 40000.0 kg\n"
     ]
    }
   ],
   "source": [
    "F = np.empty(gdl)\n",
    "\n",
    "for i in range(gdl):\n",
    "    while True:\n",
    "        try:\n",
    "            F[i] = float(input(f'* Fuerza F{i + 1} (kg): '))\n",
    "            print(f'\\n> Fuerza F{i + 1} = {F[i]} kg')\n",
    "            break\n",
    "        except ValueError:\n",
    "            print(f'\\n! Ingrese un valor de F{i + 1} válido.')\n",
    "\n",
    "F = F.reshape(-1, 1)"
   ]
  },
  {
   "source": [
    "### 6.2 Frecuencia de la Acción Externa"
   ],
   "cell_type": "markdown",
   "metadata": {}
  },
  {
   "cell_type": "code",
   "execution_count": 29,
   "metadata": {},
   "outputs": [
    {
     "output_type": "stream",
     "name": "stdout",
     "text": [
      "! Ingrese un valor de Ω válido.\n",
      "\n",
      "! Ingrese un valor de Ω válido.\n",
      "\n",
      "* La acción externa tiene una frecuencia Ω = 12.566 rad/s.\n"
     ]
    }
   ],
   "source": [
    "while True:\n",
    "    try:\n",
    "        omega = float(input('* Frecuencia de la acción externa (rad/s): '))\n",
    "        break\n",
    "    except ValueError:\n",
    "        print('! Ingrese un valor de Ω válido.\\n')\n",
    "\n",
    "print(f'* La acción externa tiene una frecuencia Ω = {omega:.3f} rad/s.')"
   ]
  },
  {
   "source": [
    "## 7.Factores de Participación Estática  \n",
    "\n",
    "<br />\n",
    "\n",
    "$$\\Gamma_i = \\frac{{X}^T_i \\ F}{{X}_i^T \\cdot \\textbf{M} \\cdot {X}_i} \\ \\ \\ \\ \\lor \\ \\ \\ \\ \\Gamma_i = \\displaystyle {\\phi}^T_i \\ F$$ "
   ],
   "cell_type": "markdown",
   "metadata": {}
  },
  {
   "cell_type": "code",
   "execution_count": 58,
   "metadata": {},
   "outputs": [
    {
     "output_type": "stream",
     "name": "stdout",
     "text": [
      "- Factor Γ1 = 3636.0000\n\n- Factor Γ2 = 106.0000\n\n"
     ]
    }
   ],
   "source": [
    "gamma = np.empty(gdl)\n",
    "\n",
    "for i in range(gdl):\n",
    "    gamma[i] = phi[i] @ F\n",
    "\n",
    "    if not son_modos_normalizados:\n",
    "        gamma[i] /= phi[i] @ M @ phi[i]\n",
    "\n",
    "    print(f'- Factor Γ{i + 1} = {gamma[i]:.4f}\\n')"
   ]
  },
  {
   "cell_type": "code",
   "execution_count": 43,
   "metadata": {},
   "outputs": [
    {
     "output_type": "execute_result",
     "data": {
      "text/plain": [
       "array([[3636.0000],\n",
       "       [106.0000]])"
      ]
     },
     "metadata": {},
     "execution_count": 43
    }
   ],
   "source": [
    "phi @ F"
   ]
  },
  {
   "cell_type": "code",
   "execution_count": 41,
   "metadata": {},
   "outputs": [
    {
     "output_type": "execute_result",
     "data": {
      "text/plain": [
       "array([0.0334, 0.0742])"
      ]
     },
     "metadata": {},
     "execution_count": 41
    }
   ],
   "source": [
    "phi[0]"
   ]
  },
  {
   "source": [
    "## 8. Superposición Modal  \n",
    "\n",
    "<br />\n",
    "\n",
    "- El desplazamiento de cada uno de los grados de libertad $U_j$, es una _combinación lineal_ de cada uno de los modos de vibración $X$.\n",
    "\n",
    "<br />\n",
    "\n",
    "$$ \\textbf{U} = \\sum_{i=1}^n a_i (t) X_i \\ \\ \\rightarrow \\ \\ \\textbf{U} = {a_1}_{(t)} \\ X_1 + {a_2}_{(t)} \\ X_2 + \\cdots \\ + {a_i}_{(t)}\\ X_i + \\ \\cdots \\ + {a_n}_{(t)} \\ X_n $$\n",
    "\n",
    "<br />\n",
    "\n",
    "- Donde:\n",
    "\n",
    "<br />\n",
    "\n",
    "$$ {a_i}_{(t)} = \\frac{\\displaystyle \\Gamma_i}{\\displaystyle \\omega^2_i } \\cdot {\\frac{1}{1- {(\\frac{\\Omega}{\\omega_i})}^2} \\cdot f(t)} $$"
   ],
   "cell_type": "markdown",
   "metadata": {}
  },
  {
   "source": [
    "### 8.1 Frecuencias Circulares"
   ],
   "cell_type": "markdown",
   "metadata": {}
  },
  {
   "cell_type": "code",
   "execution_count": 46,
   "metadata": {},
   "outputs": [
    {
     "output_type": "stream",
     "name": "stdout",
     "text": [
      "\n",
      "> w1 = 17.852 rad/s\n",
      "\n",
      "> w2 = 42.781 rad/s\n"
     ]
    }
   ],
   "source": [
    "w = np.empty(gdl)\n",
    "\n",
    "for i in range(gdl):\n",
    "    while True:\n",
    "        try:\n",
    "            w[i] = float(input(f'* Frecuencia w{i + 1} (rad/s): '))\n",
    "            print(f'\\n> w{i + 1} = {w[i]} rad/s')\n",
    "            break\n",
    "        except ValueError:\n",
    "            print(f'\\n! Ingrese un valor de w{i + 1} válido.')"
   ]
  },
  {
   "source": [
    "### 8.2 Cálculo de Coeficientes"
   ],
   "cell_type": "markdown",
   "metadata": {}
  },
  {
   "cell_type": "code",
   "execution_count": 73,
   "metadata": {},
   "outputs": [
    {
     "output_type": "stream",
     "name": "stdout",
     "text": [
      "> a1 →  22.6147 • sin(12.566t)\n\n> a2 →  0.0634 • sin(12.566t)\n\n"
     ]
    }
   ],
   "source": [
    "a = np.empty(gdl)\n",
    "\n",
    "for i in range(gdl):\n",
    "    a[i] = gamma[i] / np.power(w[i], 2)\n",
    "    a[i] /= 1 - np.power(omega / w[i], 2)\n",
    "\n",
    "    print(f'> a{i + 1} →  {a[i]:.4f} • sin({omega:.3f}t)\\n')\n"
   ]
  },
  {
   "source": [
    "### 8.3 Desplazamientos Absolutos"
   ],
   "cell_type": "markdown",
   "metadata": {}
  },
  {
   "cell_type": "code",
   "execution_count": 88,
   "metadata": {},
   "outputs": [
    {
     "output_type": "stream",
     "name": "stdout",
     "text": [
      "* Desplazamiento del nivel 1:\n\n\t- Modo i = 1 →  U11 = 0.755 • sin(12.57t) cm\n\n\t- Modo i = 2 →  U12 = 0.005 • sin(12.57t) cm\n\n\t\t∴ U1 = 0.760 • sin(12.57t) cm\n\n* Desplazamiento del nivel 2:\n\n\t- Modo i = 1 →  U21 = 1.653 • sin(12.57t) cm\n\n\t- Modo i = 2 →  U22 = -0.002 • sin(12.57t) cm\n\n\t\t∴ U2 = 1.651 • sin(12.57t) cm\n\n"
     ]
    }
   ],
   "source": [
    "U = np.empty((gdl, gdl))\n",
    "\n",
    "for i in range(gdl):\n",
    "    print(f'* Desplazamiento del nivel {i + 1}:\\n')\n",
    "\n",
    "    for j in range(gdl):\n",
    "        U[i][j] = a[j] * phi[i][j]\n",
    "        print(f'\\t- Modo i = {j + 1} →  U{i + 1}{j + 1} = {U[i][j]:.3f} • sin({omega:.2f}t) cm\\n')\n",
    "\n",
    "    print(f'\\t\\t∴ U{i + 1} = {sum(U[i]):.3f} • sin({omega:.2f}t) cm\\n')"
   ]
  }
 ]
}